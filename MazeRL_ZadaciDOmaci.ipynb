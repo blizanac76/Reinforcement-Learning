{
  "nbformat": 4,
  "nbformat_minor": 0,
  "metadata": {
    "colab": {
      "provenance": [],
      "authorship_tag": "ABX9TyO62wkkLH5vGoyWQS4LzzHR",
      "include_colab_link": true
    },
    "kernelspec": {
      "name": "python3",
      "display_name": "Python 3"
    },
    "language_info": {
      "name": "python"
    }
  },
  "cells": [
    {
      "cell_type": "markdown",
      "metadata": {
        "id": "view-in-github",
        "colab_type": "text"
      },
      "source": [
        "<a href=\"https://colab.research.google.com/github/blizanac76/Reinforcement-Learning/blob/main/MazeRL_ZadaciDOmaci.ipynb\" target=\"_parent\"><img src=\"https://colab.research.google.com/assets/colab-badge.svg\" alt=\"Open In Colab\"/></a>"
      ]
    },
    {
      "cell_type": "code",
      "execution_count": 68,
      "metadata": {
        "id": "i5nONxwxwdu0"
      },
      "outputs": [],
      "source": [
        "from abc import ABC, abstractmethod\n",
        "from typing import Iterable\n",
        "from copy import copy\n",
        "\n",
        "import numpy as np\n",
        "import matplotlib.pyplot as plt\n",
        "\n",
        "from random import random\n",
        "import random"
      ]
    },
    {
      "cell_type": "code",
      "source": [
        "class Cell(ABC):\n",
        "\n",
        "    @abstractmethod\n",
        "    def get_reward(self) -> float:\n",
        "        pass\n",
        "\n",
        "    def is_steppable(self) -> bool:\n",
        "        return True\n",
        "\n",
        "    def is_terminal(self) -> bool:\n",
        "        return False\n",
        "\n",
        "    def has_value(self) -> bool:\n",
        "        return True"
      ],
      "metadata": {
        "id": "srww8iQ6w-NL"
      },
      "execution_count": 69,
      "outputs": []
    },
    {
      "cell_type": "code",
      "source": [
        "class RegularCell(Cell):\n",
        "\n",
        "    def __init__(self, reward: float):\n",
        "        self.reward = reward\n",
        "\n",
        "    def get_reward(self) -> float:\n",
        "        return self.reward\n",
        "\n",
        "\n",
        "class TerminalCell(Cell):\n",
        "\n",
        "    def __init__(self, reward: float):\n",
        "        self.reward = reward\n",
        "\n",
        "    def get_reward(self) -> float:\n",
        "        return self.reward\n",
        "\n",
        "    def is_terminal(self) -> bool:\n",
        "        return True\n",
        "\n",
        "    def has_value(self) -> bool:\n",
        "        return False\n",
        "\n",
        "\n",
        "class WallCell(Cell):\n",
        "\n",
        "    def get_reward(self) -> float:\n",
        "        return 0\n",
        "\n",
        "    def is_steppable(self) -> bool:\n",
        "        return False\n",
        "\n",
        "    def has_value(self) -> bool:\n",
        "        return False\n",
        "\n",
        "class TeleportCell(Cell):\n",
        "\n",
        "    def __init__(self, reward: float):\n",
        "        self.reward = reward\n",
        "    def get_reward(self) -> float:\n",
        "        return 0\n",
        "    def is_steppable(self) -> bool:\n",
        "        return True\n",
        "    def has_value(self) -> bool:\n",
        "        return False\n",
        "\n",
        "\n"
      ],
      "metadata": {
        "id": "6416c26KxAQx"
      },
      "execution_count": 37,
      "outputs": []
    },
    {
      "cell_type": "code",
      "source": [
        "class Board:\n",
        "\n",
        "    @staticmethod\n",
        "    def process_cells(cells: list[list[Cell]]):\n",
        "        cells = [list(row) for row in cells] if cells else []\n",
        "        if not cells:\n",
        "            raise Exception(\"Number of rows in a board must be at least one.\")\n",
        "        if not cells[0]:\n",
        "            raise Exception(\"There has to be at least one column.\")\n",
        "        rows_no = len(cells)\n",
        "        cols_no = len(cells[0])\n",
        "        for row in cells:\n",
        "            if not row or len(row) != cols_no:\n",
        "                raise Exception(\n",
        "                    \"Each row in a a board must have the same number of columns. \")\n",
        "        return rows_no, cols_no, cells\n",
        "\n",
        "    def process_pos(self, pos):\n",
        "        r, c = pos\n",
        "        if r < 0 or r >= self.rows_no:\n",
        "            raise Exception(\"Invalid row position.\")\n",
        "        if c < 0 or c >= self.cols_no:\n",
        "            raise Exception(\"Invalid column position.\")\n",
        "        if not cells[r][c].is_steppable():\n",
        "            raise Exception(\"Invalid position: unsteppable cell.\")\n",
        "        return r, c\n",
        "\n",
        "    def __init__(self, cells: Iterable[Iterable[Cell]], pos: tuple[int, int]):\n",
        "        rows_no, cols_no, cells = Board.process_cells(cells)\n",
        "        self.cells = cells\n",
        "        self.rows_no = rows_no\n",
        "        self.cols_no = cols_no\n",
        "        r, c = self.process_pos(pos)\n",
        "        self.row = r\n",
        "        self.col = c\n",
        "\n",
        "    def __getitem__(self, key: tuple[int, int]) -> Cell:\n",
        "        r, c = key\n",
        "        return self.cells[r][c]\n",
        "\n",
        "    def set_position(self, pos):\n",
        "        r, c = self.process_pos(pos)\n",
        "        self.row = r\n",
        "        self.col = c\n",
        "\n",
        "    def current(self):\n",
        "        return self[self.row, self.col]\n",
        "\n",
        "    def move_up(self):\n",
        "        if self.row != 0 and \\\n",
        "           self[self.row-1, self.col].is_steppable():\n",
        "            self.row = self.row-1\n",
        "\n",
        "    def move_down(self):\n",
        "        if self.row != self.rows_no-1 and \\\n",
        "           self[self.row+1, self.col].is_steppable():\n",
        "            self.row = self.row+1\n",
        "\n",
        "    def move_left(self):\n",
        "        if self.col != 0 and \\\n",
        "           self[self.row, self.col-1].is_steppable():\n",
        "            self.col = self.col-1\n",
        "\n",
        "    def move_right(self):\n",
        "        if self.col != self.cols_no-1 and \\\n",
        "           self[self.row, self.col+1].is_steppable():\n",
        "            self.col = self.col+1\n",
        "\n",
        "    def move(self, direction):\n",
        "        if direction == 0:\n",
        "            self.move_right()\n",
        "        elif direction == 1:\n",
        "            self.move_up()\n",
        "        elif direction == 2:\n",
        "            self.move_left()\n",
        "        elif direction == 3:\n",
        "            self.move_down()\n",
        "        else:\n",
        "            raise Exception(\"Invalid direction.\")\n",
        "\n",
        "    def get_states(self):\n",
        "        states = []\n",
        "        for r in range(self.rows_no):\n",
        "            for c in range(self.cols_no):\n",
        "                if self[r, c].is_steppable():\n",
        "                    states.append((r, c))\n",
        "        return states"
      ],
      "metadata": {
        "id": "2NGHNG_3xDAg"
      },
      "execution_count": 38,
      "outputs": []
    },
    {
      "cell_type": "code",
      "source": [
        "def int_to_cell(code: int) -> Cell:\n",
        "    if code == 0:\n",
        "        return RegularCell(-1)\n",
        "    elif code == 1:\n",
        "        return RegularCell(-10)\n",
        "    elif code == 2:\n",
        "        return WallCell()\n",
        "    elif code == 3:\n",
        "        return TerminalCell(-1)\n",
        "    elif code == 4:\n",
        "        return TeleportCell(-1)"
      ],
      "metadata": {
        "id": "Sc7PmusqxGYQ"
      },
      "execution_count": 39,
      "outputs": []
    },
    {
      "cell_type": "code",
      "source": [
        "cell_codes = np.random.choice(5, size=(8, 8), p=[0.6, 0.1, 0.1, 0.1, 0.1])\n",
        "print(cell_codes)"
      ],
      "metadata": {
        "colab": {
          "base_uri": "https://localhost:8080/"
        },
        "id": "Ncam0V5txJ7h",
        "outputId": "aeb76a65-e0af-4ddc-f48d-15ca290ba46c"
      },
      "execution_count": 40,
      "outputs": [
        {
          "output_type": "stream",
          "name": "stdout",
          "text": [
            "[[0 0 0 0 4 0 0 0]\n",
            " [0 3 0 3 0 0 0 0]\n",
            " [4 0 0 3 0 4 0 4]\n",
            " [2 0 0 0 0 0 0 1]\n",
            " [2 0 3 2 0 2 0 3]\n",
            " [0 4 0 0 3 0 1 3]\n",
            " [0 0 0 0 0 3 0 0]\n",
            " [1 0 2 1 0 0 2 1]]\n"
          ]
        }
      ]
    },
    {
      "cell_type": "code",
      "source": [
        "def draw_board(board: Board, draw_pos=True):\n",
        "    board_img = np.ones(shape=(board.rows_no, board.cols_no, 3), dtype=np.uint8)\n",
        "    for i in range(board.rows_no):\n",
        "        for j in range(board.cols_no):\n",
        "            if isinstance(board[i, j], RegularCell):\n",
        "                if board[i, j].get_reward() == -1:\n",
        "                    board_img[i, j, :] = [255, 255, 255] # Regular cell\n",
        "                else:\n",
        "                    board_img[i, j, :] = [255, 0, 0] # Regular cell with penalty\n",
        "            elif isinstance(board[i, j], WallCell):\n",
        "                board_img[i, j, :] = [0, 0, 0] # Wall cell\n",
        "            elif isinstance(board[i, j], TeleportCell):\n",
        "                board_img[i, j, :] = [0, 100, 0] #Teleport Cell\n",
        "            else:\n",
        "                board_img[i, j, :] = [0, 0, 255] # Terminal cell\n",
        "    #board_img[board.row, board.col, :] = [255, 255, 0]\n",
        "    plt.imshow(board_img, )\n",
        "    if draw_pos:\n",
        "        plt.text(board.col-0.1, board.row+0.1, \"X\", fontweight=\"bold\")"
      ],
      "metadata": {
        "id": "TZuqjlLNxM9w"
      },
      "execution_count": 41,
      "outputs": []
    },
    {
      "cell_type": "code",
      "source": [
        "cells = [[int_to_cell(cell_codes[i, j]) for i in range(cell_codes.shape[0])] for j in range(cell_codes.shape[1])]"
      ],
      "metadata": {
        "id": "VqMs54JyxU-h"
      },
      "execution_count": 42,
      "outputs": []
    },
    {
      "cell_type": "code",
      "source": [
        "board = Board(cells, (0, 0))"
      ],
      "metadata": {
        "id": "Pahk46F6xWeJ"
      },
      "execution_count": 43,
      "outputs": []
    },
    {
      "cell_type": "code",
      "source": [
        "draw_board(board)"
      ],
      "metadata": {
        "colab": {
          "base_uri": "https://localhost:8080/",
          "height": 430
        },
        "id": "Yp1uGt4rxYMJ",
        "outputId": "e4397b53-728f-488b-eda8-ff65d8184200"
      },
      "execution_count": 44,
      "outputs": [
        {
          "output_type": "display_data",
          "data": {
            "text/plain": [
              "<Figure size 640x480 with 1 Axes>"
            ],
            "image/png": "[encoded data removed]"
          },
          "metadata": {}
        }
      ]
    },
    {
      "cell_type": "code",
      "source": [
        "board.move(0)\n",
        "\n",
        "\n"
      ],
      "metadata": {
        "id": "qLNcBQs99buL"
      },
      "execution_count": 46,
      "outputs": []
    },
    {
      "cell_type": "code",
      "source": [
        "draw_board(board)"
      ],
      "metadata": {
        "colab": {
          "base_uri": "https://localhost:8080/",
          "height": 430
        },
        "id": "S5zNLfgy9t0P",
        "outputId": "4b579e9f-5a2a-4966-a477-c512e4aac274"
      },
      "execution_count": 47,
      "outputs": [
        {
          "output_type": "display_data",
          "data": {
            "text/plain": [
              "<Figure size 640x480 with 1 Axes>"
            ],
            "image/png": "[encoded data removed]"
          },
          "metadata": {}
        }
      ]
    },
    {
      "cell_type": "code",
      "source": [
        "Xc, Yc = board.row, board.col\n",
        "if isinstance(board.current(), TeleportCell):\n",
        "    print(\"teleportujem se\")\n",
        "    board.set_position((5, 5))\n"
      ],
      "metadata": {
        "id": "2aez8Yb4jleM",
        "colab": {
          "base_uri": "https://localhost:8080/"
        },
        "outputId": "45892c3e-0036-4a82-9e1d-df02b2cc183d"
      },
      "execution_count": 62,
      "outputs": [
        {
          "output_type": "stream",
          "name": "stdout",
          "text": [
            "Standing on a teleport cell\n"
          ]
        }
      ]
    },
    {
      "cell_type": "code",
      "source": [
        "draw_board(board)"
      ],
      "metadata": {
        "colab": {
          "base_uri": "https://localhost:8080/",
          "height": 430
        },
        "id": "YMl50uBq45Wv",
        "outputId": "9dfa5879-abd2-47c7-d12c-d3f7bf4edb9c"
      },
      "execution_count": 63,
      "outputs": [
        {
          "output_type": "display_data",
          "data": {
            "text/plain": [
              "<Figure size 640x480 with 1 Axes>"
            ],
            "image/png": "[encoded data removed]"
          },
          "metadata": {}
        }
      ]
    },
    {
      "cell_type": "markdown",
      "source": [
        "Dodavanje optimalne vrednosti stanja:\n"
      ],
      "metadata": {
        "id": "GcDbXVon_yIB"
      }
    },
    {
      "cell_type": "code",
      "source": [
        "def OptimalStateValue(board):\n",
        "    GAMMA = 1\n",
        "    DELTA = 0.01\n",
        "    states = board.get_states()\n",
        "    Value = {id(s): random.random() for s in states}  # Using id() to get a unique identifier for each state\n",
        "\n",
        "    while True:\n",
        "        Value_novo = {}\n",
        "        delta = 0\n",
        "        for s in states:\n",
        "            max_value = float('-inf')\n",
        "            for action in range(4):\n",
        "                board.set_position(s)\n",
        "                board.move(action)\n",
        "                new_state = board.current()\n",
        "                value = new_state.get_reward() + GAMMA * Value[id(new_state)]  # Use the unique identifier as the dictionary key\n",
        "                max_value = max(max_value, value)\n",
        "            Value_novo[id(s)] = max_value\n",
        "            delta = max(delta, abs(Value_novo[id(s)] - Value[id(s)]))\n",
        "\n",
        "        if delta < DELTA:\n",
        "            break\n",
        "\n",
        "        Value = Value_novo.copy()\n",
        "\n",
        "    return Value\n"
      ],
      "metadata": {
        "id": "LwT_VuYGDaEc"
      },
      "execution_count": 73,
      "outputs": []
    },
    {
      "cell_type": "code",
      "source": [
        "optimal_values = OptimalStateValue(board)\n"
      ],
      "metadata": {
        "colab": {
          "base_uri": "https://localhost:8080/",
          "height": 297
        },
        "id": "dHD4ygaRDsp6",
        "outputId": "9efb787a-54a3-4adc-e2b2-61e880d71ded"
      },
      "execution_count": 74,
      "outputs": [
        {
          "output_type": "error",
          "ename": "KeyError",
          "evalue": "ignored",
          "traceback": [
            "\u001b[0;31m---------------------------------------------------------------------------\u001b[0m",
            "\u001b[0;31mKeyError\u001b[0m                                  Traceback (most recent call last)",
            "\u001b[0;32m<ipython-input-74-4c668b9a8049>\u001b[0m in \u001b[0;36m<cell line: 1>\u001b[0;34m()\u001b[0m\n\u001b[0;32m----> 1\u001b[0;31m \u001b[0moptimal_values\u001b[0m \u001b[0;34m=\u001b[0m \u001b[0mOptimalStateValue\u001b[0m\u001b[0;34m(\u001b[0m\u001b[0mboard\u001b[0m\u001b[0;34m)\u001b[0m\u001b[0;34m\u001b[0m\u001b[0;34m\u001b[0m\u001b[0m\n\u001b[0m",
            "\u001b[0;32m<ipython-input-73-edeaf5b09722>\u001b[0m in \u001b[0;36mOptimalStateValue\u001b[0;34m(board)\u001b[0m\n\u001b[1;32m     14\u001b[0m                 \u001b[0mboard\u001b[0m\u001b[0;34m.\u001b[0m\u001b[0mmove\u001b[0m\u001b[0;34m(\u001b[0m\u001b[0maction\u001b[0m\u001b[0;34m)\u001b[0m\u001b[0;34m\u001b[0m\u001b[0;34m\u001b[0m\u001b[0m\n\u001b[1;32m     15\u001b[0m                 \u001b[0mnew_state\u001b[0m \u001b[0;34m=\u001b[0m \u001b[0mboard\u001b[0m\u001b[0;34m.\u001b[0m\u001b[0mcurrent\u001b[0m\u001b[0;34m(\u001b[0m\u001b[0;34m)\u001b[0m\u001b[0;34m\u001b[0m\u001b[0;34m\u001b[0m\u001b[0m\n\u001b[0;32m---> 16\u001b[0;31m                 \u001b[0mvalue\u001b[0m \u001b[0;34m=\u001b[0m \u001b[0mnew_state\u001b[0m\u001b[0;34m.\u001b[0m\u001b[0mget_reward\u001b[0m\u001b[0;34m(\u001b[0m\u001b[0;34m)\u001b[0m \u001b[0;34m+\u001b[0m \u001b[0mGAMMA\u001b[0m \u001b[0;34m*\u001b[0m \u001b[0mValue\u001b[0m\u001b[0;34m[\u001b[0m\u001b[0mid\u001b[0m\u001b[0;34m(\u001b[0m\u001b[0mnew_state\u001b[0m\u001b[0;34m)\u001b[0m\u001b[0;34m]\u001b[0m  \u001b[0;31m# Use the unique identifier as the dictionary key\u001b[0m\u001b[0;34m\u001b[0m\u001b[0;34m\u001b[0m\u001b[0m\n\u001b[0m\u001b[1;32m     17\u001b[0m                 \u001b[0mmax_value\u001b[0m \u001b[0;34m=\u001b[0m \u001b[0mmax\u001b[0m\u001b[0;34m(\u001b[0m\u001b[0mmax_value\u001b[0m\u001b[0;34m,\u001b[0m \u001b[0mvalue\u001b[0m\u001b[0;34m)\u001b[0m\u001b[0;34m\u001b[0m\u001b[0;34m\u001b[0m\u001b[0m\n\u001b[1;32m     18\u001b[0m             \u001b[0mValue_novo\u001b[0m\u001b[0;34m[\u001b[0m\u001b[0mid\u001b[0m\u001b[0;34m(\u001b[0m\u001b[0ms\u001b[0m\u001b[0;34m)\u001b[0m\u001b[0;34m]\u001b[0m \u001b[0;34m=\u001b[0m \u001b[0mmax_value\u001b[0m\u001b[0;34m\u001b[0m\u001b[0;34m\u001b[0m\u001b[0m\n",
            "\u001b[0;31mKeyError\u001b[0m: 135606160814816"
          ]
        }
      ]
    },
    {
      "cell_type": "code",
      "source": [
        "for state, value in optimal_values.items():\n",
        "    print(f\"State {state}: Optimal Value = {value}\")"
      ],
      "metadata": {
        "id": "-fZ63ltHDtvL"
      },
      "execution_count": null,
      "outputs": []
    },
    {
      "cell_type": "code",
      "source": [
        "def OptimalStateValue():\n",
        "  GAMMA = 1\n",
        "  DELTA = 0.01\n",
        "  Value = []\n",
        "  Value_novo = []\n",
        "  for s in board.get_states():\n",
        "    Value[s] = random.random()\n",
        "\n",
        "  for s in board.get_states():\n",
        "    Value_novo[s] = max(s.get_reward() + GAMMA*Value[board.move(0)], s.get_reward() + GAMMA*Value[board.move(1)], s.get_reward() + GAMMA*Value[board.move(2), s.get_reward()\n",
        "    + GAMMA*Value[board.move(3)]])\n",
        "\n",
        ""
      ],
      "metadata": {
        "id": "wQp9Pkom_wyI"
      },
      "execution_count": 65,
      "outputs": []
    }
  ]
}