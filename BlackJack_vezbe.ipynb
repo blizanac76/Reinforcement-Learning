{
  "nbformat": 4,
  "nbformat_minor": 0,
  "metadata": {
    "colab": {
      "provenance": [],
      "authorship_tag": "ABX9TyNI8KISrLhronlwVyLwazPo",
      "include_colab_link": true
    },
    "kernelspec": {
      "name": "python3",
      "display_name": "Python 3"
    },
    "language_info": {
      "name": "python"
    }
  },
  "cells": [
    {
      "cell_type": "markdown",
      "metadata": {
        "id": "view-in-github",
        "colab_type": "text"
      },
      "source": [
        "<a href=\"https://colab.research.google.com/github/blizanac76/Reinforcement-Learning/blob/main/BlackJack_vezbe.ipynb\" target=\"_parent\"><img src=\"https://colab.research.google.com/assets/colab-badge.svg\" alt=\"Open In Colab\"/></a>"
      ]
    },
    {
      "cell_type": "code",
      "execution_count": 9,
      "metadata": {
        "id": "Su-Is2oO5rNL"
      },
      "outputs": [],
      "source": [
        "from enum import Enum\n",
        "from dataclasses import dataclass, astuple\n",
        "from typing import Callable\n",
        "from random import random, randint, choices\n",
        "from copy import deepcopy\n",
        "\n",
        "from tqdm import trange\n",
        "from rich import print\n",
        "\n",
        "import numpy as np\n",
        "import matplotlib.pyplot as plt"
      ]
    },
    {
      "cell_type": "markdown",
      "source": [
        "Klasa CardSuit definise znakove karata iz decka"
      ],
      "metadata": {
        "id": "4D2IyjIQ5zzE"
      }
    },
    {
      "cell_type": "code",
      "source": [
        "class CardSuit(Enum):\n",
        "    \"\"\"An enumeration representing card suits.\"\"\"\n",
        "\n",
        "    DIAMONDS = 0\n",
        "    CLUBS = 1\n",
        "    HEARTS = 2\n",
        "    SPADES = 3\n",
        "\n",
        "    def __repr__(self):\n",
        "        match self:\n",
        "            case CardSuit.DIAMONDS:\n",
        "                return \"♦\"\n",
        "            case CardSuit.CLUBS:\n",
        "                return \"♣\"\n",
        "            case CardSuit.HEARTS:\n",
        "                return \"♥\"\n",
        "            case CardSuit.SPADES:\n",
        "                return \"♠\""
      ],
      "metadata": {
        "id": "PaQai_8Y5vZf"
      },
      "execution_count": 10,
      "outputs": []
    },
    {
      "cell_type": "markdown",
      "source": [
        "CardValue definise vrednosti svake karte i njeno slovo"
      ],
      "metadata": {
        "id": "dRlJnJf36KZ8"
      }
    },
    {
      "cell_type": "code",
      "source": [
        "class CardValue(Enum):\n",
        "    \"\"\"An enumeration representing card values.\"\"\"\n",
        "\n",
        "    ACE = 1\n",
        "    TWO = 2\n",
        "    THREE = 3\n",
        "    FOUR = 4\n",
        "    FIVE = 5\n",
        "    SIX = 6\n",
        "    SEVEN = 7\n",
        "    EIGHT = 8\n",
        "    NINE = 9\n",
        "    TEN = 10\n",
        "    JACK = 12\n",
        "    DAME = 13\n",
        "    KING = 14\n",
        "\n",
        "    def __repr__(self):\n",
        "        if self == CardValue.ACE:\n",
        "            return \"A\"\n",
        "        elif self.value >= 2 and self.value <= 10:\n",
        "            return str(self.value)\n",
        "        elif self == CardValue.JACK:\n",
        "            return \"J\"\n",
        "        elif self == CardValue.DAME:\n",
        "            return \"D\"\n",
        "        elif self == CardValue.KING:\n",
        "            return \"K\""
      ],
      "metadata": {
        "id": "GUrovjEf6C5f"
      },
      "execution_count": 11,
      "outputs": []
    },
    {
      "cell_type": "markdown",
      "source": [
        "Card kombinuje gore dve klase i pravi kartu od komponenti"
      ],
      "metadata": {
        "id": "xFtWMeDT7Iq8"
      }
    },
    {
      "cell_type": "code",
      "source": [
        "@dataclass\n",
        "class Card:\n",
        "    \"\"\"A playing card.\"\"\"\n",
        "    value: CardValue\n",
        "    suit: CardSuit\n",
        "\n",
        "    def __repr__(self):\n",
        "        return f\"{repr(self.value)}{repr(self.suit)}\""
      ],
      "metadata": {
        "id": "PvZgUpCp7EIW"
      },
      "execution_count": 12,
      "outputs": []
    },
    {
      "cell_type": "code",
      "source": [
        "Card(value=CardValue.JACK, suit=CardSuit.CLUBS)"
      ],
      "metadata": {
        "colab": {
          "base_uri": "https://localhost:8080/"
        },
        "id": "5Ct_YsBK7TsL",
        "outputId": "1e34c6c8-de1f-4501-d4cf-9dfdff0ff29e"
      },
      "execution_count": 13,
      "outputs": [
        {
          "output_type": "execute_result",
          "data": {
            "text/plain": [
              "J♣"
            ]
          },
          "metadata": {},
          "execution_count": 13
        }
      ]
    },
    {
      "cell_type": "markdown",
      "source": [
        "Izvlacenje jedne karte od beskonacno,"
      ],
      "metadata": {
        "id": "fIe6N_J07ooP"
      }
    },
    {
      "cell_type": "code",
      "source": [
        "#za beskonacan spil\n",
        "class DrawCard:\n",
        "    def __init__(self):\n",
        "        # napravi spil karata\n",
        "        self.deck = [Card(value, suit) for value in CardValue for suit in CardSuit]\n",
        "\n",
        "  #verovatnoce za izvlacenje svake karte iz spila\n",
        "  #izvuci_jednu_kartu = draw_one_card na engleskom zbog ostatka koda\n",
        "    def draw_one_card(self):\n",
        "\n",
        "        karta_verovatnoca = {\n",
        "            CardValue.KING: 4,\n",
        "            CardValue.JACK: 4,\n",
        "            CardValue.DAME: 4,\n",
        "            CardValue.TEN: 4,\n",
        "            CardValue.TWO: 4,\n",
        "            CardValue.THREE: 4,\n",
        "            CardValue.FIVE: 4,\n",
        "            CardValue.SIX: 4,\n",
        "            CardValue.SEVEN: 4,\n",
        "            CardValue.EIGHT: 4,\n",
        "            CardValue.NINE: 4,\n",
        "            CardValue.ACE: 489\n",
        "        }\n",
        "        #prodji kroz sve karte u napravljenom spilu iz inita, za kartu proveri jel definisana verovatnoca za njenu vrednost\n",
        "        # 'i' je promenljva koja se nece koristiti, iterator\n",
        "        # za svaku kartu koja prodje pocetni uslov, formiraj ukupnu verovatnocu\n",
        "        cards = [card for card in self.deck if card.value in karta_verovatnoca for i in range(karta_verovatnoca[card.value])]\n",
        "\n",
        "        #random.choices(a, size=None, replace=True, p=None)\n",
        "        #a je niz, tuple ili drugi brojivi tip podatka koji saljem (niz). k=1 je broj instanci iz niza koje izvlacim. izvlacim jednu kartu\n",
        "        drawn_card = choices(cards, k=1)\n",
        "        #vrati izvucenu kartu\n",
        "        return drawn_card\n",
        "\n",
        "\n",
        "#draw_card = DrawCard.draw_one_card() nece\n",
        "draw_card = DrawCard()\n",
        "\n",
        "drawn_card = draw_card.draw_one_card()\n",
        "\n",
        "print(\"Drawn card:\", drawn_card[0])\n"
      ],
      "metadata": {
        "colab": {
          "base_uri": "https://localhost:8080/",
          "height": 50
        },
        "id": "qrk9eaXl9Cm8",
        "outputId": "19c180cf-b084-408f-ce40-356940633c97"
      },
      "execution_count": 69,
      "outputs": [
        {
          "output_type": "display_data",
          "data": {
            "text/plain": [
              "Drawn card:\n",
              "A♣\n"
            ],
            "text/html": [
              "<pre style=\"white-space:pre;overflow-x:auto;line-height:normal;font-family:Menlo,'DejaVu Sans Mono',consolas,'Courier New',monospace\">Drawn card:\n",
              "A♣\n",
              "</pre>\n"
            ]
          },
          "metadata": {}
        }
      ]
    },
    {
      "cell_type": "markdown",
      "source": [
        "treba implementirati stanja i politiku. treba voditi racuna o:"
      ],
      "metadata": {
        "id": "XZnbQsT_GFzc"
      }
    },
    {
      "cell_type": "markdown",
      "source": [
        "the current player total; <br>\n",
        "if this total is created using an ACE which can be converted to 1, if needed; <br> and <br>\n",
        "the value of the dealer's card"
      ],
      "metadata": {
        "id": "9v5X6CynGRhx"
      }
    },
    {
      "cell_type": "code",
      "source": [
        "class State:\n",
        "    \"\"\"The state of a Blackjack game\"\"\"\n",
        "    total: int\n",
        "    has_ace: bool\n",
        "    dealer_total: int\n",
        "\n",
        "    def __hash__(self):\n",
        "        return hash(astuple(self))\n",
        "\n",
        "    def __repr__(self):\n",
        "        return repr(astuple(self))"
      ],
      "metadata": {
        "id": "Np-Fxo1f7UV0"
      },
      "execution_count": 70,
      "outputs": []
    },
    {
      "cell_type": "code",
      "source": [
        "#def play_or_not(drawn_card : DrawCard):\n",
        " # if  drawn_card == CardValue.ACE:\n",
        " #   print(\"as\")\n",
        "\n",
        "\n",
        "def update_total(card_value: CardValue, drawn_card: DrawCard):\n",
        "  if card_value == CardValue.ACE:\n",
        "    print(\"izvucen je ace\")\n",
        "  else:\n",
        "    print(\"nije izvucen ace\")\n",
        "  if drawn_card == CardValue.ACE:\n",
        "    print(\"izvucen je ace\")\n",
        "  else:\n",
        "    print(\"nije izvucen ace\")"
      ],
      "metadata": {
        "id": "wBnoqGAN8_D1"
      },
      "execution_count": 79,
      "outputs": []
    },
    {
      "cell_type": "code",
      "source": [],
      "metadata": {
        "id": "O9AIbfDCLMdl"
      },
      "execution_count": 77,
      "outputs": []
    }
  ]
}