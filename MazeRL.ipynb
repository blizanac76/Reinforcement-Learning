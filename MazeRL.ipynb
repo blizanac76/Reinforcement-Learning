{
  "nbformat": 4,
  "nbformat_minor": 0,
  "metadata": {
    "colab": {
      "provenance": [],
      "authorship_tag": "ABX9TyNxFIEgr5RtTTv1Aw7WBg1b",
      "include_colab_link": true
    },
    "kernelspec": {
      "name": "python3",
      "display_name": "Python 3"
    },
    "language_info": {
      "name": "python"
    }
  },
  "cells": [
    {
      "cell_type": "markdown",
      "metadata": {
        "id": "view-in-github",
        "colab_type": "text"
      },
      "source": [
        "<a href=\"https://colab.research.google.com/github/blizanac76/Reinforcement-Learning/blob/main/MazeRL.ipynb\" target=\"_parent\"><img src=\"https://colab.research.google.com/assets/colab-badge.svg\" alt=\"Open In Colab\"/></a>"
      ]
    },
    {
      "cell_type": "code",
      "execution_count": 2,
      "metadata": {
        "id": "i5nONxwxwdu0"
      },
      "outputs": [],
      "source": [
        "from abc import ABC, abstractmethod\n",
        "from typing import Iterable\n",
        "from copy import copy\n",
        "\n",
        "import numpy as np\n",
        "import matplotlib.pyplot as plt\n",
        "\n",
        "from random import random"
      ]
    },
    {
      "cell_type": "code",
      "source": [
        "class Cell(ABC):\n",
        "\n",
        "    @abstractmethod\n",
        "    def get_reward(self) -> float:\n",
        "        pass\n",
        "\n",
        "    def is_steppable(self) -> bool:\n",
        "        return True\n",
        "\n",
        "    def is_terminal(self) -> bool:\n",
        "        return False\n",
        "\n",
        "    def has_value(self) -> bool:\n",
        "        return True"
      ],
      "metadata": {
        "id": "srww8iQ6w-NL"
      },
      "execution_count": 3,
      "outputs": []
    },
    {
      "cell_type": "code",
      "source": [
        "class RegularCell(Cell):\n",
        "\n",
        "    def __init__(self, reward: float):\n",
        "        self.reward = reward\n",
        "\n",
        "    def get_reward(self) -> float:\n",
        "        return self.reward\n",
        "\n",
        "\n",
        "class TerminalCell(Cell):\n",
        "\n",
        "    def __init__(self, reward: float):\n",
        "        self.reward = reward\n",
        "\n",
        "    def get_reward(self) -> float:\n",
        "        return self.reward\n",
        "\n",
        "    def is_terminal(self) -> bool:\n",
        "        return True\n",
        "\n",
        "    def has_value(self) -> bool:\n",
        "        return False\n",
        "\n",
        "\n",
        "class WallCell(Cell):\n",
        "\n",
        "    def get_reward(self) -> float:\n",
        "        return 0\n",
        "\n",
        "    def is_steppable(self) -> bool:\n",
        "        return False\n",
        "\n",
        "    def has_value(self) -> bool:\n",
        "        return False"
      ],
      "metadata": {
        "id": "6416c26KxAQx"
      },
      "execution_count": 4,
      "outputs": []
    },
    {
      "cell_type": "code",
      "source": [
        "class Board:\n",
        "\n",
        "    @staticmethod\n",
        "    def process_cells(cells: list[list[Cell]]):\n",
        "        cells = [list(row) for row in cells] if cells else []\n",
        "        if not cells:\n",
        "            raise Exception(\"Number of rows in a board must be at least one.\")\n",
        "        if not cells[0]:\n",
        "            raise Exception(\"There has to be at least one column.\")\n",
        "        rows_no = len(cells)\n",
        "        cols_no = len(cells[0])\n",
        "        for row in cells:\n",
        "            if not row or len(row) != cols_no:\n",
        "                raise Exception(\n",
        "                    \"Each row in a a board must have the same number of columns. \")\n",
        "        return rows_no, cols_no, cells\n",
        "\n",
        "    def process_pos(self, pos):\n",
        "        r, c = pos\n",
        "        if r < 0 or r >= self.rows_no:\n",
        "            raise Exception(\"Invalid row position.\")\n",
        "        if c < 0 or c >= self.cols_no:\n",
        "            raise Exception(\"Invalid column position.\")\n",
        "        if not cells[r][c].is_steppable():\n",
        "            raise Exception(\"Invalid position: unsteppable cell.\")\n",
        "        return r, c\n",
        "\n",
        "    def __init__(self, cells: Iterable[Iterable[Cell]], pos: tuple[int, int]):\n",
        "        rows_no, cols_no, cells = Board.process_cells(cells)\n",
        "        self.cells = cells\n",
        "        self.rows_no = rows_no\n",
        "        self.cols_no = cols_no\n",
        "        r, c = self.process_pos(pos)\n",
        "        self.row = r\n",
        "        self.col = c\n",
        "\n",
        "    def __getitem__(self, key: tuple[int, int]) -> Cell:\n",
        "        r, c = key\n",
        "        return self.cells[r][c]\n",
        "\n",
        "    def set_position(self, pos):\n",
        "        r, c = self.process_pos(pos)\n",
        "        self.row = r\n",
        "        self.col = c\n",
        "\n",
        "    def current(self):\n",
        "        return self[self.row, self.col]\n",
        "\n",
        "    def move_up(self):\n",
        "        if self.row != 0 and \\\n",
        "           self[self.row-1, self.col].is_steppable():\n",
        "            self.row = self.row-1\n",
        "\n",
        "    def move_down(self):\n",
        "        if self.row != self.rows_no-1 and \\\n",
        "           self[self.row+1, self.col].is_steppable():\n",
        "            self.row = self.row+1\n",
        "\n",
        "    def move_left(self):\n",
        "        if self.col != 0 and \\\n",
        "           self[self.row, self.col-1].is_steppable():\n",
        "            self.col = self.col-1\n",
        "\n",
        "    def move_right(self):\n",
        "        if self.col != self.cols_no-1 and \\\n",
        "           self[self.row, self.col+1].is_steppable():\n",
        "            self.col = self.col+1\n",
        "\n",
        "    def move(self, direction):\n",
        "        if direction == 0:\n",
        "            self.move_right()\n",
        "        elif direction == 1:\n",
        "            self.move_up()\n",
        "        elif direction == 2:\n",
        "            self.move_left()\n",
        "        elif direction == 3:\n",
        "            self.move_down()\n",
        "        else:\n",
        "            raise Exception(\"Invalid direction.\")\n",
        "\n",
        "    def get_states(self):\n",
        "        states = []\n",
        "        for r in range(self.rows_no):\n",
        "            for c in range(self.cols_no):\n",
        "                if self[r, c].is_steppable():\n",
        "                    states.append((r, c))\n",
        "        return states"
      ],
      "metadata": {
        "id": "2NGHNG_3xDAg"
      },
      "execution_count": 5,
      "outputs": []
    },
    {
      "cell_type": "code",
      "source": [
        "def int_to_cell(code: int) -> Cell:\n",
        "    if code == 0:\n",
        "        return RegularCell(-1)\n",
        "    elif code == 1:\n",
        "        return RegularCell(-10)\n",
        "    elif code == 2:\n",
        "        return WallCell()\n",
        "    elif code == 3:\n",
        "        return TerminalCell(-1)"
      ],
      "metadata": {
        "id": "Sc7PmusqxGYQ"
      },
      "execution_count": 6,
      "outputs": []
    },
    {
      "cell_type": "code",
      "source": [
        "cell_codes = np.random.choice(4, size=(8, 8), p=[0.7, 0.1, 0.1, 0.1])\n",
        "print(cell_codes)"
      ],
      "metadata": {
        "colab": {
          "base_uri": "https://localhost:8080/"
        },
        "id": "Ncam0V5txJ7h",
        "outputId": "1b547bdf-3c4c-4a78-ac50-40d331afae67"
      },
      "execution_count": 7,
      "outputs": [
        {
          "output_type": "stream",
          "name": "stdout",
          "text": [
            "[[0 0 1 0 0 0 1 0]\n",
            " [0 0 0 3 0 2 0 1]\n",
            " [0 0 2 0 0 0 0 0]\n",
            " [0 0 0 0 0 0 0 1]\n",
            " [3 0 0 3 0 0 3 0]\n",
            " [0 0 0 0 0 0 0 0]\n",
            " [0 0 0 0 0 0 0 0]\n",
            " [3 1 0 3 2 3 0 3]]\n"
          ]
        }
      ]
    },
    {
      "cell_type": "code",
      "source": [
        "def draw_board(board: Board, draw_pos=True):\n",
        "    board_img = np.ones(shape=(board.rows_no, board.cols_no, 3), dtype=np.uint8)\n",
        "    for i in range(board.rows_no):\n",
        "        for j in range(board.cols_no):\n",
        "            if isinstance(board[i, j], RegularCell):\n",
        "                if board[i, j].get_reward() == -1:\n",
        "                    board_img[i, j, :] = [255, 255, 255] # Regular cell\n",
        "                else:\n",
        "                    board_img[i, j, :] = [255, 0, 0] # Regular cell with penalty\n",
        "            elif isinstance(board[i, j], WallCell):\n",
        "                board_img[i, j, :] = [0, 0, 0] # Wall cell\n",
        "            else:\n",
        "                board_img[i, j, :] = [0, 0, 255] # Terminal cell\n",
        "    #board_img[board.row, board.col, :] = [255, 255, 0]\n",
        "    plt.imshow(board_img, )\n",
        "    if draw_pos:\n",
        "        plt.text(board.col-0.1, board.row+0.1, \"X\", fontweight=\"bold\")"
      ],
      "metadata": {
        "id": "TZuqjlLNxM9w"
      },
      "execution_count": 8,
      "outputs": []
    },
    {
      "cell_type": "code",
      "source": [
        "cells = [[int_to_cell(cell_codes[i, j]) for i in range(cell_codes.shape[0])] for j in range(cell_codes.shape[1])]"
      ],
      "metadata": {
        "id": "VqMs54JyxU-h"
      },
      "execution_count": 9,
      "outputs": []
    },
    {
      "cell_type": "code",
      "source": [
        "board = Board(cells, (0, 0))"
      ],
      "metadata": {
        "id": "Pahk46F6xWeJ"
      },
      "execution_count": 10,
      "outputs": []
    },
    {
      "cell_type": "code",
      "source": [
        "draw_board(board)"
      ],
      "metadata": {
        "colab": {
          "base_uri": "https://localhost:8080/",
          "height": 430
        },
        "id": "Yp1uGt4rxYMJ",
        "outputId": "df3b1cd7-2b6b-419b-a365-976cc52ae041"
      },
      "execution_count": 11,
      "outputs": [
        {
          "output_type": "display_data",
          "data": {
            "text/plain": [
              "<Figure size 640x480 with 1 Axes>"
            ],
            "image/png": "[encoded data removed]"
          },
          "metadata": {}
        }
      ]
    },
    {
      "cell_type": "code",
      "source": [
        "board.move(0)"
      ],
      "metadata": {
        "id": "qLNcBQs99buL"
      },
      "execution_count": 20,
      "outputs": []
    },
    {
      "cell_type": "code",
      "source": [
        "draw_board(board)"
      ],
      "metadata": {
        "colab": {
          "base_uri": "https://localhost:8080/",
          "height": 430
        },
        "id": "S5zNLfgy9t0P",
        "outputId": "1cc55da0-05d8-4bc5-fc1e-50788d07001b"
      },
      "execution_count": 21,
      "outputs": [
        {
          "output_type": "display_data",
          "data": {
            "text/plain": [
              "<Figure size 640x480 with 1 Axes>"
            ],
            "image/png": "[encoded data removed]"
          },
          "metadata": {}
        }
      ]
    },
    {
      "cell_type": "code",
      "source": [],
      "metadata": {
        "id": "2aez8Yb4jleM"
      },
      "execution_count": null,
      "outputs": []
    }
  ]
}