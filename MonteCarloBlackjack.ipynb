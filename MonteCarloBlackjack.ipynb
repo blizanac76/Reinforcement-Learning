{
  "nbformat": 4,
  "nbformat_minor": 0,
  "metadata": {
    "colab": {
      "provenance": [],
      "include_colab_link": true
    },
    "kernelspec": {
      "name": "python3",
      "display_name": "Python 3"
    },
    "language_info": {
      "name": "python"
    }
  },
  "cells": [
    {
      "cell_type": "markdown",
      "metadata": {
        "id": "view-in-github",
        "colab_type": "text"
      },
      "source": [
        "<a href=\"https://colab.research.google.com/github/blizanac76/Reinforcement-Learning/blob/main/MonteCarloBlackjack.ipynb\" target=\"_parent\"><img src=\"https://colab.research.google.com/assets/colab-badge.svg\" alt=\"Open In Colab\"/></a>"
      ]
    },
    {
      "cell_type": "markdown",
      "source": [
        "# Blackjack D3\n"
      ],
      "metadata": {
        "id": "aqpz3DxcYI3U"
      }
    },
    {
      "cell_type": "markdown",
      "source": [
        "Zadatak: Umesto da imamo dilera i igraca, igra se igra kao da postoje 2 obicna igraca, ali tako da prvu rundu igrac 1 ,a drugu rundu posle njega igrac 2. U svakoj igri igraci dobijaju po jednu kartu i imaju jednu zajednicku kartu. Svaki od igraca igra HIT ili HOLD akciju. Ako jedan igrac postane BUSTED ili odigra akciju HOLD, drugi igrac nastavlja da buce karte sve dok i on ne bude BUSTED ili izabere HOLD. Na kraju igrac sa najvecim zbirom <= 21 pobedjuje. Nakon svake partije svaki igrac dobija +1, -1 ili 0 u zavisnosti od toga da li je pobedio, izgubio ili odigrao nereseno."
      ],
      "metadata": {
        "id": "iBYgxpuWYIn5"
      }
    },
    {
      "cell_type": "markdown",
      "source": [
        "## Potrebne biblioteke"
      ],
      "metadata": {
        "id": "1q9CYvIkYNje"
      }
    },
    {
      "cell_type": "code",
      "execution_count": null,
      "metadata": {
        "id": "RahIEw-CYD7u"
      },
      "outputs": [],
      "source": [
        "from enum import Enum\n",
        "from dataclasses import dataclass, astuple\n",
        "from typing import Callable\n",
        "from random import random, randint\n",
        "from copy import deepcopy\n",
        "import matplotlib.patches as mpatches\n",
        "\n",
        "from tqdm import trange\n",
        "from rich import print\n",
        "\n",
        "import numpy as np\n",
        "import matplotlib.pyplot as plt"
      ]
    },
    {
      "cell_type": "markdown",
      "source": [
        "## Klasa Card\n",
        "Svaka karta se sastoji od uredjenog para znak, vrednost tako da nam za ovu klasu treba jos dve klase koje ce biti klasa znaka i klase vrednosti."
      ],
      "metadata": {
        "id": "A5DG7HjcYRCf"
      }
    },
    {
      "cell_type": "markdown",
      "source": [
        "### Klasa CardSuit"
      ],
      "metadata": {
        "id": "z7g1PlOpYT_k"
      }
    },
    {
      "cell_type": "code",
      "source": [
        "class CardSuit(Enum):\n",
        "    DIAMONDS = 0\n",
        "    CLUBS = 1\n",
        "    HEARTS = 2\n",
        "    SPADES = 3\n",
        "    def __repr__(self):\n",
        "        match self:\n",
        "            case CardSuit.DIAMONDS:\n",
        "                return \"♦\"\n",
        "            case CardSuit.CLUBS:\n",
        "                return \"♣\"\n",
        "            case CardSuit.HEARTS:\n",
        "                return \"♥\"\n",
        "            case CardSuit.SPADES:\n",
        "                return \"♠\""
      ],
      "metadata": {
        "id": "pUjTCgGRYV8G"
      },
      "execution_count": null,
      "outputs": []
    },
    {
      "cell_type": "markdown",
      "source": [
        "### Klasa CardValue"
      ],
      "metadata": {
        "id": "KvzgvrvlYbdm"
      }
    },
    {
      "cell_type": "code",
      "source": [
        "class CardValue(Enum):\n",
        "    ACE = 1\n",
        "    TWO = 2\n",
        "    THREE = 3\n",
        "    FOUR = 4\n",
        "    FIVE = 5\n",
        "    SIX = 6\n",
        "    SEVEN = 7\n",
        "    EIGHT = 8\n",
        "    NINE = 9\n",
        "    TEN = 10\n",
        "    JACK = 12\n",
        "    DAME = 13\n",
        "    KING = 14\n",
        "    #ACE2 = 11\n",
        "    def __repr__(self):\n",
        "        if self == CardValue.ACE:\n",
        "            return \"A\"\n",
        "        elif 2 <= self.value <= 10:\n",
        "            return str(self.value)\n",
        "        elif self == CardValue.JACK:\n",
        "            return \"J\"\n",
        "        elif self == CardValue.DAME:\n",
        "            return \"D\"\n",
        "        elif self == CardValue.KING:\n",
        "            return \"K\"\n"
      ],
      "metadata": {
        "id": "yyjVnQRtYn1a"
      },
      "execution_count": null,
      "outputs": []
    },
    {
      "cell_type": "markdown",
      "source": [
        "### Klasa Card"
      ],
      "metadata": {
        "id": "lwdV-XIBZ6GJ"
      }
    },
    {
      "cell_type": "code",
      "source": [
        "@dataclass\n",
        "class Card:\n",
        "    value: CardValue\n",
        "    suit: CardSuit\n",
        "    def __repr__(self):\n",
        "        return f\"{repr(self.value)}{repr(self.suit)}\""
      ],
      "metadata": {
        "id": "cdnMIfurZ-Ro"
      },
      "execution_count": null,
      "outputs": []
    },
    {
      "cell_type": "markdown",
      "source": [
        "## Klasa CardDeck\n"
      ],
      "metadata": {
        "id": "O0ViF4SOaDGX"
      }
    },
    {
      "cell_type": "code",
      "source": [
        "class CardDeck:\n",
        "    # ugnjezdeni for pravi spil od 52 karte koji se mnozi sa multiplicity. Na kraju formiranja spila se random izmesa.\n",
        "    def reshuffle(self):\n",
        "        self.cards = self.multiplicity * [\n",
        "            Card(value=v, suit=s) for v in iter(CardValue) for s in iter(CardSuit)\n",
        "        ]\n",
        "        np.random.shuffle(self.cards)\n",
        "\n",
        "    def __init__(self, multiplicity=5):\n",
        "        self.multiplicity = multiplicity\n",
        "        self.reshuffle()\n",
        "    # izbacuje poslednju kartu iz spila i spil ostaje bez te karte\n",
        "    def draw(self):\n",
        "        if not self.cards:\n",
        "            self.reshuffle()\n",
        "        return self.cards.pop(0)"
      ],
      "metadata": {
        "id": "ebk3pSiyZ-LD"
      },
      "execution_count": null,
      "outputs": []
    },
    {
      "cell_type": "markdown",
      "source": [
        "## Klasa State\n",
        "Stanje se sastoji od sume karata koje igrac ima, informacije da li ima AS-a i sume karata koje diler ima.\n",
        "\n"
      ],
      "metadata": {
        "id": "NW4poKExcyrX"
      }
    },
    {
      "cell_type": "code",
      "source": [
        "@dataclass\n",
        "class State:\n",
        "    total: int\n",
        "    has_ace: bool\n",
        "    dealer_total: int\n",
        "\n",
        "    def __hash__(self):\n",
        "        return hash(astuple(self))\n",
        "\n",
        "    def __repr__(self):\n",
        "        return repr(astuple(self))"
      ],
      "metadata": {
        "id": "av4xUivHZ-I4"
      },
      "execution_count": null,
      "outputs": []
    },
    {
      "cell_type": "markdown",
      "source": [
        "AS je specijalna karta koja moze da ima vredonst 1/11 tako da zbog njega imamo slozeniju strukturu funckije update_total(), jer vrednost naseg zbira karata nije jednoznacna."
      ],
      "metadata": {
        "id": "Fozv20VadOfP"
      }
    },
    {
      "cell_type": "code",
      "source": [
        "def update_total(total: int, has_ace: bool, card_value: CardValue) -> tuple[int, bool]:\n",
        "    if card_value == CardValue.ACE:\n",
        "        if total + 11 <= 21:\n",
        "           # mozemo da zadrzimo AS kao 11 jer je suma manja od 21\n",
        "            return (total + 11, True)\n",
        "        else:\n",
        "            # ne mozemo da zadrzimo AS kao 11 jer je suma veca od 21\n",
        "            return (total + 1, has_ace)\n",
        "    else:\n",
        "        # saturiramo vece karte od 10 na 10\n",
        "        total += min(card_value.value, 10)\n",
        "        if total > 21:\n",
        "            # gledamo da spasemo igraca od BUST-a, a ti ce biti u slucaju da ima AS-a\n",
        "            if has_ace:\n",
        "                # racunamo AS-a kao 1 umesto 11 i spasavamo igraca\n",
        "                total -= 10\n",
        "                return (total, False)\n",
        "            else:\n",
        "                # ne mozemo da ga spasimo\n",
        "                return (total, has_ace)\n",
        "        # zbir je manji od 21\n",
        "        return (total, has_ace)\n"
      ],
      "metadata": {
        "id": "2H6em5MJZ-GV"
      },
      "execution_count": null,
      "outputs": []
    },
    {
      "cell_type": "markdown",
      "source": [
        "## Funkcija random_state()\n",
        "Random stanje je jako bitno za treniranje naseg agenta, jer cemo tako pokriti mnogo vise slucajeva."
      ],
      "metadata": {
        "id": "LMbOggO8f3ZL"
      }
    },
    {
      "cell_type": "code",
      "source": [
        "def random_state() -> State:\n",
        "    # nasumicnu sumu karata generisemo\n",
        "    total = randint(2, 21)\n",
        "    if total >= 11:\n",
        "        r = random()\n",
        "        if r >= 0.5:\n",
        "            has_ace = True\n",
        "        else:\n",
        "            has_ace = False\n",
        "    else:\n",
        "        has_ace = False\n",
        "    dealer_value = randint(2, 11)\n",
        "    return State(total, has_ace, dealer_value)"
      ],
      "metadata": {
        "id": "0Y3yfCVGZ9_B"
      },
      "execution_count": null,
      "outputs": []
    },
    {
      "cell_type": "markdown",
      "source": [
        "## Funkcija get_init_state()"
      ],
      "metadata": {
        "id": "QJ3zoBi7hVTj"
      }
    },
    {
      "cell_type": "code",
      "source": [
        "def get_init_state(\n",
        "     #operator | nam sluzi ovde kao operator ili\n",
        "    state: State | str | None,\n",
        "    deck: CardDeck,\n",
        "    common_card: Card | None,\n",
        "    debug: bool = False,\n",
        ") -> State:\n",
        "    # ako nemamo state, napravicemo\n",
        "    if state is None:\n",
        "        player_card = deck.draw()\n",
        "        total, has_ace = update_total(0, False, player_card.value)\n",
        "        if common_card is None:\n",
        "            raise ValueError(\"Common card cannot be None\")\n",
        "\n",
        "        common_card_value = min(common_card.value.value, 10)\n",
        "        if debug:\n",
        "            print(f\"Player initial hand: {player_card}, {common_card}\")\n",
        "        return State(total, has_ace, common_card_value)\n",
        "    else:\n",
        "        #ako je neki string, jer ako zelimo random stanje poslacemo string \"random\", u durgim slucajevima saljemo None ili State\n",
        "        if isinstance(state, str):\n",
        "            assert state == \"random\", f\"Invalid init state specification: '{state}'\"\n",
        "            return random_state()\n",
        "        #ako je zapravo zadatao stanje neko pri pozivanju funkcije\n",
        "        else:\n",
        "            return state\n"
      ],
      "metadata": {
        "id": "uO3rHM6FZ83u"
      },
      "execution_count": null,
      "outputs": []
    },
    {
      "cell_type": "markdown",
      "source": [
        "## Funkcija get_init_states()\n",
        "Pomocu prethodne funkcije inicijalizujemo stanja za oba igraca"
      ],
      "metadata": {
        "id": "k71gWtFllrBW"
      }
    },
    {
      "cell_type": "code",
      "source": [
        "def get_init_states(deck: CardDeck, debug: bool = False) -> (State, State):\n",
        "    # vuce se zajednicka karta\n",
        "    common_card = deck.draw()\n",
        "\n",
        "    # inicijalizujemo stanje za prvog igraca\n",
        "    player1_state = get_init_state(None, deck, common_card, debug)\n",
        "    player1_state.total, player1_state.has_ace = update_total(\n",
        "        player1_state.total, player1_state.has_ace, common_card.value\n",
        "    )\n",
        "\n",
        "    # inicijalizujemo stanje za drugog igraca\n",
        "    player2_state = get_init_state(None, deck, common_card, debug)\n",
        "    player2_state.total, player2_state.has_ace = update_total(\n",
        "        player2_state.total, player2_state.has_ace, common_card.value\n",
        "    )\n",
        "    return player1_state, player2_state"
      ],
      "metadata": {
        "id": "LfZgpNejlsVb"
      },
      "execution_count": null,
      "outputs": []
    },
    {
      "cell_type": "markdown",
      "source": [
        "## Funkcija all_states()\n",
        "Pravimo listu svih stanja koja ce nam kasnije biti potrebna."
      ],
      "metadata": {
        "id": "lTU2P2Wfmaxc"
      }
    },
    {
      "cell_type": "code",
      "source": [
        "def all_states() -> list[State]:\n",
        "    states = []\n",
        "    for total in range(2, 22):\n",
        "        for dealer_value in range(2, 12):\n",
        "        #for dealer_value in range(2,21)\n",
        "            states.append(State(total, False, dealer_value))\n",
        "            if total >= 11:\n",
        "                states.append(State(total, True, dealer_value))\n",
        "    return states"
      ],
      "metadata": {
        "id": "C2jElVrrmcjM"
      },
      "execution_count": null,
      "outputs": []
    },
    {
      "cell_type": "markdown",
      "source": [
        "## Klasa Action()"
      ],
      "metadata": {
        "id": "iUEGtIAwm5yO"
      }
    },
    {
      "cell_type": "code",
      "source": [
        "class Action(Enum):\n",
        "    HIT = 0\n",
        "    HOLD = 1\n",
        "    def __repr__(self):\n",
        "        return \"HIT\" if self == Action.HIT else \"HOLD\""
      ],
      "metadata": {
        "id": "F6r48o9EnHUb"
      },
      "execution_count": null,
      "outputs": []
    },
    {
      "cell_type": "markdown",
      "source": [
        "## Funkcija random_action()"
      ],
      "metadata": {
        "id": "Q6HrdePInt8y"
      }
    },
    {
      "cell_type": "code",
      "source": [
        "def random_action() -> Action:\n",
        "    r = random()\n",
        "    if r <= 0.5:\n",
        "        return Action.HIT\n",
        "    else:\n",
        "        return Action.HOLD"
      ],
      "metadata": {
        "id": "NZOH0hxPnubQ"
      },
      "execution_count": null,
      "outputs": []
    },
    {
      "cell_type": "markdown",
      "source": [
        "## Politika"
      ],
      "metadata": {
        "id": "Wg-y-uSqnuuc"
      }
    },
    {
      "cell_type": "markdown",
      "source": [
        "### Random politika"
      ],
      "metadata": {
        "id": "UaLSbKV7oPUx"
      }
    },
    {
      "cell_type": "code",
      "source": [
        "def random_policy(s: State) -> Action:\n",
        "    return random_action()"
      ],
      "metadata": {
        "id": "kmBsZhB8nvMB"
      },
      "execution_count": null,
      "outputs": []
    },
    {
      "cell_type": "markdown",
      "source": [
        "### Dilerova politika"
      ],
      "metadata": {
        "id": "UuouzTB9oqAa"
      }
    },
    {
      "cell_type": "code",
      "source": [
        "def dealer_policy(state: State) -> Action:\n",
        "    # ako je suma ispod 17 HIT-uje, inace HOLD-uje\n",
        "    return Action.HIT if state.total < 17 else Action.HOLD"
      ],
      "metadata": {
        "id": "yHvrde6aoxxM"
      },
      "execution_count": null,
      "outputs": []
    },
    {
      "cell_type": "markdown",
      "source": [
        "Politiku cemo pozivati u ovoj formi, a callable oznacava da ce na tom mestu biti neka funkcija, tj. u nasem slucaju neka politika."
      ],
      "metadata": {
        "id": "fZpgEsA6plLu"
      }
    },
    {
      "cell_type": "code",
      "source": [
        "Policy = Callable[[State], Action]"
      ],
      "metadata": {
        "id": "Cpepg2aMphLI"
      },
      "execution_count": null,
      "outputs": []
    },
    {
      "cell_type": "markdown",
      "source": [
        "## Funkcija get_init_action()\n"
      ],
      "metadata": {
        "id": "-_wOQkzrou-r"
      }
    },
    {
      "cell_type": "code",
      "source": [
        "def get_init_action(\n",
        "    action: Action | str | None, state: State, policy: Policy\n",
        ") -> Action:\n",
        "    if action is not None:\n",
        "        # ako je neki string\n",
        "        if isinstance(action, str):\n",
        "            assert action == \"random\", f\"Ivalid init action specification: '{action}'\"\n",
        "            return random_action()\n",
        "        #ako je zapravo akcija\n",
        "        else:\n",
        "            return action\n",
        "    # ako je akcija None onda zovemo politiku nad stanjem\n",
        "    else:\n",
        "        return policy(state)"
      ],
      "metadata": {
        "id": "-9-8RdzFp0sc"
      },
      "execution_count": null,
      "outputs": []
    },
    {
      "cell_type": "markdown",
      "source": [
        "TrunLog koirstimo da pamtimo zapazanja, dok je ReportCallback samo prati proces igranja."
      ],
      "metadata": {
        "id": "0hG3me7Ur0dV"
      }
    },
    {
      "cell_type": "code",
      "source": [
        "TurnLog = list[tuple[State, Action]]\n",
        "ReportCallback = Callable[[str], None]"
      ],
      "metadata": {
        "id": "L8sRZi6_qttW"
      },
      "execution_count": null,
      "outputs": []
    },
    {
      "cell_type": "markdown",
      "source": [
        "## Funkcija play_turn()\n",
        "Ovo je jedan potez agenta. Argumenti koje prima funkcija su: politika koju koristi agent, spil karata iz kojeg se vuce karta, inicijalno stanje, inicijalna akcija. Funkcija nam vraca novu sumu agneta ili None ako je BUSTED i zapazanja, tj. sekvencu stanje i akcija tokom igranja."
      ],
      "metadata": {
        "id": "LroAd3lQq0h0"
      }
    },
    {
      "cell_type": "code",
      "source": [
        "def play_turn(\n",
        "    policy: Policy,\n",
        "    deck: CardDeck,\n",
        "    init_state: State | None = None,\n",
        "    init_action: Action | None = None,\n",
        "    report_callback: ReportCallback | None = None,\n",
        ") -> tuple[int | None, TurnLog]:\n",
        "    # lambda funkcija uslovno poziva report_callback(txt) samo ako report_callback nije None. U durgom slucaju, vraća None, utisavajuci izvrsavanje\n",
        "    report = lambda txt: report_callback and report_callback(txt)\n",
        "    state = get_init_state(init_state, deck, None)\n",
        "    action = get_init_action(init_action, state, policy)\n",
        "    total, has_ace, dealer_value = astuple(state)\n",
        "    report(f\"[bold]initial state[/] {state}\")\n",
        "    report(\n",
        "        f\"initial total {total} with ACE {has_ace} => [bold]initial action[/] {action}\"\n",
        "    )\n",
        "    turn_log = [(state, action)]\n",
        "    while action == Action.HIT:\n",
        "        card = deck.draw()\n",
        "        total, has_ace = update_total(total, has_ace, card.value)\n",
        "        state = State(total, has_ace, dealer_value)\n",
        "        if total > 21:\n",
        "            # ako je suma iznad 21 ne zelimo appendujemo informaciju u turning log, dok u drugom slucaju zelimo\n",
        "            report(\n",
        "                f\"turned finished - [bold]BUSTED![/] card drawn {card} => total {total} with ACE {has_ace}\"\n",
        "            )\n",
        "            return None, turn_log\n",
        "        else:\n",
        "            action = policy(state)\n",
        "            turn_log.append((state, action))\n",
        "            report(\n",
        "                f\"card drawn {card} => total {total} with ACE {has_ace} => action chosen {action}\"\n",
        "            )\n",
        "    report(f\"turn finished with final total {total}\")\n",
        "    return total, turn_log"
      ],
      "metadata": {
        "id": "lUAORF6Pq0z7"
      },
      "execution_count": null,
      "outputs": []
    },
    {
      "cell_type": "markdown",
      "source": [
        "Iskustvo na osnovu koga nas agent uci se moze zapisati ovako:"
      ],
      "metadata": {
        "id": "enYmqtp0tEOt"
      }
    },
    {
      "cell_type": "code",
      "source": [
        "Experience = tuple[State, Action, float]"
      ],
      "metadata": {
        "id": "O2g1fvQktJQb"
      },
      "execution_count": null,
      "outputs": []
    },
    {
      "cell_type": "markdown",
      "source": [
        "## Funkcija compare_totals()\n",
        "Ova funkcija samo poredi sume igraca 1 i igraca 2 i na osnovu toga nam salje informaciju ko je pobedio(1/0/-1)."
      ],
      "metadata": {
        "id": "w6VsYfQ_tn2o"
      }
    },
    {
      "cell_type": "code",
      "source": [
        "def compare_totals(player1_total, player2_total) -> int:\n",
        "    # da li je neko BUST-ovao\n",
        "    player1_bust = player1_total is None or player1_total > 21\n",
        "    player2_bust = player2_total is None or player2_total > 21\n",
        "    # obojica su\n",
        "    if player1_bust and player2_bust:\n",
        "        return 0\n",
        "    # smo prvi\n",
        "    if player1_bust:\n",
        "        return -1\n",
        "    # smo drugi\n",
        "    if player2_bust:\n",
        "        return 1\n",
        "    # ako niko nije\n",
        "    if player1_total > player2_total:\n",
        "        return 1\n",
        "    elif player1_total < player2_total:\n",
        "        return -1\n",
        "    else:\n",
        "        return 0"
      ],
      "metadata": {
        "id": "FGNG8H6rtoKH"
      },
      "execution_count": null,
      "outputs": []
    },
    {
      "cell_type": "markdown",
      "source": [
        "## Funkcija compute_gain()\n",
        "Sastoji se iz liste nagrada, i koeficijenta umanjenja koji sve starije nagrade mnozi sa brojem manjim od 1 tako da se izborom njega gleda koliko vrednujemo proslos. Ako je 1 onda svaku nagradu gledamo jednako, a mi to ne zelimo nego zelimo da zaboravaljamo proslost sa nekim rate-om  od *x* procenata."
      ],
      "metadata": {
        "id": "lU3x3f1cuJ7O"
      }
    },
    {
      "cell_type": "code",
      "source": [
        "def compute_gain(rewards: list[float], gamma: float) -> float:\n",
        "    g = 0\n",
        "    w = 1\n",
        "    for r in rewards:\n",
        "        g += w * r\n",
        "        w *= gamma\n",
        "    return g"
      ],
      "metadata": {
        "id": "lN6dLDG6uKMs"
      },
      "execution_count": null,
      "outputs": []
    },
    {
      "cell_type": "markdown",
      "source": [
        "## Funkcija build_experience()\n",
        "Kao argumente prima istoriju poteza igraca, protivnika, rezutltat iz perpektive igraca i koeficijent umanjenja. Funkcija nam vraca iskustvo kao izlaz.\n"
      ],
      "metadata": {
        "id": "yhlJzNXwvIax"
      }
    },
    {
      "cell_type": "code",
      "source": [
        "def build_experience(\n",
        "    player_log: TurnLog, opponent_log: TurnLog, result: int, gamma: float\n",
        ") -> Experience:\n",
        "    player_experience = []\n",
        "    for i in range(len(player_log)):\n",
        "        state, action = player_log[i]\n",
        "        # nagrada je 0 sem za poslednje stanje\n",
        "        reward = 0 if i < len(player_log) - 1 else result\n",
        "        next_state, next_action = (\n",
        "            player_log[i + 1] if i + 1 < len(player_log) else (None, None)\n",
        "        )\n",
        "        player_experience.append((state, action, reward, next_state, next_action))\n",
        "\n",
        "    return player_experience"
      ],
      "metadata": {
        "id": "OImxNUYgvIs9"
      },
      "execution_count": null,
      "outputs": []
    },
    {
      "cell_type": "markdown",
      "source": [
        "## Funkcija play_game()\n",
        "Simuliramo igru sa 2 igraca koja imaju unapred odredjene politike. Posle igre generisemo onakvu listu iskustva za svakog igraca kakva je pogodna za algoritme SARSA-e i Q-learning-a."
      ],
      "metadata": {
        "id": "xTLGNQSQwh_d"
      }
    },
    {
      "cell_type": "code",
      "source": [
        "def play_game(\n",
        "    policy1: Policy,\n",
        "    policy2: Policy,\n",
        "    deck: CardDeck,\n",
        "    gamma: float = 1.0,\n",
        "    # istorija igranja\n",
        "    game_report_callback: ReportCallback | None = None,\n",
        "    #istorija igranja za akcije igraca 1\n",
        "    player1_report_callback: ReportCallback | None = None,\n",
        "    #istorija igranja za akcije igraca 2\n",
        "    player2_report_callback: ReportCallback | None = None,\n",
        "    debug: bool = False,\n",
        "    player1_starts: bool = True,\n",
        "    # rezultat igre, iskustvo za igraca 1 i iskustvo za igraca 2\n",
        ") -> tuple[int, list, list]:\n",
        "\n",
        "    report = lambda txt: game_report_callback and game_report_callback(txt)\n",
        "\n",
        "    player1_state, player2_state = get_init_states(deck, debug)\n",
        "\n",
        "    if player1_starts:\n",
        "        # prvo igra igrac 1\n",
        "        player1_total, player1_log = play_turn(\n",
        "            policy1, deck, player1_state, report_callback=player1_report_callback\n",
        "        )\n",
        "        # drugi igra igrac 2\n",
        "        player2_total, player2_log = play_turn(\n",
        "            policy2, deck, player2_state, report_callback=player2_report_callback\n",
        "        )\n",
        "    # mozemo da obrnemo ko prvi igra preko parametra player1_starts koji je po defaultu na True\n",
        "    else:\n",
        "        player2_total, player2_log = play_turn(\n",
        "            policy2, deck, player2_state, report_callback=player2_report_callback\n",
        "        )\n",
        "        player1_total, player1_log = play_turn(\n",
        "            policy1, deck, player1_state, report_callback=player1_report_callback\n",
        "        )\n",
        "\n",
        "    game_result = compare_totals(player1_total, player2_total)\n",
        "    report(f\"Game result: {game_result}\")\n",
        "\n",
        "    player1_experience = build_experience(player1_log, player2_log, game_result, gamma)\n",
        "    #negativna vrednost rezlutata igre mora kod igraca 2\n",
        "    player2_experience = build_experience(\n",
        "        player2_log, player1_log, -game_result, gamma\n",
        "    )\n",
        "\n",
        "    return game_result, player1_experience, player2_experience"
      ],
      "metadata": {
        "id": "98eoJy17wiQ_"
      },
      "execution_count": null,
      "outputs": []
    },
    {
      "cell_type": "markdown",
      "source": [
        "## Klasa PolicyTestingResult()"
      ],
      "metadata": {
        "id": "jBiOw8kX0o2N"
      }
    },
    {
      "cell_type": "code",
      "source": [
        "@dataclass\n",
        "class PolicyTestingResult:\n",
        "    games_no: int\n",
        "    score: int\n",
        "    wins: float\n",
        "    draws: float\n",
        "    losses: float\n",
        "\n",
        "    def loss_per_game(self):\n",
        "        return self.score / self.games_no\n",
        "\n",
        "    def __repr__(self):\n",
        "        return f\"total score={self.score}/{self.games_no} games ({self.loss_per_game():.4f} per game) :: W {self.wins*100:.2f}% | D {self.draws*100:.2f}% | L {self.losses*100:.2f}%\""
      ],
      "metadata": {
        "id": "7Y08veka0pFf"
      },
      "execution_count": null,
      "outputs": []
    },
    {
      "cell_type": "markdown",
      "source": [
        "#Funkcija apply_policy_exhaustive()"
      ],
      "metadata": {
        "id": "4afAsmm_04db"
      }
    },
    {
      "cell_type": "code",
      "source": [
        "def apply_policy_exhaustive(\n",
        "    policy1, policy2: Policy, deck: CardDeck, epoch_no=5, gamma=1\n",
        ") -> tuple[PolicyTestingResult, PolicyTestingResult]:\n",
        "    wins1, losses1, draws1, score1, games_no1 = 0, 0, 0, 0, 0\n",
        "    wins2, losses2, draws2, score2, games_no2 = 0, 0, 0, 0, 0\n",
        "\n",
        "    for epoch in range(epoch_no):\n",
        "        #igrac 1 pocinje na parne epohe dok igrac 2 na neparne\n",
        "        player1_starts = (\n",
        "            epoch % 2 == 0\n",
        "        )\n",
        "\n",
        "        res, exp_player1, exp_player2 = play_game(\n",
        "            policy1, policy2, deck, gamma=gamma, player1_starts=player1_starts\n",
        "        )\n",
        "        # za  igraca 1\n",
        "        games_no1 += 1\n",
        "        if res == 1:\n",
        "            wins1 += 1\n",
        "        elif res == 0:\n",
        "            draws1 += 1\n",
        "        else:\n",
        "            losses1 += 1\n",
        "        score1 += res\n",
        "        # za igraca 2, pritom je ovde negativno jer je play_game iz perspektive igraca 1\n",
        "        games_no2 += 1\n",
        "        if res == -1:\n",
        "            wins2 += 1\n",
        "        elif res == 0:\n",
        "            draws2 += 1\n",
        "        else:\n",
        "            losses2 += 1\n",
        "        score2 -= res\n",
        "\n",
        "    result1 = PolicyTestingResult(\n",
        "        games_no1, score1, wins1 / games_no1, draws1 / games_no1, losses1 / games_no1\n",
        "    )\n",
        "    result2 = PolicyTestingResult(\n",
        "        games_no2, score2, wins2 / games_no2, draws2 / games_no2, losses2 / games_no2\n",
        "    )\n",
        "\n",
        "    return result1, result2"
      ],
      "metadata": {
        "id": "lABkMUXC04zk"
      },
      "execution_count": null,
      "outputs": []
    },
    {
      "cell_type": "code",
      "source": [
        "GainsDict = dict[State, tuple[list[float], list[float]]]"
      ],
      "metadata": {
        "id": "3Zdlltdn2Cuq"
      },
      "execution_count": null,
      "outputs": []
    },
    {
      "cell_type": "markdown",
      "source": [
        "Dobijamo recnik Gain-ova gde u recnik za svako stanje u ondosu na akciju appendujemo njegov gain."
      ],
      "metadata": {
        "id": "n4y168fR2DDM"
      }
    },
    {
      "cell_type": "code",
      "source": [
        "def create_gains_dict(experience: Experience) -> GainsDict:\n",
        "    #dobijamo gain preko iskustva\n",
        "    gains_dict = dict()\n",
        "    for s, a, g in experience:\n",
        "        action_gains = gains_dict.get(s, ([], []))\n",
        "        action_gains[a.value].append(g)\n",
        "        gains_dict[s] = action_gains\n",
        "    return gains_dict"
      ],
      "metadata": {
        "id": "BSV8nvsR2DVM"
      },
      "execution_count": null,
      "outputs": []
    },
    {
      "cell_type": "markdown",
      "source": [
        "Apdejtujemo **q vrednosti** pomocu novog targeta. Kao ulazne argumente prima trenutnu procenu, target i alfa koja je brzina ucenja. Dok je izlaz nova apdejtovana procena."
      ],
      "metadata": {
        "id": "Jvz6eq743Znm"
      }
    },
    {
      "cell_type": "code",
      "source": [
        "def update_q_value(current: float, target: float, alpha: float) -> float:\n",
        "    if current is not None and target is not None:\n",
        "        return current + alpha * (target - current)\n",
        "    elif current is None:\n",
        "        return target\n",
        "    elif target is None:\n",
        "        return current\n",
        "    else:\n",
        "        return None\n",
        "\n",
        "\n",
        "QDict = dict[State, tuple[float, float]]"
      ],
      "metadata": {
        "id": "qvsZ1fxyfVLB"
      },
      "execution_count": null,
      "outputs": []
    },
    {
      "cell_type": "code",
      "source": [
        "QDict = dict[State, tuple[float, float]]"
      ],
      "metadata": {
        "id": "k2O_nqEz4J5k"
      },
      "execution_count": null,
      "outputs": []
    },
    {
      "cell_type": "markdown",
      "source": [
        "Pravi se greedy poliitka na osnovu q vrednosti."
      ],
      "metadata": {
        "id": "osdJZeN-4KZb"
      }
    },
    {
      "cell_type": "code",
      "source": [
        "def create_greedy_policy(q_dict: QDict) -> Policy:\n",
        "    no_actions = len(list(Action))\n",
        "\n",
        "    def policy(s: State):\n",
        "        q_values = q_dict.get(s, None)\n",
        "        if q_values is not None:\n",
        "            #ako duzina nije ista baca exception\n",
        "            assert len(q_values) == no_actions, f\"Invalid Q-dict for state {s}.\"\n",
        "            #ako je neki q_value None random politika, ako nije onda greedy tj argmax\n",
        "            if any([q_value is None for q_value in q_values]):\n",
        "                return random_policy(s)\n",
        "            else:\n",
        "                ndx = np.argmax(q_values)\n",
        "                return Action(ndx)\n",
        "        else:\n",
        "            return random_policy(s)\n",
        "    return policy"
      ],
      "metadata": {
        "id": "gHfvy_DC4KoF"
      },
      "execution_count": null,
      "outputs": []
    },
    {
      "cell_type": "markdown",
      "source": [
        "## Apdejtovanje Q funkcije"
      ],
      "metadata": {
        "id": "IyFRhQ_SafGQ"
      }
    },
    {
      "cell_type": "markdown",
      "source": [
        "  Sada apdejtujemo Q funckiju iterirajuci kroz iskustvo koje smo prikupili, dok se apdejtovanje konkretno vrsi pomocu SARSA-e ili Q-learning-a."
      ],
      "metadata": {
        "id": "rtR_VcLdaBqO"
      }
    },
    {
      "cell_type": "markdown",
      "source": [
        "Formula za SARSA algoritam je:\n",
        "\n",
        "\n",
        "Q(s, a) = Q(s, a) + alpha * (reward + gamma * Q(s', a') - Q(s, a))\n",
        "\n",
        "*   Q(s,a) je trenutna vrednost Q funkcije za uredjeni par (s,a)\n",
        "*   alpha je brzina ucenja, koja nam govori koliko ce jako uticati nova informacija na procenu vrednosti Q funkcije\n",
        "*   reward je nagrada koje se dobija kada se iz stanja s uradi akcija a\n",
        "*   gamma je faktor umenjenja koji nam govori koliko su bitne buduce nagrade\n",
        "*   Q(s', a') je vrednost Q funkcije ako se u sledecem stanju s' primeni akcija a'\n",
        "\n"
      ],
      "metadata": {
        "id": "e-l_DmI7apwV"
      }
    },
    {
      "cell_type": "markdown",
      "source": [
        "Formula za Q-Learning algoritam:\n",
        "   \n",
        "Q(s, a) = Q(s, a) + alpha * (reward + gamma * max{ Q(s', a') } - Q(s, a))\n",
        "\n",
        "*    max{ Q(s', a') } je maksimalna vrednost Q funckije za sledece stanje s' iterirajuci kroz sve moguce akcije a'\n",
        "*   sve ostalo je isto kao i za SARSU\n"
      ],
      "metadata": {
        "id": "bZ1dDyoJaqC2"
      }
    },
    {
      "cell_type": "markdown",
      "source": [
        "Funckija update_Q()kao ulaz ima: recnik Q vredsnoti koji je skup vrednosti Q funckije za stanje-akcija , prikupljeno iskustvo,brzinu ucenja, faktor umanjenja i metod koji se koristi za apdejtovanje vrednosti Q funckije.\n",
        "Izaz je apdejtovane vrednosti Q funckije kada uracunamo celo iskustvo koje imamo.\n",
        "\n",
        "Treba primeiti da ce izbor izmenju algoritama za apdejtovanje vednosti Q funkcije uticati na to da li cemo koristi konzervativniji pristup uzimajuci u obzir stvarnu sledecu akciju a' preko SARSA-e, ili cemo koristiti Q-learning koji procenjuje buduce nagrade na onsovu maksimalne moguce vrednosti Q funkcije za sledece stanje s'."
      ],
      "metadata": {
        "id": "tUrmpT4mc9m-"
      }
    },
    {
      "cell_type": "code",
      "source": [
        "def update_Q(\n",
        "    q_dict: QDict, experience: Experience, alpha=0.1, gamma=0.9, method=\"qlearning\"\n",
        "):\n",
        "    for state, action, reward, next_state, next_action in experience:\n",
        "        old_value = q_dict.get(state, (0, 0))[action.value]\n",
        "        #razlikuje se samo dal koristimo max operator\n",
        "        if next_state is not None:\n",
        "            if method == \"sarsa\":\n",
        "                next_q_value = q_dict.get(next_state, (0, 0))[next_action.value]\n",
        "                target = reward + gamma * next_q_value\n",
        "            elif method == \"qlearning\":\n",
        "                next_q_values = q_dict.get(next_state, (0, 0))\n",
        "                target = reward + gamma * max(next_q_values)\n",
        "        else:\n",
        "            target = reward\n",
        "        #preko prethodno napisane funkcije objedinjujemo formule\n",
        "        new_value = update_q_value(old_value, target, alpha)\n",
        "        q_values = list(q_dict.get(state, (0, 0)))\n",
        "        q_values[action.value] = new_value\n",
        "        q_dict[state] = tuple(q_values)\n",
        "    return q_dict"
      ],
      "metadata": {
        "id": "btj-pVn6rZJg"
      },
      "execution_count": null,
      "outputs": []
    },
    {
      "cell_type": "markdown",
      "source": [
        "##Vizuelizacija politike"
      ],
      "metadata": {
        "id": "rdSsrohNgGBV"
      }
    },
    {
      "cell_type": "markdown",
      "source": [
        "Da bi vizualizovali politiku na x osu cemo nalepiti sumu karata od igraca i na y osu sumu karata dilera.\n",
        "\n",
        "Ako je celija crvena znaci da je akcija HIT, nezavisno od toga da li imamo AS-a kojeg mozemo da menjamo.\n",
        "\n",
        "Ako je celija plava znaci da je akcija HOLD, nezavisno od toga da li imamo AS-a kojeg mozemo da menjamo.\n",
        "\n",
        "Ako je celija zelena znaci da je akcija HIT, samo ako imamo AS-a kojeg mozemo da menjamo.\n",
        "\n",
        "Ako je celija crna znaci da je akcija HIT, ako nemamo AS-a kojeg mozemo da menjamo. Cetvrti slucaj ne izgleda intuitivno pa je zato oznacen crnom bojom da bi se razlikovao od ostalih akcija."
      ],
      "metadata": {
        "id": "mHaXPJDSgCms"
      }
    },
    {
      "cell_type": "code",
      "source": [
        "def visualize_policy(policy):\n",
        "    player_values = list(range(2, 21))\n",
        "    dealer_values = list(range(2, 12))\n",
        "    board = np.ones(shape=(len(dealer_values), len(player_values), 3), dtype=np.uint8)\n",
        "    for r, dv in enumerate(dealer_values):\n",
        "        for c, pv in enumerate(player_values):\n",
        "            if pv < 11:\n",
        "                action_t = policy(State(pv, False, dv)) == Action.HIT\n",
        "                if action_t:\n",
        "                    board[r, c, :] = (255, 0, 0)\n",
        "                else:\n",
        "                    board[r, c, :] = (0, 0, 255)\n",
        "            else:\n",
        "                action_t = policy(State(pv, True, dv)) == Action.HIT\n",
        "                action_f = policy(State(pv, False, dv)) == Action.HIT\n",
        "                if action_t and action_f:\n",
        "                    board[r, c, :] = (255, 0, 0)\n",
        "                elif action_t and not action_f:\n",
        "                    board[r, c, :] = (0, 255, 0)\n",
        "                elif not action_t and not action_f:\n",
        "                    board[r, c, :] = (0, 0, 255)\n",
        "                else:\n",
        "                    board[r, c, :] = (0, 0, 0)\n",
        "    plt.imshow(board, extent=[2, 21, 12, 2])\n",
        "    plt.xticks(np.arange(2.5, 21.5, 1), np.arange(2, 21, 1))\n",
        "    plt.yticks(np.arange(2.5, 12.5, 1), np.arange(2, 12, 1))\n",
        "    plt.xlabel(\"Player total\")\n",
        "    plt.ylabel(\"Opponent total\")\n",
        "\n",
        "    red_patch = mpatches.Patch(color=\"red\", label=\"HIT (with or without ACE)\")\n",
        "    blue_patch = mpatches.Patch(color=\"blue\", label=\"HOLD (with or without ACE)\")\n",
        "    green_patch = mpatches.Patch(color=\"green\", label=\"HIT only with usable ACE\")\n",
        "    black_patch = mpatches.Patch(color=\"black\", label=\"HIT only without usable ACE\")\n",
        "\n",
        "    plt.legend(handles=[red_patch, blue_patch, green_patch, black_patch])\n",
        "\n",
        "    plt.show()"
      ],
      "metadata": {
        "id": "_HG8Yd6UgC4r"
      },
      "execution_count": null,
      "outputs": []
    },
    {
      "cell_type": "markdown",
      "source": [
        "## Treniranje igraca"
      ],
      "metadata": {
        "id": "aGBZjXjhmLr7"
      }
    },
    {
      "cell_type": "code",
      "source": [
        "def pre_train_players(deck, num_games, alpha=0.1, gamma=0.9, method: str = \"qlearning\"):\n",
        "    q_dict_player1 = dict()\n",
        "    q_dict_player2 = dict()\n",
        "\n",
        "    for game_no in trange(num_games, desc=\"Pretraining\"):\n",
        "        player1_starts = game_no % 2 == 0\n",
        "        #Treniramo igraca 1 protiv dilera\n",
        "        policy_player1 = create_greedy_policy(q_dict_player1)\n",
        "        _, exp_player1, _ = play_game(\n",
        "            policy_player1,\n",
        "            dealer_policy,\n",
        "            deck,\n",
        "            gamma=gamma,\n",
        "            player1_starts=player1_starts,\n",
        "        )\n",
        "        q_dict_player1 = update_Q(\n",
        "            q_dict_player1, exp_player1, alpha=alpha, method=method\n",
        "        )\n",
        "\n",
        "        #Treniramo igraca 2 protiv dilera\n",
        "        policy_player2 = create_greedy_policy(q_dict_player2)\n",
        "        _, exp_player2, _ = play_game(\n",
        "            policy_player2,\n",
        "            dealer_policy,\n",
        "            deck,\n",
        "            gamma=gamma,\n",
        "            player1_starts=player1_starts,\n",
        "        )\n",
        "        q_dict_player2 = update_Q(\n",
        "            q_dict_player2, exp_player2, alpha=alpha, method=method\n",
        "        )\n",
        "    return q_dict_player1, q_dict_player2"
      ],
      "metadata": {
        "id": "g4g_vfe1mR8X"
      },
      "execution_count": null,
      "outputs": []
    },
    {
      "cell_type": "markdown",
      "source": [
        "##Main()"
      ],
      "metadata": {
        "id": "1wR9ap-hmqj4"
      }
    },
    {
      "cell_type": "code",
      "source": [
        "def main(\n",
        "    debug: bool = False,\n",
        "    pretrain: bool = True,\n",
        "    method: str = \"qlearning\",\n",
        "    epochs: int = 10000,\n",
        "    epochs_pretrain: int = 50000,\n",
        "):\n",
        "    deck = CardDeck()\n",
        "\n",
        "    if debug:\n",
        "        #anonimne funkcije\n",
        "        player1_report_callback = lambda txt: print(f\"[bold blue]Player 1:[/] {txt}\")\n",
        "        player2_report_callback = lambda txt: print(f\"[bold green]Player 2:[/] {txt}\")\n",
        "        game_report_callback = lambda txt: print(f\"[bold red]Game:[/] {txt}\")\n",
        "\n",
        "        policy1 = random_policy\n",
        "        policy2 = random_policy\n",
        "\n",
        "        game_result, player1_experience, player2_experience = play_game(\n",
        "            policy1,\n",
        "            policy2,\n",
        "            deck,\n",
        "            game_report_callback=game_report_callback,\n",
        "            player1_report_callback=player1_report_callback,\n",
        "            player2_report_callback=player2_report_callback,\n",
        "            debug=debug,\n",
        "        )\n",
        "\n",
        "        if game_result == 1:\n",
        "            print(\"Player 1 wins!\")\n",
        "        elif game_result == -1:\n",
        "            print(\"Player 2 wins!\")\n",
        "        else:\n",
        "            print(\"The game is a draw.\")\n",
        "\n",
        "        print(\"Player 1 experience:\")\n",
        "        for experience in player1_experience:\n",
        "            print(experience)\n",
        "\n",
        "        print(\"Player 2 experience:\")\n",
        "        for experience in player2_experience:\n",
        "            print(experience)\n",
        "\n",
        "    q_dict_player1 = dict()\n",
        "    q_dict_player2 = dict()\n",
        "\n",
        "    q_dict_best_player1 = dict()\n",
        "    q_dict_best_player2 = dict()\n",
        "\n",
        "    if pretrain:\n",
        "        q_dict_player1, q_dict_player2 = pre_train_players(\n",
        "            deck, num_games=epochs_pretrain, method=method\n",
        "        )\n",
        "        pretrained_policy_player1 = create_greedy_policy(q_dict_best_player1)\n",
        "        pretrained_policy_player2 = create_greedy_policy(q_dict_best_player2)\n",
        "\n",
        "        print(\"Visualizing pretrained policy for Player 1:\")\n",
        "        visualize_policy(pretrained_policy_player1)\n",
        "        print(\"Visualizing pretrained policy for Player 2:\")\n",
        "        visualize_policy(pretrained_policy_player2)\n",
        "\n",
        "    res_best_player1 = -float(\"inf\")\n",
        "    res_best_player2 = -float(\"inf\")\n",
        "\n",
        "    for epoch in trange(epochs):\n",
        "        player_1_starts = epoch % 2 == 0\n",
        "        #kreiramo pohlepne politike za oba igraca\n",
        "        policy_player1 = create_greedy_policy(q_dict_player1)\n",
        "        policy_player2 = create_greedy_policy(q_dict_player2)\n",
        "\n",
        "        #igramo igre i apdejtujemo politike\n",
        "        _, exp_player1, exp_player2 = play_game(\n",
        "            policy_player1,\n",
        "            policy_player2,\n",
        "            deck,\n",
        "            gamma=0.9,\n",
        "            player1_starts=player_1_starts,\n",
        "        )\n",
        "        q_dict_player1 = update_Q(q_dict_player1, exp_player1, alpha=0.1, method=method)\n",
        "        q_dict_player2 = update_Q(q_dict_player2, exp_player2, alpha=0.1, method=method)\n",
        "\n",
        "        #procenjujemo politike posle svake epohe\n",
        "        res_player1, res_player2 = apply_policy_exhaustive(\n",
        "            policy_player1, policy_player2, deck\n",
        "        )\n",
        "\n",
        "        #apdejtujemo najbolji rezultat i q vrednosti za svakog od igraca\n",
        "        if res_player1.score > res_best_player1:\n",
        "            q_dict_best_player1 = deepcopy(q_dict_player1)\n",
        "            res_best_player1 = res_player1.score\n",
        "        if res_player2.score > res_best_player2:\n",
        "            q_dict_best_player2 = deepcopy(q_dict_player2)\n",
        "            res_best_player2 = res_player2.score\n",
        "\n",
        "    # uzimamo najbolju politiku oba igraca\n",
        "    final_policy_player1 = create_greedy_policy(q_dict_best_player1)\n",
        "    final_policy_player2 = create_greedy_policy(q_dict_best_player2)\n",
        "\n",
        "    #racunamo najbolju politiku za oba igraca\n",
        "    final_res_player1, final_res_player2 = apply_policy_exhaustive(\n",
        "        final_policy_player1,\n",
        "        final_policy_player2,\n",
        "        deck,\n",
        "        epoch_no=10000,\n",
        "    )\n",
        "\n",
        "    # Ispisujemo finalne politike za oba igraca\n",
        "    print(\"Final policy evaluation Player 1:\")\n",
        "    print(final_res_player1)\n",
        "    print(\"Final policy evaluation Player 2:\")\n",
        "    print(final_res_player2)\n",
        "\n",
        "    # Vizualzujemo ih\n",
        "    print(\"Visualizing final policy for Player 1:\")\n",
        "    visualize_policy(final_policy_player1)\n",
        "    print(\"Visualizing final policy for Player 2:\")\n",
        "    visualize_policy(final_policy_player2)"
      ],
      "metadata": {
        "id": "BTiXU6prmthE"
      },
      "execution_count": null,
      "outputs": []
    },
    {
      "cell_type": "markdown",
      "source": [
        "##Pokretanje svega"
      ],
      "metadata": {
        "id": "E-haX2C-oOaJ"
      }
    },
    {
      "cell_type": "code",
      "source": [
        "if __name__ == \"__main__\":\n",
        "    main(\n",
        "        debug=False, pretrain=True, method=\"qlearning\", epochs=10000, epochs_pretrain=50000\n",
        "    )"
      ],
      "metadata": {
        "colab": {
          "base_uri": "https://localhost:8080/",
          "height": 1000
        },
        "id": "N4ArxaSqoUwv",
        "outputId": "d67bb4ef-a317-4512-e153-ffe5a0614c6e"
      },
      "execution_count": null,
      "outputs": [
        {
          "output_type": "stream",
          "name": "stderr",
          "text": [
            "Pretraining: 100%|██████████| 50000/50000 [00:20<00:00, 2398.99it/s]\n"
          ]
        },
        {
          "output_type": "display_data",
          "data": {
            "text/plain": [
              "Visualizing pretrained policy for Player \u001b[1;36m1\u001b[0m:\n"
            ],
            "text/html": [
              "<pre style=\"white-space:pre;overflow-x:auto;line-height:normal;font-family:Menlo,'DejaVu Sans Mono',consolas,'Courier New',monospace\">Visualizing pretrained policy for Player <span style=\"color: #008080; text-decoration-color: #008080; font-weight: bold\">1</span>:\n",
              "</pre>\n"
            ]
          },
          "metadata": {}
        },
        {
          "output_type": "display_data",
          "data": {
            "text/plain": [
              "<Figure size 640x480 with 1 Axes>"
            ],
            "image/png": "[encoded data removed]"
          },
          "metadata": {}
        },
        {
          "output_type": "display_data",
          "data": {
            "text/plain": [
              "Visualizing pretrained policy for Player \u001b[1;36m2\u001b[0m:\n"
            ],
            "text/html": [
              "<pre style=\"white-space:pre;overflow-x:auto;line-height:normal;font-family:Menlo,'DejaVu Sans Mono',consolas,'Courier New',monospace\">Visualizing pretrained policy for Player <span style=\"color: #008080; text-decoration-color: #008080; font-weight: bold\">2</span>:\n",
              "</pre>\n"
            ]
          },
          "metadata": {}
        },
        {
          "output_type": "display_data",
          "data": {
            "text/plain": [
              "<Figure size 640x480 with 1 Axes>"
            ],
            "image/png": "[encoded data removed]"
          },
          "metadata": {}
        },
        {
          "output_type": "stream",
          "name": "stderr",
          "text": [
            "100%|██████████| 10000/10000 [00:12<00:00, 798.32it/s]\n"
          ]
        },
        {
          "output_type": "display_data",
          "data": {
            "text/plain": [
              "Final policy evaluation Player \u001b[1;36m1\u001b[0m:\n"
            ],
            "text/html": [
              "<pre style=\"white-space:pre;overflow-x:auto;line-height:normal;font-family:Menlo,'DejaVu Sans Mono',consolas,'Courier New',monospace\">Final policy evaluation Player <span style=\"color: #008080; text-decoration-color: #008080; font-weight: bold\">1</span>:\n",
              "</pre>\n"
            ]
          },
          "metadata": {}
        },
        {
          "output_type": "display_data",
          "data": {
            "text/plain": [
              "total \u001b[33mscore\u001b[0m=\u001b[1;36m5\u001b[0m/\u001b[1;36m10000\u001b[0m games \u001b[1m(\u001b[0m\u001b[1;36m0.0005\u001b[0m per game\u001b[1m)\u001b[0m :: W \u001b[1;36m38.41\u001b[0m% | D \u001b[1;36m23.23\u001b[0m% | L \u001b[1;36m38.36\u001b[0m%\n"
            ],
            "text/html": [
              "<pre style=\"white-space:pre;overflow-x:auto;line-height:normal;font-family:Menlo,'DejaVu Sans Mono',consolas,'Courier New',monospace\">total <span style=\"color: #808000; text-decoration-color: #808000\">score</span>=<span style=\"color: #008080; text-decoration-color: #008080; font-weight: bold\">5</span>/<span style=\"color: #008080; text-decoration-color: #008080; font-weight: bold\">10000</span> games <span style=\"font-weight: bold\">(</span><span style=\"color: #008080; text-decoration-color: #008080; font-weight: bold\">0.0005</span> per game<span style=\"font-weight: bold\">)</span> :: W <span style=\"color: #008080; text-decoration-color: #008080; font-weight: bold\">38.41</span>% | D <span style=\"color: #008080; text-decoration-color: #008080; font-weight: bold\">23.23</span>% | L <span style=\"color: #008080; text-decoration-color: #008080; font-weight: bold\">38.36</span>%\n",
              "</pre>\n"
            ]
          },
          "metadata": {}
        },
        {
          "output_type": "display_data",
          "data": {
            "text/plain": [
              "Final policy evaluation Player \u001b[1;36m2\u001b[0m:\n"
            ],
            "text/html": [
              "<pre style=\"white-space:pre;overflow-x:auto;line-height:normal;font-family:Menlo,'DejaVu Sans Mono',consolas,'Courier New',monospace\">Final policy evaluation Player <span style=\"color: #008080; text-decoration-color: #008080; font-weight: bold\">2</span>:\n",
              "</pre>\n"
            ]
          },
          "metadata": {}
        },
        {
          "output_type": "display_data",
          "data": {
            "text/plain": [
              "total \u001b[33mscore\u001b[0m=\u001b[1;36m-5\u001b[0m/\u001b[1;36m10000\u001b[0m games \u001b[1m(\u001b[0m\u001b[1;36m-0.0005\u001b[0m per game\u001b[1m)\u001b[0m :: W \u001b[1;36m38.36\u001b[0m% | D \u001b[1;36m23.23\u001b[0m% | L \u001b[1;36m38.41\u001b[0m%\n"
            ],
            "text/html": [
              "<pre style=\"white-space:pre;overflow-x:auto;line-height:normal;font-family:Menlo,'DejaVu Sans Mono',consolas,'Courier New',monospace\">total <span style=\"color: #808000; text-decoration-color: #808000\">score</span>=<span style=\"color: #008080; text-decoration-color: #008080; font-weight: bold\">-5</span>/<span style=\"color: #008080; text-decoration-color: #008080; font-weight: bold\">10000</span> games <span style=\"font-weight: bold\">(</span><span style=\"color: #008080; text-decoration-color: #008080; font-weight: bold\">-0.0005</span> per game<span style=\"font-weight: bold\">)</span> :: W <span style=\"color: #008080; text-decoration-color: #008080; font-weight: bold\">38.36</span>% | D <span style=\"color: #008080; text-decoration-color: #008080; font-weight: bold\">23.23</span>% | L <span style=\"color: #008080; text-decoration-color: #008080; font-weight: bold\">38.41</span>%\n",
              "</pre>\n"
            ]
          },
          "metadata": {}
        },
        {
          "output_type": "display_data",
          "data": {
            "text/plain": [
              "Visualizing final policy for Player \u001b[1;36m1\u001b[0m:\n"
            ],
            "text/html": [
              "<pre style=\"white-space:pre;overflow-x:auto;line-height:normal;font-family:Menlo,'DejaVu Sans Mono',consolas,'Courier New',monospace\">Visualizing final policy for Player <span style=\"color: #008080; text-decoration-color: #008080; font-weight: bold\">1</span>:\n",
              "</pre>\n"
            ]
          },
          "metadata": {}
        },
        {
          "output_type": "display_data",
          "data": {
            "text/plain": [
              "<Figure size 640x480 with 1 Axes>"
            ],
            "image/png": "[encoded data removed]"
          },
          "metadata": {}
        },
        {
          "output_type": "display_data",
          "data": {
            "text/plain": [
              "Visualizing final policy for Player \u001b[1;36m2\u001b[0m:\n"
            ],
            "text/html": [
              "<pre style=\"white-space:pre;overflow-x:auto;line-height:normal;font-family:Menlo,'DejaVu Sans Mono',consolas,'Courier New',monospace\">Visualizing final policy for Player <span style=\"color: #008080; text-decoration-color: #008080; font-weight: bold\">2</span>:\n",
              "</pre>\n"
            ]
          },
          "metadata": {}
        },
        {
          "output_type": "display_data",
          "data": {
            "text/plain": [
              "<Figure size 640x480 with 1 Axes>"
            ],
            "image/png": "[encoded data removed]"
          },
          "metadata": {}
        }
      ]
    }
  ]
}