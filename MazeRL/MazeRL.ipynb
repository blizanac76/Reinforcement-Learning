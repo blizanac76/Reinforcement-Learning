{
  "nbformat": 4,
  "nbformat_minor": 0,
  "metadata": {
    "colab": {
      "provenance": []
    },
    "kernelspec": {
      "name": "python3",
      "display_name": "Python 3"
    },
    "language_info": {
      "name": "python"
    }
  },
  "cells": [
    {
      "cell_type": "markdown",
      "source": [
        "#Maze\n",
        "Zadatak:\n",
        "  - Dodati funkcionalna teleport polja\n",
        "  - Implementirati algoritam iteracija po Q vrednostima umesto po V vrednostima\n",
        "  - Implementirati algoritam iteritranja po politikama za Q i za V vrednosti\n",
        "  - Vizualizacija\n",
        "  - Izmeniti domaci 1 tako da je Maze graf, tako da je mdp stohasticki![123.png](data:image/png;base64,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)\n",
        "\n"
      ],
      "metadata": {
        "id": "jtj3B9oXUCt1"
      }
    },
    {
      "cell_type": "markdown",
      "source": [
        "#Definisanje osnovnih pojmova\n",
        "Umesto polja koja smo imali u obicnom Maze-u ovde je potrebno implementirati cvorove koji ce zadrzati osobine prethodnih polja, sa dodatkom atributa pozicije jer nju vise ne proveravamo kretanjem u lavirintu.\n",
        "\n",
        "Svaki od cvorova moze biti terminal, wall, regular, ili teleport."
      ],
      "metadata": {
        "id": "WZ4VOzaoYWnC"
      }
    },
    {
      "cell_type": "code",
      "execution_count": null,
      "metadata": {
        "id": "cjrwWDI2B-ed"
      },
      "outputs": [],
      "source": [
        "import random as rdm\n",
        "from abc import ABC, abstractmethod\n",
        "from copy import copy\n",
        "\n",
        "import numpy as np\n",
        "import matplotlib.pyplot as plt\n",
        "\n",
        "from random import random, choice\n",
        "\n",
        "import networkx as nx\n",
        "from prettytable import PrettyTable"
      ]
    },
    {
      "cell_type": "code",
      "source": [
        "class Node(ABC):\n",
        "    def __init__(self, x: int, y: int):\n",
        "        self.x = x\n",
        "        self.y = y\n",
        "\n",
        "    def get_position(self) -> tuple:\n",
        "        return (self.x, self.y)\n",
        "    #implemetira se za svako polje koje nasledjuje klasu drugacije tako da za sta stavljamo pass\n",
        "    @abstractmethod\n",
        "    def get_reward(self) -> float:\n",
        "        pass\n",
        "\n",
        "    def is_steppable(self) -> bool:\n",
        "        return True\n",
        "\n",
        "    def is_terminal(self) -> bool:\n",
        "        return False\n",
        "\n",
        "    def has_value(self) -> bool:\n",
        "        return True"
      ],
      "metadata": {
        "id": "ScMIigtMCNPq"
      },
      "execution_count": null,
      "outputs": []
    },
    {
      "cell_type": "code",
      "source": [
        "class RegularNode(Node):\n",
        "    #ima neku nagradu\n",
        "    def __init__(self, reward: float, x: int, y: int):\n",
        "        super().__init__(x, y)\n",
        "        self.reward = reward\n",
        "\n",
        "    def get_reward(self) -> float:\n",
        "        return self.reward"
      ],
      "metadata": {
        "id": "vOZpEDd-CcpY"
      },
      "execution_count": null,
      "outputs": []
    },
    {
      "cell_type": "code",
      "source": [
        "class TerminalNode(Node):\n",
        "    def __init__(self, reward: float, x: int, y: int):\n",
        "        super().__init__(x, y)\n",
        "        self.reward = reward\n",
        "\n",
        "    def get_reward(self) -> float:\n",
        "        return self.reward\n",
        "\n",
        "    def is_terminal(self) -> bool:\n",
        "        return True\n",
        "    #nema vrednost\n",
        "    def has_value(self) -> bool:\n",
        "        return False"
      ],
      "metadata": {
        "id": "OlJqnUCBChnC"
      },
      "execution_count": null,
      "outputs": []
    },
    {
      "cell_type": "code",
      "source": [
        "class WallNode(Node):\n",
        "    def __init__(self, x: int, y: int):\n",
        "        super().__init__(x, y)\n",
        "\n",
        "    def get_reward(self) -> float:\n",
        "        return 0\n",
        "\n",
        "    def is_steppable(self) -> bool:\n",
        "        return False\n",
        "\n",
        "    def has_value(self) -> bool:\n",
        "        return False"
      ],
      "metadata": {
        "id": "IdNLEtu5CnSp"
      },
      "execution_count": null,
      "outputs": []
    },
    {
      "cell_type": "code",
      "source": [
        "class TeleportNode(Node):\n",
        "    def __init__(self, reward: float, x: int, y: int):\n",
        "        super().__init__(x, y)\n",
        "        self.reward = reward\n",
        "\n",
        "    def get_reward(self) -> float:\n",
        "        return self.reward"
      ],
      "metadata": {
        "id": "dB0bGJJZCp-Y"
      },
      "execution_count": null,
      "outputs": []
    },
    {
      "cell_type": "markdown",
      "source": [
        "Iz svakog cvora mozemo se kretati u vidu 3 akcije:"
      ],
      "metadata": {
        "id": "Xtt5pyWxYnc9"
      }
    },
    {
      "cell_type": "code",
      "source": [
        "ACTIONS = [1, 2, 3]"
      ],
      "metadata": {
        "id": "Eed5weeFC0Hw"
      },
      "execution_count": null,
      "outputs": []
    },
    {
      "cell_type": "markdown",
      "source": [
        "##Maze Environment\n",
        "Okruzenje Maze-a u vidu grafa gde svaki cvor odgovara stanju u grafu. Okruzenje je inicijalizovano zadatom velicinom i cvorovima raznih, prethodno definisanih vrsta. Maze je sastavljen kao graf, gde su cvorovi medjusobno povezani i imaju verovatnoce prelaska sa jednom u drugi akcijama.\n",
        "U klasi se nalaze metode za:\n",
        "\n",
        "*   inicijalizaciju grafa\n",
        "*   definisanje verovatnoca prelaska iz jednog cvora u drugi\n",
        "*   povratne informacije o Maze-u\n",
        "\n",
        "Atributi:\n",
        "- graph_height (int) daje visinu maze-a\n",
        "- graph_width (int) daje sirinu maze-a\n",
        "- recnik koji zakljuceve ima cvorove, a vrednosti su liste akcija i cvorova sa kojima je povezan"
      ],
      "metadata": {
        "id": "lCfZp_nUYx3Y"
      }
    },
    {
      "cell_type": "code",
      "source": [
        "class MazeEnvironment:\n",
        "    def __init__(self, dimensions: tuple[int, int]):\n",
        "        #inicijalizujemo velicinu lavirinta\n",
        "        self.graph_height = dimensions[0]\n",
        "        self.graph_width = dimensions[1]\n",
        "        self.graph = self.initialize_graph(self.graph_height, self.graph_width)\n",
        "\n",
        "    def initialize_graph(self, width: int, height: int) -> dict:\n",
        "        #inicijalizujemo graf koji predstavlja lavirint\n",
        "        graph = {}\n",
        "        terminal_node_created = False\n",
        "\n",
        "        for w in range(1, width + 1):\n",
        "            for h in range(1, height + 1):\n",
        "                node = self.generate_random_node(w, h)\n",
        "                graph[node] = []\n",
        "                #da li imamo terminalni cvor\n",
        "                if isinstance(node, TerminalNode):\n",
        "                    terminal_node_created = True\n",
        "\n",
        "        #ako nemamo nas zadatak uospte tema smisla tako da ga stavljamo na randmo mesto, umesto nekog cvora koji NIJE zid\n",
        "        if not terminal_node_created:\n",
        "            non_wall_nodes = [n for n in graph.keys() if not isinstance(n, WallNode)]\n",
        "            node_to_replace = choice(non_wall_nodes)\n",
        "            terminal_node = TerminalNode(-1, node_to_replace.x, node_to_replace.y)\n",
        "            graph.pop(node_to_replace)\n",
        "            graph[terminal_node] = []\n",
        "\n",
        "        #postavljamo verovatnoca prelaska iz jednog u drugi cvor\n",
        "        for node in graph:\n",
        "            graph[node] = self.set_probabilities(node, graph)\n",
        "\n",
        "        return graph\n",
        "\n",
        "    def set_probabilities(self, node: Node, graph: dict) -> list:\n",
        "        #postavljamo verovatnoce prelaska, ali postujemo odredjena pravila\n",
        "        #1. cvorovi tipa Wall i Terminal nemaju verovatnoce prelaska u neki drugi cvor, dok se za Regular i Teleport imaju\n",
        "        #2. iako je stohasticki model, ne zelimo da moze da se skoci u bas bilo koji cvor zato za pola covrova dajemo 0 sansu prelaska u njih\n",
        "\n",
        "\n",
        "        #Terminal i Wall node nemaju verovatnoce\n",
        "        if isinstance(node, (WallNode, TerminalNode)):\n",
        "            return []\n",
        "        #za ostale koji nisu zid\n",
        "        nodes_list = [n for n in graph if not isinstance(n, WallNode)]\n",
        "        probabilities = []\n",
        "\n",
        "        #racunamo broj funkcionalnih cvorova koje ce imati nultu verovatnocu\n",
        "        total_cells = self.graph_width * self.graph_height\n",
        "        #minimalna vrednost od broja cvorova koji nisu Wall i 0.5 ukupnog broja cvorova, da ne bi mogao da ode u bilo koji drugi cvor\n",
        "        zero_cells = min(len(nodes_list), total_cells // 2)\n",
        "\n",
        "        #dodeljujemo nultu verovatnocu cvorovima koji nisu Teleport, a ni Wall jer su oni vec van nodes_list\n",
        "        if not isinstance(node, TeleportNode):\n",
        "            for _ in range(zero_cells):\n",
        "                random_node = rdm.choice(nodes_list)\n",
        "                nodes_list.remove(random_node)\n",
        "                probabilities.append([0, random_node, 0])\n",
        "\n",
        "        # rasporedli ostale cvorove akcijama\n",
        "        for action in ACTIONS:\n",
        "            if nodes_list:\n",
        "                #broj cvorova za dodelu svakoj akciji, mora biti bar 1\n",
        "                action_len = len(nodes_list) // len(ACTIONS) or 1\n",
        "                nodes_for_action = nodes_list[:action_len]\n",
        "                nodes_list = nodes_list[action_len:]\n",
        "\n",
        "                non_zero_probabilities = self.generate_probabilities(nodes_for_action)\n",
        "                for node, prob in zip(nodes_for_action, non_zero_probabilities):\n",
        "                    probabilities.append([action, node, prob])\n",
        "        return probabilities\n",
        "\n",
        "    @staticmethod\n",
        "    def generate_random_node(w: int, h: int) -> Node:\n",
        "        \"\"\"\n",
        "        Generisemo random cvor, sa odredjenim sansama, tako da je naravno Regularan najucestaliji:\n",
        "        - RegularNode sa nagradom -1: 10/18 vrv (~55.56%)\n",
        "        - RegularNode nagrade -10: 2/18 vrv (~11.11%)\n",
        "        - TerminalNode: 2/18 vrv (~11.11%), nema nagrade\n",
        "        - WallNode: 2/18 vrv (~11.11%)\n",
        "        - TeleportNode: 2/18 vrv (~11.11%)\n",
        "        \"\"\"\n",
        "        prob = rdm.randint(1, 18)\n",
        "        if prob < 11:\n",
        "            return RegularNode(-1, w, h)\n",
        "        elif prob < 13:\n",
        "            return RegularNode(-10, w, h)\n",
        "        elif prob < 15:\n",
        "            return TerminalNode(-1, w, h)\n",
        "        elif prob < 17:\n",
        "            return WallNode(w, h)\n",
        "        else:\n",
        "            return TeleportNode(-2, w, h)\n",
        "\n",
        "    @staticmethod\n",
        "    def generate_probabilities(cells: list) -> np.ndarray:\n",
        "        probabilities = np.random.rand(len(cells))\n",
        "        #normalizujemo\n",
        "        probabilities /= sum(probabilities)\n",
        "        #sada je ukupna suma 1\n",
        "        return probabilities\n",
        "\n",
        "    def print_graph(self):\n",
        "        #prikazuje graf, u matricnom formatu, sa pozicijama, akcijama i vrednostima\n",
        "        values_graph = {}\n",
        "        for node in self.graph:\n",
        "            values_graph[node.get_position()] = []\n",
        "            for [action, next_node, prob] in self.graph[node]:\n",
        "                values_graph[node.get_position()].append(\n",
        "                    [action, next_node.get_position(), prob]\n",
        "                )\n",
        "        self.print_values(values_graph)\n",
        "        return\n",
        "\n",
        "    def print_values(self, g: dict):\n",
        "        #ispisujemo vrednosti grafa\n",
        "        # g je recnik gde je kljuc pozicija cvora, a vrednost je lista akcija, pozicija sledeceg cvog i verovatnoca\n",
        "        print(\n",
        "            \"\\n----------------------------------------------- MAZE GRAF \"\n",
        "            \"------------------------------------------------ \"\n",
        "        )\n",
        "        print(\" \")\n",
        "        for node in g:\n",
        "            if self.get_current_pos_node(node).get_reward() == -10:\n",
        "                print(node, \"* : \", g[node])  # za regular bez kazne\n",
        "                print(\" \")\n",
        "            else:\n",
        "                print(node, \": \", g[node])\n",
        "                print(\" \")\n",
        "        return\n",
        "\n",
        "    @staticmethod\n",
        "    def is_terminal(node: Node) -> bool:\n",
        "\n",
        "        return node.is_terminal()\n",
        "\n",
        "    def is_terminal_pos(self, position: tuple) -> bool:\n",
        "\n",
        "        return self.get_current_pos_node(position).is_terminal()\n",
        "\n",
        "    def get_graph(self) -> dict:\n",
        "\n",
        "        return self.graph\n",
        "\n",
        "    def get_current_pos_node(self, pos: tuple) -> Node:\n",
        "\n",
        "        for node in self.graph:\n",
        "            if node.get_position() == pos:\n",
        "                return node\n",
        "        raise Exception(\"Invalid position given.\")\n",
        "\n",
        "    def random_not_wall(self, nodes: list, depth: int = 0, max_depth: int = 20) -> Node:\n",
        "        #vraca random cvor, koji nije Wall, a ako jeste rukurizvno se poziva ova funkcija opet, sve dok nije ili se ne dostigne maksimalna dubina rekurzije koja je predefinisana sa 20\n",
        "        if depth > max_depth:\n",
        "            raise RecursionError(\"Maximum depth recursion je dostignut u random_not_wall funkciji\")\n",
        "\n",
        "        random_node = rdm.choice(nodes)\n",
        "        if isinstance(random_node, WallNode):\n",
        "            return self.random_not_wall(nodes, depth + 1, max_depth)\n",
        "\n",
        "        return random_node\n",
        "\n",
        "    def get_action_probabilities(self, node: Node, action: int) -> list:\n",
        "\n",
        "        #Vraca listu tupleova koji sadrze sledeci cvor i vrv da se dodje iz trenutnog cvora, za zadatu akciju\n",
        "\n",
        "        action_probabilities = []\n",
        "        for transition in self.graph[node]:\n",
        "            transition_action, next_node, probability = transition\n",
        "            if transition_action == action:\n",
        "                action_probabilities.append((next_node, probability))\n",
        "\n",
        "        return action_probabilities\n",
        "\n",
        "    def get_next_node(self, nodes_probs: list) -> Node:\n",
        "        #biramo cvor na osnovu liste verovatnoca\n",
        "        if not nodes_probs or not any(prob for _, prob in nodes_probs):\n",
        "            #vrati prvi cvor u listi kao default ili neki predefinisan cvor\n",
        "            return nodes_probs[0][0] if nodes_probs else self.get_default_node()\n",
        "\n",
        "        probabilities = [probability for _, probability in nodes_probs]\n",
        "        # uzmi random indeks prema rasprostranjenosti verovatnoca, gde svaki indeks odgovara cvoru sa iz action_probabilities\n",
        "        index = np.random.choice(len(probabilities), p=probabilities)\n",
        "        return nodes_probs[index][0]\n",
        "\n",
        "    def get_default_node(self):\n",
        "        # vrati prvi cvor iz grafa\n",
        "        return next(iter(self.get_graph()), None)"
      ],
      "metadata": {
        "id": "sClOIYf0C1SZ"
      },
      "execution_count": null,
      "outputs": []
    },
    {
      "cell_type": "markdown",
      "source": [
        "##Bojanje cvorova\n",
        "Regularan cvor je siv, kazneni je crven, zid je crn, terminalni je plav, u oslalim slucajevima je zelen, kao npr. u slicaju da je teleport."
      ],
      "metadata": {
        "id": "TByQVM_oZYWG"
      }
    },
    {
      "cell_type": "code",
      "source": [
        "def get_node_color(cell: Node) -> str:\n",
        "    if isinstance(cell, RegularNode) and cell.get_reward() == -10:\n",
        "        return \"red\"\n",
        "    elif isinstance(cell, RegularNode) and cell.get_reward() == -1:\n",
        "        return \"gray\"\n",
        "    elif isinstance(cell, WallNode):\n",
        "        return \"black\"\n",
        "    elif isinstance(cell, TerminalNode):\n",
        "        return \"blue\"\n",
        "    else:\n",
        "        return \"green\""
      ],
      "metadata": {
        "id": "x58IecXlC1XP"
      },
      "execution_count": null,
      "outputs": []
    },
    {
      "cell_type": "code",
      "source": [
        "def plot_maze_graph(env: MazeEnvironment):\n",
        "    #ploltujemo okruzenje, ali Wall nema grane ni ka njemu ni iz njega\n",
        "    g = nx.DiGraph()\n",
        "    graph = env.get_graph()\n",
        "    edge_labels = {}\n",
        "    pos = {}  # mesto, recnik, gde belezimo pozicije\n",
        "    offset = 0.1  # za podesavanje labela grana\n",
        "    action_colors = {\n",
        "        1: \"magenta\",\n",
        "        2: \"orange\",\n",
        "        3: \"cyan\"\n",
        "    }\n",
        "\n",
        "    teleport_edges = []  # lista sa granama iz teleporta\n",
        "    normal_edges = []  # lista koja ima ostale grane\n",
        "\n",
        "    for node in graph:\n",
        "        position = node.get_position()\n",
        "        pos[node] = position\n",
        "        g.add_node(node, pos=position)\n",
        "\n",
        "        if not isinstance(node, WallNode):\n",
        "            for action, next_node, probability in graph[node]:\n",
        "                if (action != 0 and probability != 0 and not isinstance(next_node, WallNode)):\n",
        "                    edge_color = action_colors.get(action, \"black\")\n",
        "                    if isinstance(node, TeleportNode):\n",
        "                        teleport_edges.append((node, next_node, edge_color))\n",
        "                    else:\n",
        "                        normal_edges.append((node, next_node, edge_color))\n",
        "                    edge_labels[(node, next_node)] = f\"{next_node.get_reward()}\"\n",
        "\n",
        "    # crtanje covorova\n",
        "    node_colors = {node: get_node_color(node) for node in g.nodes()}\n",
        "    node_color_list = [node_colors[node] for node in g.nodes()]\n",
        "    plt.figure(figsize=(10, 7))\n",
        "    nx.draw_networkx_nodes(g, pos, node_color=node_color_list, node_size=700)\n",
        "\n",
        "    # crtanje normalnih grana\n",
        "    for source, target, color in normal_edges:\n",
        "        nx.draw_networkx_edges(\n",
        "            g,\n",
        "            pos,\n",
        "            edgelist=[(source, target)],\n",
        "            edge_color=color,\n",
        "            arrowstyle=\"->\",\n",
        "            arrowsize=30,\n",
        "            connectionstyle=\"arc3,rad=0.2\",\n",
        "        )\n",
        "\n",
        "    # crtanje teleport grana, one su isprekidane\n",
        "    for source, target, color in teleport_edges:\n",
        "        nx.draw_networkx_edges(\n",
        "            g,\n",
        "            pos,\n",
        "            edgelist=[(source, target)],\n",
        "            edge_color=color,\n",
        "            style=\"dashed\",\n",
        "            alpha=0.5,\n",
        "            arrowstyle=\"->\",\n",
        "            arrowsize=30,\n",
        "            connectionstyle=\"arc3,rad=0.2\",\n",
        "        )\n",
        "\n",
        "    node_labels = {node: f\"{pos[node]}\" for node in g.nodes()}\n",
        "    nx.draw_networkx_labels(g, pos, labels=node_labels, font_color=\"white\")\n",
        "\n",
        "    # podesevanje labela pozicije za labele grana\n",
        "    edge_labels_pos = {\n",
        "        edge: [\n",
        "            (pos[edge[0]][0] + pos[edge[1]][0]) / 2 + offset,\n",
        "            (pos[edge[0]][1] + pos[edge[1]][1]) / 2 + offset,\n",
        "        ]\n",
        "        for edge in edge_labels\n",
        "    }\n",
        "\n",
        "    for edge, new_pos in edge_labels_pos.items():\n",
        "        label = edge_labels[edge]\n",
        "        plt.text(new_pos[0], new_pos[1], label, fontsize=10, color=\"red\")\n",
        "\n",
        "    # sta je koji cvor, legenda kao\n",
        "    node_type_colors = {\n",
        "        \"Regular Node\": \"gray\",\n",
        "        \"Terminal Node\": \"blue\",\n",
        "        \"Wall Node\": \"black\",\n",
        "        \"Teleport Node\": \"green\",\n",
        "    }\n",
        "    node_legends = [\n",
        "        plt.Line2D([0], [0], color=color, marker=\"o\", linestyle=\"\", markersize=10)\n",
        "        for color in node_type_colors.values()\n",
        "    ]\n",
        "    action_legends = [\n",
        "        plt.Line2D([0], [0], color=color, marker=\"\", linestyle=\"-\")\n",
        "        for color in action_colors.values()\n",
        "    ]\n",
        "\n",
        "    legend1 = plt.legend(\n",
        "        node_legends, node_type_colors.keys(), title=\"Node Types\", loc=\"upper left\"\n",
        "    )\n",
        "    plt.gca().add_artist(legend1)\n",
        "    plt.legend(\n",
        "        action_legends,\n",
        "        [f\"Action {a}\" for a in action_colors.keys()],\n",
        "        title=\"Actions\",\n",
        "        loc=\"lower left\",\n",
        "    )\n",
        "\n",
        "    plt.axis(\"off\")\n",
        "    plt.show()\n",
        "\n"
      ],
      "metadata": {
        "id": "mhjLLqoxC1aR"
      },
      "execution_count": null,
      "outputs": []
    },
    {
      "cell_type": "markdown",
      "source": [
        "\n",
        "\n",
        "##Iteriranje\n",
        "\n",
        "###Iteriranje po vrednostima\n",
        "\n",
        "Procena Q-vrednosti i V-vrednosti obavlja se pozivom funkcije value_iteration.\n",
        "Funkcija azurira ove vrednosti sve dok greska ne postane manja od odredjenog praga ili dok se ne dostigne maksimalan broj iteracija (maxit).\n",
        "Tokom svake iteracije (asinhrono azuriranje), poziva se ili update_q_value ili update_v_value u zavisnosti od toga da li se procenjuju Q-vrednosti ili V-vrednosti. U ovim funkcijama, koriste se Bellmanove jednačine za izracunavanje optimalnih vrednosti.\n",
        "\n",
        "Proces pronalaženja optimalne politike sprovodi se pozivom generate_optimal_policy, koji vraća politiku kao rečnik:\n",
        "\n",
        "```\n",
        "dict[position] = optimal_action\n",
        "```\n",
        "Parametar q_function se takođe prilagođava da li je politika zasnovana na V-vrednostima ili Q-vrednostima.\n",
        "Unutar ove funkcije, za svako stanje poziva se greedy_action kako bi se izvela politika.\n",
        "\n",
        "###Iteriranje po politikama\n",
        "\n",
        "Funkcija policy_iteration koristi se za izvrsavanje algoritma iteriranja po politikama.\n",
        "Opet, parametar q_function odredjuje da li algoritam koristi Q-vrednosti ili V-vrednosti.\n",
        "Unutar ove funkcije, petlja se izvrsava dok dve uzastopne politike ne budu iste.\n",
        "Inicialno, procenjuje V-vrednosti ili Q-vrednosti za datu politiku, a zatim formira pohlepnu politiku na osnovu ovih procenjenih vrednosti.\n",
        "\n",
        "Ovaj proces se ponavlja dok ne dođe do konvergencije politika."
      ],
      "metadata": {
        "id": "byURMIIzSewP"
      }
    },
    {
      "cell_type": "markdown",
      "source": [
        "##Inicijalizacije V vrednosti"
      ],
      "metadata": {
        "id": "kHfP0I5xhPwi"
      }
    },
    {
      "cell_type": "code",
      "source": [
        "def init_v_values(env: MazeEnvironment) -> dict:\n",
        "    #incijalna vrednost netreminalnih cvorova je random negativna vrednost, dok je vrednost terminalnog cvora 0\n",
        "    #kao izlaz imamo dict. sa kljucem kao tupple sa pozicijama, a vrednsti recnika su inicijalne v vrednosti\n",
        "\n",
        "    return {node.get_position(): -20 * random() if not env.is_terminal(node) else 0 for node in env.get_graph()}\n"
      ],
      "metadata": {
        "id": "BxXOyV-CC1c5"
      },
      "execution_count": null,
      "outputs": []
    },
    {
      "cell_type": "markdown",
      "source": [
        "##Inicijalizacije Q vrednosti\n",
        "Q-vrednosti predstavljaju ocekivanu korist od preuzimanja odredjdene akcije u odredjenom stanju i sledenja optimalne politike nakon toga.\n",
        "\n",
        "Q-vrednosti se inicijalizuju na isti način, kao i v vrednosti."
      ],
      "metadata": {
        "id": "wlcaa3T42REs"
      }
    },
    {
      "cell_type": "code",
      "source": [
        "def init_q_values(env: MazeEnvironment) -> dict:\n",
        "    q_values = {}\n",
        "    for node in env.get_graph():\n",
        "        for action in ACTIONS:\n",
        "            if env.is_terminal(node):\n",
        "                q_values[node.get_position(), action] = 0\n",
        "            else:\n",
        "                q_values[node.get_position(), action] = -20 * random()\n",
        "    return q_values\n",
        "\n"
      ],
      "metadata": {
        "id": "GRf6ISFWC1fx"
      },
      "execution_count": null,
      "outputs": []
    },
    {
      "cell_type": "markdown",
      "source": [
        "#Funkcija calculate_v_values\n",
        "Racuna v vrednost za cvor koristeci Bellmanovu jednacinu za stohasticko okruzenje. Formula:\n",
        "\n",
        "![image.png](data:image/png;base64,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)\n",
        "\n",
        "\n",
        "Notacija:\n",
        "\n",
        " V(s) vrednost u stanju s,\n",
        "\n",
        " a akcija,\n",
        "\n",
        " P(s'|s, a) je verovatnoca prelaska iz stanja s u s' preko akcije a,\n",
        "\n",
        " R(s, a, s') je nagrada koja se dobije prelaskom s->s' akcijom a,\n",
        "\n",
        " γ je gamma faktor obezvredjivanja,\n",
        "\n",
        " V(s') vrednost sledeceg stanja.\n",
        "\n",
        " Ova funkcija racuna ocekivanu korist svake akcije na datom cvoru i vraca maksimum ovih vrednosti."
      ],
      "metadata": {
        "id": "1B7OxSO33gpT"
      }
    },
    {
      "cell_type": "code",
      "source": [
        "def calculate_v_value(\n",
        "    env: MazeEnvironment, position: tuple, values: dict, gamma: float\n",
        ") -> float:\n",
        "    # ulazni argumenti su pozicija cvora, trenutni recnik v vrednosti i gamma\n",
        "    # izlaz je nova v vrednost za taj cvor, ako je zid u pitanju onda je fiksna velika negativna vrednost\n",
        "\n",
        "    node_at_position = env.get_current_pos_node(position)\n",
        "    action_values = []  # belezi izracunatu vrednost za svaku akciju\n",
        "\n",
        "    for action in ACTIONS:\n",
        "        value_for_action = 0\n",
        "        for next_node, transition_probability in env.get_action_probabilities(\n",
        "            node_at_position, action\n",
        "        ):\n",
        "            future_value = values[next_node.get_position()]\n",
        "            reward = next_node.get_reward()\n",
        "            value_for_action += transition_probability * (reward + gamma * future_value)\n",
        "\n",
        "        action_values.append(value_for_action)\n",
        "\n",
        "    # odabere najvecu vrednost od svih\n",
        "    # ako je zid daj -100\n",
        "    return max(action_values) if max(action_values) != 0 else -100"
      ],
      "metadata": {
        "id": "PrAxbOf5C1i3"
      },
      "execution_count": null,
      "outputs": []
    },
    {
      "cell_type": "markdown",
      "source": [
        "#Funkcija calculate_q_value\n",
        "\n",
        "kao i kod v_vrednosti racuna na bellmanovoj jednacini za q ucenje.\n",
        "![image.png](data:image/png;base64,iVBORw0KGgoAAAANSUhEUgAAAj0AAABZCAIAAABaCQIzAAAgAElEQVR4nO2dd1xT1xfAz3uZZBACJOwNspwo4p6te+9qa9W2rlbb2lprrbW1Wn/VqlWrrbW2ddUtanFvnICCOAAB2TshgZCdvPd+fzBkJBCWyu93vx/+IG/ce+49595z98MoigIEAoFAINoIdACgKEqjIWQyvU5HkCRyYwgEAoF4faETBJWdrdJoiFctCQKBQCAQDUPPylJptchpIRAIBKJtgCOnhUAgEIg2BN38LaIkR5VXQtK4LBc3K149DyIQbQbKaAA6A2vBEHUlqqw8vZ5Gt3fhOvDwFgwZgUCYxKQ7omTxWXsO5MblE+WLNHCOVVAvt+nTHdwYLR0/qb64NeGqwHP1bHtmS4f9AkJ972R+ClP4zmjbxr+rOvdz4pX8iuUqGIbR2QyRu6BLX6c+ASwL8oMqvJy46TJ9/Mp2PbhAFuZt25TPHd/p/R6vuiFAlEVsSb1bbGIZDi4Sf7DI1Z32MqWh8u5lXUnBO4x07Wzbkk7lBQbN/fDnR2+U5itIq06+Pyxxsmu2iyFlslN70s7FaTQV5YTmGCQeM927r9tr4L108kPrnj/QcIYuCXzDoTlZ2nqqIZOPP9l1D3rObT/Bz0SOkZL87Rvz8GHBCwawzWYoqbm87ellrsd/3he1qGyI1xoTtac2KWPj1twyX5cPZouDnBlkiSohKv9sjEIGDm4tHj9FKaXaQopo3VWMpC7xZt4NHr0pfgtIpVQrAfsZU+1tMSD1RrlEnRZfuO+HvKtD/JdMtxM2VEcZlbrCQrKiajMaiws1es1rsGiTIuV5ymyt4M0hQhsMgKJICsr3ROB8Lq91fEc90sgSCy/doHP6uXZugooahnh2LOG3KNawaYEdxFiphmHVfM+iLT26MfFcGX/YB759gjh8Up+dIL18Vposg74tX04ajeZx0e0cvUavvXlPPWgstxnJbT3V4J5BXPJ0XuTt0pF+QladePPvFsZKGNOCWPUKTyqLtYV6Y8tKhnjNqeO3SN3t03m5ds7LP/XyZwMAgIDZ30PYfageq+xckAWy609I3z727uyXKaqlmBCPwR/9WZeBeNN7dBjbKjDE3q2qCzLW/c2TCRvCU/b78D/syXwNWtdNBOPxe41083mpXSsAUhN/XW7wdej2ok+H+4wOXj0Qs3FqHYepL715W+MyJHBCX04LKYuS3c66lMt6c3nwNP/yVDAF/XntuzuXYpUxmEhmA2EWxBc8MfD7dOM1u2AZHkXJjR3dhskyI6Il2aO4HhaK8HJVw2wnDnPKj3hQ9GSqsKtVzXuE6m6UkhHoG2b/sttQiNefOqWYUGfnkQw3vmfNomMlYFZdMGQWHtqfl6B8DToNpjAlHt3ejefp0oIjkXTfYU4d2Ibkp0q0rKXRGJSRh9IuJBjIates7LmenhybVhosNujlKmC2ZAODys/WGBhcH8+aDsGKKXhRTkwks17IzMj0/RdKlRa/YDYghezuYyoo1KFXVx7kSO+mWxziS1YNjderBxcvld15aKgtSGpRVC6tQ287m7bbKkS0GnWMgsYUWmO6VFl8SRPdkl6hK9Gae5dUFatz87Uq0916yqAnTZUwUilVFxQbTXgI0ijLV+UW6bVNKer1C9MA2qyyXB0udmbXasgay7SFcmMTxCGNZM0EknqDqWw0GKT5mmJ1fdoxGkxmY1MhyfKsJw1GpdKob0TQ5hVncQiK4vqVSxpM5lItzB8KU6+5AgBlJisxGyED0yni4huTH5UYlNr8Ap26MfnSGLuiFLGSBBB07cB07GrniWnu3y2r7RbKxVDp8nPVUlXTjKVFVIM59xL70Y1P7haX1AiKSLotlfBte3euNoNsgeVbBlkm1cjrjNWTGl1+rrqohGjJsoNoHeqME+KcHv0EZ/cW7d5A5Qx1CO0kcBNU82364j2r0h4q9FoCTq2JuYgD7uT88RJXNxoAEDm3M/afLHpWaDTiNJGP/agZ3oO8q8In86Mz9h0peFpIkAAYmx3Q12P222Kn8puUMfls0tFzxRklJNPeZsgs/0mdmDgAkPrEC+lHz0tTZSQFwHa0HTnLb0xw+S1D8rmUvyJkOUoKAGgcq6BR7ZYMNRwwKR6mubjl6SWu+4a54vqEsbBlRxgy7+cePJCvCvaYO7hq3IlSpebt3ZfzIF2vozBhgPPMeV7dGhjioLJPx6+5ypk5l/vocM6DDD3wOQH9vOaMYj45knbqrqJIDQJvh7fm+/R2wgGALC25cCjzfLRCpgfAaI6dXWfNcQu2wQAACNXptfFXnf0W+5YcPFP8vNCA21XLxiajU908+Pz0PUWhju4W4jzGreTXk9Tk9R1HijEg1Rc2J1zmun8zX8wHAKBkN5LWRVDDlgYOFmPmFUfG7Ynb99Cg0FLkqUefXwTAOYM/Dh7pBgUXEzZeok/41r8ntyLq24fTTt4tLVRSOIftE+o6Y7qTNwcAgMjOWrumwHlOoO+T9DMPFIVKzC7QZdYCj042JnObyjn39OcLSrmRok49+vwiZt3Db8UUG4ZZc6XyIh59d5Wz8BuH4vCMc9FK17fDPu5dd5QNc+rhEHj2+d3dT8gcl/6hQn83ZrUq1mwySxNzDx3NjU7V6ynA2FadR/rMGSO0wUEfl7pqn0yhIAgya83nuThgToODlozk0ppgV6Qu5l4pFuDbgQc4xy7EM/PYg6KkKYIO1WaQDPnSY/vSrz3VakgAjCYKEE+e7cW++PDlqgYAALe37xWU+SxBEiNzeLMqXRr5nVi9bahDeyuA+i2/pq7zLiRsvkwf941/bz4AACkr2LEuhxjWftFgNg4ApDH18vN9EdJ0OUkxmAFv+MybZm+PA6kqPfdHakScWkkAAMZxFIyaFzzaF3X0Xl/qrsvAHAb5L9Gm7DwhCd8lCcdwoYdN6BvuE/rzuQBA5/We6OmbmLPrCtl1rHtHLmAcji0GAFTRjWfr95Q5DvVZ3s/aWl1252T6/g2J+q+Ch7nhAFRJdMqGX4s5vT0/Xyx0ZBGSZOnlOF1VM5dIyNxLub71sQu3WHb6QNaZfdmdgn386QBgzM4w+owNfDuI58DWRv6ReGhbis2aoAH2GJGZ+/cxhXBC+08HcGll2uwkaRKNhtFZZsQj1XKttKLd34AwJiHyC7Z9U8wAIPXGEpley7UePKHDgn7WVT6dzM/fsTE919d94RqxG1F2eX/qrt+YTstdXeqfVzCSupLiA38Zhr0VOJSrf/Tv8/CIlI3xNG4nj3nLPJXJeQcPF+w/btP5IxEXANSqDCV/7GLvIE8rdmHBH9vSt/3JXPOJoz0OAGDUk6Wxab8rnKfMC66TjWYhJUW/f1tSYwQIo3Wa1n5SEA6k5tr2x389pDz7eS4M5WIZ+cciFATwKx6jKJVcKzEaSbKi006q9RIJVdmHMKs4994e03xLI3blG7q6jetIxzC6sy0AAKHWS6RUhRZIzY1fn+xJsxr6dsd+/gx1WtHJQ2kbtpBfLXVxowMApdfpY/cnK970nPe5R/HD7AMns/f9Kwx+R2AyrcIOLlN4xf/uztd2dp3UhckScWj1mStGGUmdShnxkyRda91vuFfXdqbrL9zBacES4o+dmffCk++FA0vICwp1Gj/B0YsLAGaTqc5WKn3cF79t4+lAK4xM3nYo6U+bLp8MYNPdxROn8RMjUq4Y7MaOE3IxjOPMwppkV6RUGp2CBc4S8gEAt+rahXviuOzeU6JDSMU7ZIn0rw1JDzjiKZ8HdnSkaSSK6MsyqRbr9dJVAwCAs7r1Eh55VHwvSjN4ZEUrsCxOEqdkD+htXWGZ9Vp+dQiVTiIhNSQFgAEAkMYSidaoLu9BUflXkzYeVPuOD1jTk0uk5e3/O/k3gdXykZyss8+PJTMnLAse4IqVFamSHpTSWGhS7bXGlDnhTP9RQd+HyKOjZE8SS5NSZRf/KHmS0u6LOSI7nOXbTeSsKsKAcO1g372qfaQqDj8uY/YL/nSq0AoAgD1hEZv4Lv7kMUmPjx1sjIqIoxJVkM/yOU4iHABA5MAL6gsAAAQAAEUTjH7fLUSAgS9vYqb06VlVhoLyt8UA5wxZEFwpFvPNsaKra/JjHhkGDGIaCzQSit2zm0DMx4DPsHPmdwYAANPiVe/5680LYx6Mz+veT2iNAVCkukST8VR288TzMrXX9GE2AhwAjA//zX7Kc/pioXuQFQCwpy405qzIu5XuPNW3oQJAUL6j/UaFMHEAD47qwZOsXCuvdZNEDjiAJ0saJ/0nV1lIiLxpgDu5LPis8i2B89heBWsuSR+VOQwSVERhJHgj3nM1kY31pMuK0zFMWKPliuEuQgwAtI9zTj00uo3s+NVUazYAdOKzJA823WogNRWYV5ydr72ds/EmBlpXYWj3qvXNNVoNqtis4w/xfkuDpgbTAQDsPRbZU999n3XsjujTfuVVGUV4u743yk6Ag68HnhlTcjZbqSAFtiZcDMZ1FXa30d7AMJqzTWh3Dg4AKql5cxUDAKiVWSyP5SvcfazqBvgiZGt/t0++t3scLYl/UpqYpIi7mJLwRDH3C7/udpiZZILTkIAXOnzTvdfV+Esx8rJ+TgI76252HNXNFNByO4SKKmtkY6xZuzLXG6AKoqSpNMHsTuXdP8ypm517eObDezJViIgLAECmRGTcUdnMXO43SIQBAIisPIIcAADgJaumAn4XcWeB9O49Se4wDzcaAKl/cEeudXPp7VXxToOWbxEa2b+nS3gD2y8cY2MFACKvhSr1iotF6UPdJflaSiTq5s/m48Dns5x9WmVJK6IFMdcMwrjOtgPH2w4cD0Rp6fldSUci0w53FMzvbnrcSf+s+JGCFRYmeFHMmbzuIZwz54sfaxx65hbHF2H+o+xFZmyX5mLdjl9hgnw+HYDU60w8hgtZNhilVBoBmAxvgS/r+amNTwrCbIMDbIIDuALL9pYZMxoQxiQ4jxf2hvOL9YRA5NxI2bLn6XpF8IppNhxDWXyCnsHR3TuUElV+nyJUNG1WlhF8GxKLxvHzY5TLglkzuAAiX+uKrUU43ZqHUxJSZ6IviAltmRhpUCoBBJUhWZaNNULh8XoMdzW1npDMfFIqZwjGDOVXrjOgeXpw8FtNGfyvrjgLHiefPZArbEVh7V4YJ9PDPsQ553ysHPqV17CYi581vyLXGHwugJ5sKK0vqNdcxd4AgLF6jHep12lVJo3L6TTQo9NAAEL/7Hzy9iOF+w4LA+aLrC2xLpxpa4ORSkM1HdakPrsyk5OE6l60EnN1tZUq04vLX7HyFEHGI8nDMlFvPoBRGRuvofm7homa0KVoHdVYCft0Zd2+Jr2T4TbVBydlkrtJlO9EsZk+pQnLtwTDc1lCKc6RSQ79JSm/QqmNtCJVlhoPDuKz9mZt/FETFmITEGQTUGPIF/E60vDuV5pAMPx9j2fLUuKjSvXdRaZW6FJqmV4FdH7NXT98Ph0MOlkJRZboFcAIsjM/tMGkVVURtQuTWh13s/D+U0ValqZYYdQS4AUAALiD07xPiAMHcu+cLok8DWxX0Vvz/AZ5Nrzat2FhLILm2t9vRkrp5svZ94YJBlkZSsuA78y0etGwpvn3cRY5W1I10Kw4L35ggLHYNHOVnjqv+GZk8dOUsqx8nUJNEMCrcbuebGw0VGmJHvg2DtwXIWGNCtSM4hqGNMrkRuDSaxw9gTH4XDDIX1SAzNoLYiynAXP1BgDcys21kdMbNKb/8HYTn93fHS9N1IvCzK5kN+bFFUbeL0lJU+UXG9Raqr58Ic3YlaPm9Kroo2lVzRks6J3uy4YwcQAiUxqTTZG03J9/yK0WDgaGkqhYfc/+TJzUyRTAD2I1ZXlga6kG9+8jcrqWE3NHMcFHIL0nScEEb4fV2GvcgOVbIrvCUAZ0ZyGNXZVytnWfoWxnHBwG+X+iTTtwruh0QuFpjOba02vebCfP13KTD6Ici05twPlcN1vsscZoADClTYzNp7MotbyEArequoCSyQ2AM/k8wK0ZPDCWlZEmli9WBGD6MimX/rnu2X2G3RuDXGZO5DrRi39ZkVG5MgqzCXT7cI2rVq5Kii06dypv/99c/2/cXBqqbRoWxlJwe3smZjSUKAC4DAEPY3o4TJnKr1NkW2q3ACWPSVm3s5jRxWnQMJ+JHhx6TOKKozV7Py05Jo9xODRQ60sNAJY1Pquns17FNQRO43NxKk9fQsKLDi6pk5cCbvdClGaktQFzBQDAMBq98THgDDc3Fv7YqDJTToDUxfz5eOd9vMsbTsNmeng4YTG/xB2tJ19wc3ZFln0U0lX/wm+xbMq77OTzu9J8nvijDf7dqnUWSWnuj8vSEu5J5X2d7XCmNQ80ZQajpYqtLk9rqYbuJQ5zzz15X5IwiZEerWS29+v2YvDaAss3RzWjxK0ZPIzm0cdrqk9dAZmBowLWjCDkWaWxt3NPXXr+t4v1t2O4jU8H4iVRp+4mNUlP1Npa14oVKRIQu3PLywKGQa31wUx/2wC2/tE9ubLqkrYs6oGG7iMM4mN0T2GwkEyMKpZXNzYj2dD6c0oenXdLaj3lC/9Jg+0DPaysaVQda8XYQl7nwV7vDeOT+aocg2nxqtNUYWpDlsou3FaByCbYCQMGv1N7RsH9wiR1DfmJFtzbReqjLxZJ23l+scBzcKiNh5hBa90PfuIefny2tuTmbU1VPinr7higqmoGqqSkatVzQ4rDMAAwv1Qf9+8kYJfK7z1+UaNrU6UPCjGfDjbNSVIV9ZurZWFQRUny3NrlRJuSogUxz71aOameTFIuvXhL125K+wWTnEIDeWJrnKrb8CCrXTNrVzhfxHFx4Vb+cezLu8V6xd0HWuvOovY1RzhxW/seATT9M2mMlAI6r2MwS5covS+v0dIwGE3LXJNWUw2N06snny6XRV0vepBN79Lb7sVAaxMsv/I+WaJXVP7P8LFtb625f6ukRl4S1IsyitOEnraD3/Ib5gP52TWeQrxu1PFbytKInx+u3JR2+X5ptpwgSaIkteDPrZnPWMLhg/jlvTMaj25FqRMfqkukisjw/BQD4DaiCaOtNbdTNh8sSi3USdIlx7cmXZJxhkxydMQB2MJR421pD59v+rsgMU8ny1M8vJ6+8eukm2X1y4axBQw2oXoQWVqkJlUFJZfDCzMqrUwblfztprTrT1UylbE0t/hKjAoTWznTTYtXg6YJQxByqbaoSFtUpM58Jrt9NvXHVYk3FLyRc9z8GABA7zzGvaO64NfN6XfTtGqdIT+x8MjmR/setdxWEJwmENCIrOLIJK1abyxIyA+PbIEtz5RG8+RO4e3bFX+RNwquXy+4fqM4SwP8rs59HMinx5L2RiqkCl3GrdQdEdVixOg8LlBSVaaaAiClj7MOXa/ycPUpDgCARudZUXmJstwSbXJk5tWUWrmE2fT0GO1nvL074eBtRaFcmx6duXVHnszVedIAC2acLKABc7UIQ0JEwncrnx68LH2WrdOSlK5Ecf3PxBPPaB2HO1Xs/qiTTJzNFLDJrAeFSUVGvUqTcDkzMqN6FYzzeHQqr/Rhrl6aXBh+VWFopF1pE4seyJhde9rU7uzhzJAeNlZGRVSUBoDWYZR7Z5ps/6bU64lqmUyd+rDg8Ma4X28aTMpcM6DWUw0m7iEOYOlj/y3IFtj16lBtHKgxls/j0TFKm5VpJAEMUnn4ocKCqhRY2Y4ZL1Rfe7b5cFGa1KgrUyfezNi89vkjPRH1x8NNBwue5uhUan1ubF5MDoidOWZiQLwW1Bkn5ApHTxUdP1ewb0suCUCnY0YjxRLbTlrcrp+4oinK9Bd1E0mu7YtddIDmEOj87hsUMHCPEUGfM57v/Tdl9VmSwjCei+34T31HV6zCxsT9/ZdC2p4Tz/9zjSQBaHxu6BCPoIZGkLldXEf4lRw78vizI0DjWAWEchxpFU1cUsgRl+UdWJ+7mwQAYImEE+a7lI9dmBCvRo+/KcIQObkbPq+YMMBouJWNlU97j09HOXdxrBguwR2cFiyFA3uydn+bo6MAY7D8+7lO8mrBkTt6l+Gufk8zjqyLOQIYx1EQ6sKhFTU3UEpWfOz34tpXafyp/rbujjbTPvVTb3t+bVf8FQy383cY1JOXG1n5DM4M6WMXsbtg42IJl4XzvcRDBgqen6+oJOpRHAAA0zqsG/vutedfLXpu5WAz5F2CrGWHDN6IT9oz9j3/d3f8WQNgdLpLJ/dPZ7n5t4zbAoB6zNXCXiyj02iv9OO5V/clniUBp2OYkSJY7C6TAj/oVzkxUzeZXNvhI6yfHstY91kG0GiOAfYujlg1HeL+YXaiuwX7voo6YMUOHOL7Bgn8RtiV8ck9mUIk7uFf1/dighBRB27x/WgJjPbAxY7zl8KBPZn7/1OgIwFoDI9Q5wlBNNMyvyzV4DZ2vYIznjwwOgx3CKxxWKHllo8JQhy6RKRc2xgdxcUZfF7PIY7+z3OrZhYcBvovhbQ94SnfRpAUAMNO0G+khxedKnJhl11IW3+WIAEAw0UdPeYPQYOErzVYQkKJqetEcboiJVNTqsN4DvzgYJ5NzbFwUqXJLiSsRBwxv1YhIcsKNEorKwcBbqrlSqmK1MUkQyxmmj/huVZ4RkmOVsdhiW0ZddcyGlTaIolBz2A6ObGqB2hevOYJYwFGpSZfjgkdWbwW/VhGOaRKmyMhOPZWtjyT2dsakKX5GiWb5SSkSc48WnYUKvYdAwBQ2mJ1rpziO3LEdb/fUa/igDQUZWu1VmxnMaO+KVaDoaDQYCW2EjBbaT9N/ebaMNrisuQUVUEpQeNZ+QTbeNY6lchEMimVRCXR0e3FLJ6JRFGqIlWhliZytuLXzJfWsCtCpc0rpqzFbAG7Wpivi2pqYLnlk1pdbq6O5Fu5mJWfVBZq5DjT0Y7BeBEWqZJqJQqCYcNxsjW7MArxmmDObyEQtaAKa/stBAKBeAWghgUCgUAg2hKv+uuFiLYDzYphZwct8OUqBAKBaAZonBCBQCAQbQnUeEYgEAhEW4JOo6E5dgQCgUC0Gegt+hFYBAKBQCBaFzqLhfwWAoFAINoM9Opb7xAIBAKBeM1BTguBQCAQbQnktxAIBALRlkB+C4FAIBBtCeS3EAgEAtGWQH4LgUAgEG0J5LcQCAQC0ZZA5+oiEK8ZRNrx79dczCcAADDxwCXrprVD5bRNQGSf/u6HM5kkAABu3fvTDTM7vmqR/jdB5QGBeM0gpE+vpzks+ao/FwDjuInRoEhbgSbsMHwqt4wAMD74eVVsHiC/1Togv4VAvH7gQt9eQwbbv2oxEI2E59VzgBcAgFZ1EM9/1dL874KacggEAoFoSyC/hUAgEIi2BPJbCAQCgWhLIL+FQCAQiLYE8lsIBAKBaEug9YSIZkCk75gQsuqOFlhOgR09+aY+nU2RhNGgVZfJZUUFUqWBAgAATDh2++1/JoteTrOJLExOpvkG2KNG2v8fZGFSKq1du5bQfQsGhWgmyG8hmgHNa+ZXi09MWR+vMbpO3bn3Xb967clYmhV398qZf48fOBV94e9DKRMW+dNehpT6uKOH2J9/O4D1MiJDvFbo4w4eY3/1VUvovgWDQjQT1HZ4VZAFF/ddyCdN3SLkRZIWiUMnLSo1GUPLwQtbse3L/gKQXP527paH6nqfpQvcQ4fN/nZ7RNzV32bqT+2O0jY3dkJeKNU3NxAL0BXmS4wtFVbrK+V/BrLg3KELuWYKyctRff3opJISpMyXD/JbrwDjs72rfwxPSU1LTTm5fvXftW5mhK/efqusZWIqvrj1pwjTzrHFYAbO3bl2pDOmvLf5o1WRJZa8wms3YfPB5fybl4qbE7Ex4+h/tt8oewkmrI/btXZPGtFCob0MpbR9jIn/rP7+35Rn6anJEeu/3p9Uo9nw8lTfEMVXN/503rRnRbQeaJzwFUD3nzE37IdlK4+leJDf/biy+i1t3E8/Puq3bpV3i0TE8p8+P/Czb3Z5b5sX1IqapnlMXr8tOnHq3me/fry8x7ntEx0brlBw+4GLZ+Q1wxVo72/98WHvdWu9zCSMLLy66/fLeUYKgMiOiaHpll/DADCG59BP3u1p28gaj6IIimq6rDV4SUpp69ADp87t9dOyL06l3CK/27wsoFpWNaR6IAtu7Np+Lc9IAZDZ9x7QtKuu4QAYw3PEh+/2ETZK9w0ExfKfvCjwqy93ef4+LwAp8+WBSSSaVy3D/x3G5H3rTjD68pOfBAeUXVMt/252xQ0i+bc5a/n/+WuGU8u1JIm0X+d8Y7127wzX1m2dKqNWjZu8Pl5r/8aPV/bNbu2DYInU36Zv4G/6dYaLBanSnl/7n2bNb+nvfv/xrSm/LG2x6bj6laKPXj1sneeR8JlNOudJeXb1DsGyL3q38WkYY9LBdUeYffkpTzq2K7usGv/9OxWOoVGqB+35VZtaaFLKXFBE+tY5awVrf3+3ujK1p2cPujb1zuZhzY8XUZfXoKf9/we93Tsrv5wS4Ovp4zfphdMC0MftjWCPGtWCTgsAaJ4je5UcOpzYUtMz5uCFfbX1y34CkF5ePffnuPonupqN/v4/EVbDRllUc72OtKZSjPKMvJKW6hy+OugBb638ZnxAO3efduOWr3unqjfz+qme5jG2V+m+w89au4QhXoD6tq0OWfr04qmr6Wq27xtjhI9jrEePakcHANxx6MzhNR40Jl26zgv7kF/zdXX6xWMXUgkGxvIfOaWPu3mFkaWJZ09FZhKC4L49rdX09h1dmAAAgLsMHoAtOZfxSbBv667eYwXN+31N9MCPz0Rt/mhlaMSG/o0bkakLWXL/n3/ulDgPfncAdeHIjVwjv8OYaYNcmWBMOn+T13Nu7ZxKu3LsTBrBwFiBw6b0d22KaZfEHd9/p9hxwLS+mksnYuW4Q+jUsZ1s6j73kpVSGnf40B2pw4C3e2nOnY6V4w5hE8eGCJqQvgqh5AnnD566myfoNWPm8EAeAJAFj5/oO3R0r/lYwa2/fruYUuI6driO5IIAABSCSURBVHlfxfmobIlE5zvm3dF2qafOxhbI5caAsXOH+rIBAPTpN46eT9VhaqnSddQH44MEAKr48D9uF+IYSTr1/WCM25MTB+9JKQL3GfXeUD9TKSZLE8+eupGmZrd7Y4Twcaxg/LAAAMAdR06vXUhaSfXlUpQkXjwemUUIAgf2tFbRAztXqKt+cNfBfbEll9I/CTSZNETL8/q0Wv43ITKOLZ25KqXjrAUfvFmwZfgH/+TwzWZ52ZMEhZtPjakXsvDYih8ed525cPZb3Qt/WXOy1Hw8JxfNXPus44wPZ/bM+GHsqO8vFlfNFdNcAzwKHj6qs3iPlFzZ+tm8xYvnmvqb9/EXv91vbK+J5jFlw7YZ3nR98s6Pvzze3KUHuuh/IgUTOiavnTNjW0K76R9+NFy54f3NsUYA5ZMnZW5+NdwiWXByxaqEru99MHtmt8JN609WXx/C6DxhSjDDggjv77nGmRiYvHLWrC3pwZM8n/60bMe1unnQqkoxJVbUgWucsYFJa2ZN25HecZznoy3LtkY2uUNLFl/9dsriPXGlRuntnz745lwhCaC9f/yWTFj7Sdyxx9Qptk/27v9tV7zLhFnvLwjNWPnu/GX/ZHWYNGfhTM+ozxdvfUYAgPHp1jnLY1zGzJq/cIbDyXcnbn1qBOC2H/F2H9atnZuvlgrZOM8659qJdLu+Y/p4m6rZKzPq7cUfDMzfMmHmP7l8E08BQKNVD4zOUyZYonsAINJPLp2yNqXzjLnv9cxcNXbS1xdlNSzYfFA013aeBY/imr08FmEpqL/VmhApu5d8njL00vrOfACGGFPYhfY2u9eWKCws5tgIapRr/f1zkRKviZJSox24DZkYxjPzaupvS1YkDz21tTMPgC7mkV6BParFg9sKWUUFUgK4NQLHRQPmfdddR5p2LzjNisNpRForwxy5essn8VN+ehS+5JOwjgfm+DfZwowZz23CxhGJO0o8J86d1JEHgDnYpJ65lv15J0OhtE5ORV2MLPKcWKQw2oPbiDFh1Ss+mmNgkEURpgnDRpJJuxTeYz+aGGBXtvBguLBz3TxoVaWYEivVJmwclbRD4T1x/sQg27JP/g637VBDLKOqVKEjKsYGFRq9nimTycqnYTCMzhFYs6vi1cX8dtZ58+nV7TkAoI79efWh5MGTn95hDvzIhKug8zxd7HCNS/8J7fkAhJeXQ36c3dCRfhwAupe3TVZKugH8abio+7hRYicrHGhOg/u6Ljlzt+ijYGcay67j7J3bM0csWbm/3dhs2sIj6waY/pJYzYxywBR2oT0czGQGUdQ41QPNMTig/vytkmL3whUpI06t78oDoIt4pEdwj5pbjOsJChfasiR5FigT0TIgv9WKGOP37r3vO32TNw0A9PH34pghk80vWKD0egOdUbM9x+w27s2Ncyd1+5HXbuRnW3a6mS4VxviDu+97z9zkRQMA/ZPbcZywqd7V42HQ6YTBUPdFGovHb/Hpe16Pr7ctix79XeT1bdtuTftlQOOdXzl0/xnT/UvD/3rq23OLPQ4AxtRnqQZGbwZGqfQGGqPmCA4zbPSb6xZNCtzMCxj62W9bzeRUAxFOmemvOPpXkn+fnxxwwAV+3UyOxbWyUuqKVZ4PCX59fhHhgAv8u9QUi5Tc+HP98TRjhd8ypMc/ZK7+/k7F4SUYu8v0lXO7VWqB5jFzaVe3il+czm93u30uOkLuMXa8WbvEhfYiGgAAhmMYZudQ/gPHcYwkCAAAXNxjfL/nf/+05pK9iJNUTFRLlU3vr/6YNXXYB+c33fzN3Ocv62QUK3SyrzlpKH2rqB7AGHtwb5T39B0VUtx7wAl929vy2pHBsEyZiJYB+a1WRP0sIce5WzdnGgAQObeii0Pe72TeTeACa64qr6xa70eZ/rAoZPXVzGVpMed/+XTVz6ff2v+OickWUD1LynLuElYRz9270uD5HaisrAIXd0caAAClUmq47oLapzCR0uu/bzmdYTA9h4+xOk5ZPrsLu3FJBgAAVsDkWQN2FduvX9mvqU6rAl3c3Xjb0LmeNAAg0m/cygx4c5AjjlPWXHWeonpOZTws7Lz6XsKy57HnN365asOZt469ZSqnGo7w4a14Ydg8V/N1XysrxYxYsXfjbbvNM10l46LBizYMrvpZcmDOtzY/bx5pWnN0R7dqfRnc2ovx+O/SIesc6pswwOr5BUDmHv9oyEbexvANIx1oxXuvrs0CUEslYC/iAZCSlLIu08POrVtzod+GoSZdV+2MKu60wHwpwQWtpHp1UlKOa5duLjQAILLvRkuC3+tE5WQWOHk4WuAHKVWZhuthoTIRzQfNb7UiTKEt314kogGALvn0mWeBfXqYGVMCAMAdvD0oyYtjGYwJO2ZMXRmeQzCF3r1HD+0W3M6PAwBAZJ1d+83OyGpj7yyhUGAvcqABgC7p9PmEdqFh+J3TlworHZIuT0Lz8raurWvcvue0Dz9btGiJyb/FH04IborTAtA+/n3xZsOSA9+/WW9taAHG1FsPiv2CA5gAUHJz+3HljGWzg+iAi7w9KUlRtZz6+f2pX5zOIZhCnx6jR4YEB/ha4C+JrNMbvvnldo05DGNa1H1tl17BZmfjzSiFyDy74cudt6tvo26iUkzHmnYnVtuth3mxmgzOkBbahPWtxywpgEqRy7ewUdV/AIAm8vQlqs/4NxxoAMbcfAlJUrrE08cf6QBK7+7YmTP08x+2/Dz68Yr5+1JNrrirlVGJgT17mRen1VTPFAr5osqyevx8UkBoKO3OmXOFli3M1BUU0Tx8LVMmogWgffHF169ahv9Z6O7erMhDt/T0gsjw/Uf+pQatnNennqocF8iv70sNmtKnfNsubkUnCY6AZZClRZ8++sBh1ifjPNgYgCH+z8Xr9uW4TBnfkYtVxOPJijx2Q0/PvRERT7NTZihY8lL7YWM6lE9f62P37czruXhccJ1WLJ3Ns7a2Fpj843PZTRlwIXMjlr5zwHvj7o9CuE14vWZYhf/+uCmb7azSKzJO/3GG8f7WNW+IcQDABfKb+5IDpvR3qJlT8rS7Z47GiGctHeVh1WDb1xC/84t1f+W6TB/bsUpS+YUdm7XDV08Oqln5ETmR57OCR/S2x80oxRD35xff7ct1Wzi2c+U7TVYKAJF7Y/8tm8nTOlVKUXLh51+0o76e3MHKglzTPj51nT1ymGU76PRPb2W1m9zXw9TDZMGtvzfsvxj3XKokhb7ijIO/Hr6UkFmswsQ+nPi/dh25k5hdqmU6dR7sr7tx6mYhl5lz+8xjYYDV7Qv3jV5B9o93f79i9SlVn5nTwsRE7s0jv+3790GBztovxFdQowxUZVRe5L9/HzlLDVq2qI+5McXWUz3d05N17dgtHT3/SsQTmp0yTcGUldqNGhNsyaJYfeyhX/K6fzYu8EVDz/js1J6M9u8N8234bUTjQfuOWxlSXZQtYdjnbxk6R70ubn3feqeTZEfmL3j+8YHlgVXViFaSkSkhhR6eYm718lNy4vdLfd+vfp46qS7MKqTEHo4cnFAW5Bls3YQVrXN9zOqx/3Q/tHlY0xdOW0xZzPqJyzLe37NtStNmGWqFdvKD9r+3vxw+m12gsfNwqO5Lik/Mn53+8YnPquWUNCNdStq6eTpwLW/2lhz569KA2ZPFVRfURQUGe0dBrRBq7Ts2rRT5ib/OTZg9vfp7TVRK3X3H6sJCg8ihtlhm0nTgvW9ttv9sZpywVkwx65YlzN74rgUHnDSAUZ6dVWbt6i5gklqFCrfmN6pvSKoLs4sZ9gU/DV2oWndrS72lpLVUD0CqizILKQcPBw5OlBUUGGxdbC1Khf7e6ml7uv/96zDrF9fQvuNWBfVsWxmcI/bwsM6LvCcL6dmloTUQtuM+6pl4MLLawmq2yNM/yLum0wKy8LacF1rzrCKc4+Dp5cjBAYDGc6yqH4GUnD6UM2LBGy/BaRnTD81fGjV084YWcVoAugd3Htp06+HBsnar6bQAwG7UR32eHbymeHGFbe8ZGODdmJoLyKLbMl6oXfVLHHEdp1UXU0ohiyLlvJ61HmwxpXAcLHRaAMDvu3BWV8u8BvH8Tq6gfWMPvTIJXejm7S5gAgDObqTTAgCc4+DhJsi7fVvWqU9DpaS1VA+Ac8ReXg7l6uI7Wui0gJSc3Zcz5OM3rBt+FNFSIL/V2hCZF7esWX9WJlJH/XMlt4ED+Zjt53/mdnHrDVl9W59KYy6qQsZ4WuIbyLxzO251+nxeax+7BEDKbqxY8If9V79+2smy8UGyIHzn4RSzt1WxR9b9GovZFFw5/MDUBilm+8WL3M7+eqO46ZvESu9dUXUbblE+NkhJzBVlyHAvi55tZaXQ3Lt2trD/VBabZ9u3kbNmxuS7dwpb/BxZIuPijm/WX5CKNHf+uZ5dfyl5rVRPFvy7427I53PQ6YQvFTRO+NpByu4cuc6eNiGk+UEpow+eZ46Y1LnVO1u6xB2zFlwb9vuBd9tZVguqHv/50VrllwcWN+fIP7I46sgV9pgpnZq5arFBiJQju5/2e39c84fTwBKlNO98wkZAFEsUNiJho1Sgjtj4i8vHX3RpYj2tzM3RObnaNTcjX5rqG6As+lgEc8hbnet0ttA4YauCWgmvHbhtr2kTWiYoXve3JrVMSPVBFpz6ctGx9j+csMhpEbLEi7u3/Lj5gu3KyGYei4PbhU2b0qwQLITmN2WuX0sF9nKUYhE0O1GdUzJaE13cTyOmP553f8+M5q7ZeWmqbwB+90lvvWoZ/h9BfgvRPJTRm95ffNdz4aLMfw9mmnqAMuq1arW6rCT/eVLC06SEhHSZjsJsRmyb+BqdjYqoH7Ik6frlxBKSAsPj5KS0U0fSMcAYbqHDe1YdBqjPufLn35cKjBhFAcYNeWvJ5FpnpRBZR88mMOllijISGjMXhUDUBvktRHOQX1n74e+JWmPCppVXLXyFxeOzMPtx04abX+yMeOUQxUk3rz01BoS1txc6OnJxjr1XQDs1BaCT3o8X+wX60QCj29hUqpBI27Niu2bGyh8625jRKllw4UTJgHe7nv1eKiWhRUZcEf+3IL+FaA7Cwetikte9aikQLYv+yV9LNpe9s24W6/dp44uWXd/an8W092pvDwCgTrezdwnqEFyj5tDeOpzYc7l5pwWk5NLe9G7z5jnusilOzSegPap4EM0AmQ8CgagOmX3g6738T8+FielxeiowrJ6zySrfkKdlP4rfuiK+csdvrXFCMv/EhpPanhOjbqSUQklWdgkJzT1KBfF/DfJbCASiOoaslDzfbl3ZQGTcjeGGvp0Z/cCme9fKu6wuo8bwajkdXOjt3tl27g9jbWteN2q1wGbrH+3edEMcElSc8byYYghtUx491oND084QQyAAkN9CtCDG5FsPBL3CUFO6bcPqNHIM6+zh02BIekpy7E7fzJvQ6cVdmot/3a95sHtP8vvyP3/6fj0nuNqKcEX43NFHrdozNEGf//p5l/IlhGqPhP1L/9pwyn7RaPOjighE/SC/hWgx9Mk377r0QH6rrcPr/fXWbkoNxhsz8QOVUsvmNbxqne47e+2H53f//OUxEiMr1xP6DVm6RHqV6jdnXHBVCJxByw5uzbIN6YicFqLpIL+FQCBqg7PKnRWNa4HTKoflMWzhNzW32Qo6jF3QodZjNMeu/RxbQELE/zPIbyGaCVmadOVaopykwPg46VnasRPpOGAM19DR3V0bsi5l0oWjEfFZmakJKergDzd8PdoJNcLLMTz9Z+m7t5kAmHjgknXTWv+cLkRLQGSf/u6HM5kkAFkQo/Ga+qrl+Z8FlQdEM8Gt7H3atVNRAHpp1GNxgH+trT2gTj376+GHGgYdAGiuA+dPCy3/NoTy0rdLY6Yd/3o2E9Q3fvlZarTsW0f/+9D9p/+0vbeSAgDAOG5on1ubgSbsMHwqt4wAAHh7lkvnhp5HNBF0PiGiCejSb0U8VjD1WkGfcf2q9pCqI9b97rL0k5pH15VeXbuxaMrX0/zqnAGljvpxxMfX/cZPGz106NDOjg2utkYgEAgAdB48oinobh8JT7dydOcbZMoGOknaO9ef8+hxESeOnDhx5ET48cgUZfkNVU6R52dXL//+QQf9tVVjB665o2p9uREIxP8CyG8hGgspT7ce8nankuij4Y/VvGofl2V1GTfCu5ZFYUy20NEn0N+//C/Aw44NAMZHP7zz/U0cx3lu3Ud8sGH1eH5Oof6lJgKBQLRZ0PwWorFoYw9vv9/tvT7egaEOAdbV/BTNJbBd7YdZvYe5f3ddNmxxf3G1w98xgZdL8n/eW5w8ONgeNGpC/MW3Y17qyeQIBKLtgua3EE2AUEoleiuRLdeij1fK4w/uOZump2E112WoCpKeFYGdu7eHTWO/j4tAIP6PQX4LgUAgEG0JNL+FQCAQiLYEmt9CvBTUaTfCT9199DhdzbFmUXqNjubYc9qC2d3tUcsJgUA0DjROiGhp1Mlndx+o3GfsPvC9t0N5z/Z8fcTx02We+8ducD/2x2Q+6PMiPhtxuOe1fdPRcgwEAtE4UH8L0XSI7BsnzsVpXAN5anmZjB42a1IAs+Tq9j8V41d/5Vt9rYX/Oz+swnHtxVxw788CAH1pVp5g8nvDBK9KcgQC0XZBfgvRZIjMFJ2vMG5lTNjhlSGx+y8ZSADtzetpvI6PTp54BACA0UTtBw/04+E4DmBMic/z6oL9OWfgTtXg79d+ucKX96pTgEAg2iBodgHRZGjeg/qrHip6jurKxUV9Z07vwAbAWGyhs49/5Ubjdl52lR8IJDIuPhIP7dd1zlfveqbefliGAwCpVKrIV5kEBALR9kD9LUQzINLv53n2Dq42JMjqN8z1q+vykYv7ONTc22V8fDzaa/ICATAFM7evih2x4D3l1DChTcg77/az9EsZCAQCAWhdBqKZ6PVGJrNm64eUxR/742x6+T5j94HvvR1qgwOQpdISK3vbShenKkgvtnJzF6CGEwKBaCTIbyEQCASiLYHmtxAIBALRlvgvMSIMaoV/V2EAAAAASUVORK5CYII=)\n",
        "\n",
        "\n",
        "Notacija:\n",
        "\n",
        " Q(s,a) q vrednost akcije a u stanju s\n",
        "\n",
        "P(s'|s, a) je verovatnoca prelaska s->s' u akciji a\n",
        "\n",
        "R(s, a, s') je nagrada primljena posle s->s' sa akcijom a,\n",
        "\n",
        "max_a'{ Q(s', a') } predstavlja maximum q vrednost za sledece s' stanje iz svih dostupnih akcija a'\n"
      ],
      "metadata": {
        "id": "Ag_lzp9Q5xZ9"
      }
    },
    {
      "cell_type": "code",
      "source": [
        "def calculate_q_value(\n",
        "    env: MazeEnvironment, state: tuple, values: dict, gamma: float\n",
        ") -> float:\n",
        "\n",
        "    node_at_state = env.get_current_pos_node(state[0])\n",
        "    action_value_contributions = []\n",
        "\n",
        "    for next_node, transition_prob in env.get_action_probabilities(\n",
        "        node_at_state, state[1]\n",
        "    ):\n",
        "        future_values = [\n",
        "            values[next_node.get_position(), next_action] for next_action in ACTIONS\n",
        "        ]\n",
        "        best_future_value = max(future_values)\n",
        "        reward = next_node.get_reward()\n",
        "\n",
        "        value_contribution = transition_prob * (reward + gamma * best_future_value)\n",
        "        action_value_contributions.append(value_contribution)\n",
        "    return sum(action_value_contributions) if action_value_contributions else -100"
      ],
      "metadata": {
        "id": "eHDI--mUC1lk"
      },
      "execution_count": null,
      "outputs": []
    },
    {
      "cell_type": "markdown",
      "source": [
        "#Asinhrono azuriranje vrednosti\n",
        "Ova funkcija vrši asinhrono azuriranje svih vrednosti (V ili Q) za jednu iteraciju u algoritmu iteracije po vrednosti ili Q-ucenja.\n",
        "\n",
        "Ova funkcija iterira kroz sve parove stanja-akcija (za Q vrednosti) ili sva stanja (za iteraciju po vrednosti) u okruzenju i azurira njihove vrednosti na osnovu trenutnih procena.\n",
        "\n",
        "Azuriranje je **'asinhrono'** jer se vrednosti azuriraju jedna po jedna, i svako azuriranje koristi najnovije vrednosti.\n",
        "\n",
        "Prilikom azuriranja Q-vrednosti (q_function=True), funkcija izracunava Q-vrednost za svaki par stanja-akcije gde stanje nije terminalno, koristeci funkciju calculate_q_value. To ukljucuje procenu ocekivane koristi svakog moguceg sledeceg stanja iz datog para stanje-akcija.\n",
        "\n",
        "Prilikom ažuriranja V-vrednosti (q_function=False), funkcija izracunava V-vrednost za svako ne-terminalno stanje koristeci funkciju calculate_v_value. To ukljucuje pronalazenje maksimalne ocekivane koristi preko svih mogucih akcija iz tog stanja.\n"
      ],
      "metadata": {
        "id": "Ws9Sddjl7pxM"
      }
    },
    {
      "cell_type": "code",
      "source": [
        "def async_update_all_values(\n",
        "    env: MazeEnvironment, values: dict, gamma: float, q_function: bool\n",
        ") -> dict:\n",
        "    for state_action_pair in values:\n",
        "        if q_function:\n",
        "            # kad update radimo, provera da nije u pitanju terminal\n",
        "            if not env.is_terminal_pos(\n",
        "                state_action_pair[0]\n",
        "            ):\n",
        "                values[state_action_pair] = calculate_q_value(\n",
        "                    env, state_action_pair, values, gamma\n",
        "                )\n",
        "        else:\n",
        "            # kad updateujemo v vrednosti, stanje je zapravo pozicija\n",
        "            position = (\n",
        "                state_action_pair  # ovde je to, pozicija je zapravo stanje\n",
        "            )\n",
        "            if not env.is_terminal_pos(position):\n",
        "                values[position] = calculate_v_value(env, position, values, gamma)\n",
        "\n",
        "    return values"
      ],
      "metadata": {
        "id": "86JkdNAGC1oL"
      },
      "execution_count": null,
      "outputs": []
    },
    {
      "cell_type": "markdown",
      "source": [
        "Iteriranje kroz politike i iteriranje kroz vrednosti predstavljaju dva različita pristupa u učenju pojačanja (RL), svaki sa svojim implikacijama i primenama:\n",
        "\n",
        "**Iteriranje kroz Politike:**\n",
        "  - U algoritmima iteracije politike, fokus je na iterativnom poboljšanju politike direktno.\n",
        "Proces uključuje evaluaciju trenutne politike i zatim njeno poboljšanje.\n",
        "\n",
        "  - Algoritmi iteracije politike se smenjuju između ova dva koraka sve dok ne konvergiraju, rezultirajući politikom koja je optimalna ili blizu optimalne.\n",
        "\n",
        "  - Cilj je pronaći najbolju politiku koja maksimizira očekivanu kumulativnu nagradu tokom vremena.\n",
        "\n",
        "\n",
        "**Iteriranje kroz Vrednosti:**\n",
        "\n",
        "  - U algoritmima iteracije vrednosti, fokus je na iterativnom poboljšanju funkcije vrednosti, koja predstavlja očekivanu kumulativnu nagradu iz svakog stanja ili par stanje-akcija.\n",
        "\n",
        "  - Proces uključuje iterativno ažuriranje funkcije vrednosti dok ne konvergira ka optimalnoj funkciji vrednosti.\n",
        "\n",
        "  - Kada se pronađe optimalna funkcija vrednosti, politika se može izvesti biranjem akcija koje maksimiziraju očekivanu kumulativnu nagradu na osnovu trenutnih procena vrednosti.\n",
        "  \n",
        "  - Iteracija vrednosti direktno optimizuje funkciju vrednosti umesto politike, a politika se izvodi iz funkcije vrednosti kada se ona konvergira.\n",
        "\n",
        "U suštini, iteriranje kroz politike predstavlja **direktan** pristup i direktno azuzira politiku , dok iteriranje kroz vrednosti predstavlja **indirektan** pristup i fokusira na poboljšanje funkcije vrednosti, iz koje sledi izvođenje optimalne politike.\n",
        "\n",
        "Oba pristupa imaju za cilj pronalaženje optimalne ili blizu optimalne politike, ali se razlikuju po svojim osnovnim mehanizmima i računarskim postupcima.\n",
        "\n",
        "###Iteriranje po vrednostima\n"
      ],
      "metadata": {
        "id": "KBrTg_Ry9Nuk"
      }
    },
    {
      "cell_type": "code",
      "source": [
        "def value_iteration(\n",
        "    env: MazeEnvironment,\n",
        "    gamma: float,\n",
        "    convergence_threshold: float,\n",
        "    max_iterations: int = 100,\n",
        "    use_q_function: bool = False,\n",
        ") -> tuple:\n",
        "\n",
        "    current_values = init_q_values(env) if use_q_function else init_v_values(env)\n",
        "    for iteration_number in range(max_iterations):\n",
        "        previous_values = copy(current_values)\n",
        "        updated_values = async_update_all_values(\n",
        "            env, current_values, gamma, use_q_function\n",
        "        )\n",
        "        max_error = max(\n",
        "            abs(updated_values[state] - previous_values[state])\n",
        "            for state in current_values\n",
        "        )\n",
        "\n",
        "        if max_error < convergence_threshold:\n",
        "            return updated_values, iteration_number + 1\n",
        "\n",
        "        current_values = updated_values\n",
        "\n",
        "    return current_values, iteration_number + 1\n"
      ],
      "metadata": {
        "id": "i2L5AT_JC1qy"
      },
      "execution_count": null,
      "outputs": []
    },
    {
      "cell_type": "markdown",
      "source": [
        "Odlucuje najbolju akciju ako su iste vrednosti.\n",
        "\n",
        "Ako je vrednost za obe akcije 1 i 2 jednaka -1 onda vraca prvu."
      ],
      "metadata": {
        "id": "uuFXDtSYMnxb"
      }
    },
    {
      "cell_type": "code",
      "source": [
        "def best_action_min_arg(actions_probs: list) -> int:\n",
        "    max_probability = max(prob for _, prob in actions_probs)\n",
        "    max_probability_elements = [\n",
        "        (action, prob) for action, prob in actions_probs if prob == max_probability\n",
        "    ]\n",
        "\n",
        "    min_action = min(action for action, _ in max_probability_elements)\n",
        "    min_action_element = [\n",
        "        (action, prob)\n",
        "        for action, prob in max_probability_elements\n",
        "        if action == min_action\n",
        "    ][0][0]\n",
        "\n",
        "    return min_action_element"
      ],
      "metadata": {
        "id": "eUfTMQ3RC1tD"
      },
      "execution_count": null,
      "outputs": []
    },
    {
      "cell_type": "markdown",
      "source": [
        "#Greedy akcija\n",
        "Odlucuje koja je to najbolja akcija za izvrsiti u trenutnom cvoru na pohlapan nacin.\n",
        "\n",
        "Ova funkcija izracunava ocekivanu korist za svaku mogucu akciju iz trenutnog cvora i bira akciju koja maximizuje tu ocekivanu korist."
      ],
      "metadata": {
        "id": "gzuXe32aNMih"
      }
    },
    {
      "cell_type": "code",
      "source": [
        "def greedy_action(\n",
        "    env: MazeEnvironment,\n",
        "    current_node: Node,\n",
        "    values: dict,\n",
        "    gamma: float,\n",
        "    use_q_values: bool = False,\n",
        ") -> int:\n",
        "    action_values = []\n",
        "    #iteracija kroz akcije\n",
        "    for action in ACTIONS:\n",
        "      #reset koristi\n",
        "        expected_utility = 0\n",
        "        #idemo kroz sledece cvorove\n",
        "        for next_node, transition_prob in env.get_action_probabilities(\n",
        "            current_node, action\n",
        "        ):\n",
        "            if use_q_values:\n",
        "                future_values = [\n",
        "                    values[next_node.get_position(), next_action]\n",
        "                    for next_action in ACTIONS\n",
        "                ]\n",
        "                best_future_value = max(future_values)\n",
        "            else:\n",
        "                best_future_value = values[next_node.get_position()]\n",
        "\n",
        "            expected_utility += transition_prob * (\n",
        "                next_node.get_reward() + gamma * best_future_value\n",
        "            )\n",
        "\n",
        "        action_values.append((action, expected_utility))\n",
        "\n",
        "    # vraca tu najbolju akciju\n",
        "    return best_action_min_arg(action_values) if action_values else None\n",
        "\n"
      ],
      "metadata": {
        "id": "cVIw2BGKTAcO"
      },
      "execution_count": null,
      "outputs": []
    },
    {
      "cell_type": "markdown",
      "source": [
        "Generise optimalnu politiku za nase maze okruzenje na osnovu date V ili Q vrednosti.\n",
        "\n",
        "Politika je mapiranje pozicije svakog cvora na najbolju akciju odredjenu pohlepnom strategijom, koja maximizuje ocekivanu korist na osnovu trenutnih procena vrednosti (V ili Q vrednosti).\n",
        "\n"
      ],
      "metadata": {
        "id": "zCljtUPIOV9y"
      }
    },
    {
      "cell_type": "code",
      "source": [
        "def generate_optimal_policy(\n",
        "    env: MazeEnvironment, values: dict, gamma: float, use_q_values: bool = False\n",
        ") -> dict:\n",
        "    optimal_policy = {}\n",
        "    for node in env.get_graph():\n",
        "        if not (node.is_terminal() or not node.is_steppable()):\n",
        "            node_position = node.get_position()\n",
        "            best_action = greedy_action(env, node, values, gamma, use_q_values)\n",
        "            optimal_policy[node_position] = best_action\n",
        "\n",
        "    return optimal_policy"
      ],
      "metadata": {
        "id": "gJDW9PWBTAhk"
      },
      "execution_count": null,
      "outputs": []
    },
    {
      "cell_type": "markdown",
      "source": [
        "Random politika. idi u neko random stanje iz trenutnog."
      ],
      "metadata": {
        "id": "P8khNOFYO1_i"
      }
    },
    {
      "cell_type": "code",
      "source": [
        "def generate_random_policy(env: MazeEnvironment) -> dict:\n",
        "    policy = {}\n",
        "    for s in env.get_graph():\n",
        "        policy[s.get_position()] = rdm.choice(ACTIONS)\n",
        "    return policy"
      ],
      "metadata": {
        "id": "niMSYc_HTAkO"
      },
      "execution_count": null,
      "outputs": []
    },
    {
      "cell_type": "markdown",
      "source": [
        "##Procena Q i V vredosti"
      ],
      "metadata": {
        "id": "geL2kk99PARh"
      }
    },
    {
      "cell_type": "code",
      "source": [
        "def evaluate_values(\n",
        "    env: MazeEnvironment,\n",
        "    policy: dict,\n",
        "    gamma: float,\n",
        "    convergence_threshold: float,\n",
        "    use_q_values: bool = False,\n",
        ") -> dict:\n",
        "    current_values = init_q_values(env) if use_q_values else init_v_values(env)\n",
        "    updated_values = copy(current_values)\n",
        "\n",
        "    while True:\n",
        "        for state in current_values:\n",
        "            node = env.get_current_pos_node(state[0] if use_q_values else state)\n",
        "\n",
        "            if isinstance(node, WallNode):\n",
        "                updated_values[state] = -100\n",
        "            elif isinstance(node, TerminalNode):\n",
        "                updated_values[state] = 0\n",
        "            else:\n",
        "                chosen_action = policy[node.get_position()]\n",
        "                transition_probs = env.get_action_probabilities(node, chosen_action)\n",
        "\n",
        "                if use_q_values:\n",
        "                    update_state_value_q(\n",
        "                        state, updated_values, transition_probs, gamma, policy\n",
        "                    )\n",
        "                else:\n",
        "                    update_state_value_v(state, updated_values, transition_probs, gamma)\n",
        "\n",
        "        max_error = max(\n",
        "            abs(updated_values[s] - current_values[s]) for s in current_values\n",
        "        )\n",
        "        if max_error < convergence_threshold:\n",
        "            return updated_values\n",
        "\n",
        "        current_values = updated_values"
      ],
      "metadata": {
        "id": "H2lgKdsATIks"
      },
      "execution_count": null,
      "outputs": []
    },
    {
      "cell_type": "markdown",
      "source": [
        "#Update state value Q\n",
        "Azurira Q vrednosti za dati par stanje - ackija za datu politiku.\n",
        "Ova funkcija se koristi u trazenju najbolje politike i iterativno azurira Q vrednosti za svaki par stanje- akcija na osnovu TRENUTNE politike.\n",
        "\n",
        "Azurirana vrednost se izracunava uzimajuci u obzir ocekivanu korist akcije koja je zavisna o politici u sledecem stanju.\n",
        "\n",
        "Q vrednost se azurira na sledeci način:\n",
        "\n",
        "Q(s, a) = R(s, a, s') + γ * Q(s', policy(s'))"
      ],
      "metadata": {
        "id": "HTS5FUmSPV0y"
      }
    },
    {
      "cell_type": "code",
      "source": [
        "def update_state_value_q(state, values, transition_probs, gamma, policy):\n",
        "    \"\"\"    Args:\n",
        "        state (tuple);\n",
        "        values (dict): dict sa trenutnim Q vrednostima za svaki stanje - akcija par;\n",
        "        transition_probs (list): lista taplova sledece_stanje, verovatnoca ;\n",
        "        gamma (float);\n",
        "        policy (dict): trenutna politika koju gledamo, ona zapravo mapira stanja akcijama\n",
        "nema izlaza jer ovo samo azurira vec postojece q vrednosti\n",
        "    \"\"\"\n",
        "    #prolaz kroz sledeca stanja i njihove verovatnoce\n",
        "    for next_node, prob in transition_probs:\n",
        "        if isinstance(next_node, TerminalNode):\n",
        "            values[state] = next_node.get_reward()\n",
        "            #sledeca akcija zavisi od politike\n",
        "        else:\n",
        "            next_action = policy[next_node.get_position()]\n",
        "            #racunamo dobit\n",
        "            values[state] = (\n",
        "                next_node.get_reward()\n",
        "                + gamma * values[next_node.get_position(), next_action]\n",
        "            )"
      ],
      "metadata": {
        "id": "DDe3r2iUTIo8"
      },
      "execution_count": null,
      "outputs": []
    },
    {
      "cell_type": "markdown",
      "source": [
        "#Update state value V\n",
        "Azurira V vrednosti za dato stanje za bas tu prosledjenu politiku.\n",
        "\n",
        "iterativno azurira v vrednosti za svako stanje na osnovu trenutne politike. azurirana vrednost se racuna sumom ocekivanih koristi za sva moguca sledeca stanja, ponderisanih njihovim tranzicionim verovatnocama(verovatnocama da predju u sledece stanje) i  akcijama odredjenim politikom.\n",
        "\n",
        "\n",
        "V vrednost se azurira po formuli:\n",
        "        V(s) = Σ [ P(s'|s, politika(s)) * (R(s, politika(s), s') + γ * V(s')) ]"
      ],
      "metadata": {
        "id": "4z4GBETWRPLS"
      }
    },
    {
      "cell_type": "code",
      "source": [
        "def update_state_value_v(state, values, transition_probs, gamma):\n",
        "\n",
        "    value_sum = 0\n",
        "    for next_node, prob in transition_probs:\n",
        "        value_sum += prob * (\n",
        "            next_node.get_reward() + gamma * values[next_node.get_position()]\n",
        "        )\n",
        "    values[state] = value_sum"
      ],
      "metadata": {
        "id": "kMGlt6rpTIru"
      },
      "execution_count": null,
      "outputs": []
    },
    {
      "cell_type": "markdown",
      "source": [
        "#Pohlepna Politika\n",
        "Daje greedy politiku na osnovu datih vrednosti iz Q ili V tabele.\n",
        "Prima Maze, recnik Vrednosti (ili Q ili V moze oba) i na osnovu njih donosi greedy akciju. Prima i GAMMU i neki boolean kojim govorima jel radimo sa q ili v vrednostima."
      ],
      "metadata": {
        "id": "nqBWW2NySDeY"
      }
    },
    {
      "cell_type": "code",
      "source": [
        "def greedy_policy(env, values, gamma, q_function):\n",
        "    return generate_optimal_policy(env, values, gamma, q_function)"
      ],
      "metadata": {
        "id": "uDlay4tHTTzV"
      },
      "execution_count": null,
      "outputs": []
    },
    {
      "cell_type": "markdown",
      "source": [],
      "metadata": {
        "id": "hYp1eZUlSeeA"
      }
    },
    {
      "cell_type": "markdown",
      "source": [
        "#Iteriranje po politikama\n",
        "Izvrsava algoritam iteriranja po pilitikama ne bi li nasao optimalnu politiku za dato okruzenje Maze koje saljemo. Nas algoritam kroz iteracije ocenjuje/vrednuje politiku i poboljsava je na osnovu trenutne procene sve dok ne izkonvergira u optimalnu politiku."
      ],
      "metadata": {
        "id": "tDgadBdWSglf"
      }
    },
    {
      "cell_type": "code",
      "source": [
        "def policy_iteration(\n",
        "    env: MazeEnvironment,\n",
        "    gamma: float,\n",
        "    convergence_threshold: float,\n",
        "    use_q_values: bool = False,\n",
        ") -> dict:\n",
        "    \"\"\"\n",
        "    Izlaz:\n",
        "        dict: optimalna politika kao dict gde su kljucevi pozicije a vrednosti su akcije.\n",
        "    \"\"\"\n",
        "    current_policy = generate_random_policy(env)\n",
        "    while True:\n",
        "        value_estimates = evaluate_values(\n",
        "            env, current_policy, gamma, convergence_threshold, use_q_values\n",
        "        )\n",
        "        improved_policy = greedy_policy(env, value_estimates, gamma, use_q_values)\n",
        "\n",
        "        if improved_policy == current_policy:\n",
        "            return current_policy\n",
        "\n",
        "        current_policy = improved_policy\n"
      ],
      "metadata": {
        "id": "m9vZh8uzTYsU"
      },
      "execution_count": null,
      "outputs": []
    },
    {
      "cell_type": "markdown",
      "source": [
        "  Algoritam se moze testirati sa različitim dimenzijama mazea, ali je vazno osigurati da je broj akcija adekvatno mali.\n",
        "  Npr, graf dimenzija 2x2 ne može imati 4 akcije, jer je implementacija dizajnirana tako da svaki čvor povezuje polovinu drugih\n",
        "  čvorova. (na pocetku smo to definisali kad smo pravili grane). Zbog toga, broj akcija ne sme premasiti polovinu ukupnog broja cvorova.\n",
        "  Ovo ogranicenje ne vazi za vece grafove."
      ],
      "metadata": {
        "id": "cSYjCaY9UJ85"
      }
    },
    {
      "cell_type": "code",
      "source": [
        "#dimenzije grafa\n",
        "dims = (3, 3)\n",
        "#okruzenje\n",
        "en = MazeEnvironment(dims)\n",
        "\n",
        "#izlazi value)iterations su current_values i iteracija+1\n",
        "v, v_it = value_iteration(en, 0.9, 0.01)\n",
        "q, q_it = value_iteration(en, 0.9, 0.01, use_q_function=True)\n",
        "\n",
        "# V tabela\n",
        "v_table = PrettyTable()\n",
        "v_table.field_names = [\"Pozicija\", \"V vrednost\"]\n",
        "for position, value in v.items():\n",
        "    v_table.add_row([position, value])\n",
        "\n",
        "print(\n",
        "    \"\\n----------------------------------- GOTOV ALGORITAM ITERIRANJA PO VREDNOSTIMA -----------------------------------\\n\"\n",
        ")\n",
        "print(f\"Konacne V vrednosti po iteracijama za broj iteracija: {v_it}\")\n",
        "print(v_table)\n",
        "\n",
        "# Q values table\n",
        "q_table = PrettyTable()\n",
        "q_table.field_names = [\"Stanje-Akcija\", \"Q vrednost\"]\n",
        "for state_action, value in q.items():\n",
        "    q_table.add_row([state_action, value])\n",
        "\n",
        "print(f\"\\nKonacne Q vrednosti posle iteracija za broj iteracija: {q_it}\")\n",
        "print(q_table)\n",
        "\n",
        "optimal_pol_v = generate_optimal_policy(en, v, 0.9)\n",
        "optimal_pol_q = generate_optimal_policy(en, q, 0.9, use_q_values=True)\n",
        "\n",
        "# Optimalna politika posle iteriranja V vrednosti\n",
        "optimal_v_table = PrettyTable()\n",
        "optimal_v_table.field_names = [\"Pozicija\", \"Optimalna Akcija\"]\n",
        "for position, action in optimal_pol_v.items():\n",
        "    optimal_v_table.add_row([position, action])\n",
        "\n",
        "print(\n",
        "    \"\\n---------------------------------- Optimalna Politika posle iteriranja po vrednostima ---------------------------------\\n\"\n",
        ")\n",
        "print(\"Optimalna politika posle iteriranja kroz V vrednosti je:\")\n",
        "print(optimal_v_table)\n",
        "\n",
        "# Optimalna politika za Q tabelu\n",
        "optimal_q_table = PrettyTable()\n",
        "optimal_q_table.field_names = [\"Pozicija\", \"Optimalna akcija\"]\n",
        "for position, action in optimal_pol_q.items():\n",
        "    optimal_q_table.add_row([position, action])\n",
        "\n",
        "print(\"\\nOptimalna politika posle iteriranja kroz Q tabelu:\")\n",
        "print(optimal_q_table)\n",
        "\n",
        "optimal_pol_pi_v = policy_iteration(en, 0.9, 0.01)\n",
        "optimal_pol_pi_q = policy_iteration(en, 0.9, 0.01, use_q_values=True)\n",
        "\n",
        "# Iteriranje politikama kroz V vrednosti\n",
        "pi_v_table = PrettyTable()\n",
        "pi_v_table.field_names = [\"Pozicija\", \"Optimalna Akcija\"]\n",
        "for position, action in optimal_pol_pi_v.items():\n",
        "    pi_v_table.add_row([position, action])\n",
        "\n",
        "print(\n",
        "    \"\\n---------------------------------- Optimalna akcija po iteriranju kroz V vrednosti --------------------------------\\n\"\n",
        ")\n",
        "print(\"Optimalna politika posle iteriranja politikama za V je :\")\n",
        "print(pi_v_table)\n",
        "\n",
        "# Iteriranje politikama Q\n",
        "pi_q_table = PrettyTable()\n",
        "pi_q_table.field_names = [\"Pozicija\", \"Optimalna Akcija\"]\n",
        "for position, action in optimal_pol_pi_q.items():\n",
        "    pi_q_table.add_row([position, action])\n",
        "\n",
        "print(\"\\Optimalna politika posle iteracije politikama koriscenjem Q:\")\n",
        "print(pi_q_table)\n",
        "\n",
        "print(\"\\n Boje akcija:  \\n1 - roze, \\n2 - narandzasta, \\n3 -  plava\\n\")\n",
        "\n",
        "print(\"\\n\\n Boje Cvorova:  \\nKazneno - crveno, \\nRegularno - sivo, \\nWall -  crno, \\nTerminal plavo \\nNeki drugi cvor - zeleno \\n\")\n",
        "en.print_graph()\n",
        "plot_maze_graph(en)"
      ],
      "metadata": {
        "colab": {
          "base_uri": "https://localhost:8080/",
          "height": 1000
        },
        "id": "kwm9UYSmThat",
        "outputId": "0c56cdd9-3af9-4d5d-8d68-8f7e0e39bb5c"
      },
      "execution_count": null,
      "outputs": [
        {
          "output_type": "stream",
          "name": "stdout",
          "text": [
            "\n",
            "----------------------------------- GOTOV ALGORITAM ITERIRANJA PO VREDNOSTIMA -----------------------------------\n",
            "\n",
            "Konacne V vrednosti po iteracijama za broj iteracija: 3\n",
            "+----------+------------+\n",
            "| Pozicija | V vrednost |\n",
            "+----------+------------+\n",
            "|  (1, 1)  |    -1.0    |\n",
            "|  (1, 2)  |   -2.71    |\n",
            "|  (1, 3)  |     0      |\n",
            "|  (2, 1)  |    -1.0    |\n",
            "|  (2, 2)  |    -1.0    |\n",
            "|  (2, 3)  |    -1.9    |\n",
            "|  (3, 1)  |    -1.9    |\n",
            "|  (3, 2)  |    -1.0    |\n",
            "|  (3, 3)  |    -1.9    |\n",
            "+----------+------------+\n",
            "\n",
            "Konacne Q vrednosti posle iteracija za broj iteracija: 5\n",
            "+---------------+--------------------+\n",
            "| Stanje-Akcija |     Q vrednost     |\n",
            "+---------------+--------------------+\n",
            "|  ((1, 1), 1)  |        -1.9        |\n",
            "|  ((1, 1), 2)  |       -4.439       |\n",
            "|  ((1, 1), 3)  |        -1.0        |\n",
            "|  ((1, 2), 1)  | -2.876774320287054 |\n",
            "|  ((1, 2), 2)  | -8.51693140953471  |\n",
            "|  ((1, 2), 3)  |       -2.71        |\n",
            "|  ((1, 3), 1)  |         0          |\n",
            "|  ((1, 3), 2)  |         0          |\n",
            "|  ((1, 3), 3)  |         0          |\n",
            "|  ((2, 1), 1)  |        -1.9        |\n",
            "|  ((2, 1), 2)  |        -1.0        |\n",
            "|  ((2, 1), 3)  |        -1.9        |\n",
            "|  ((2, 2), 1)  |        -1.0        |\n",
            "|  ((2, 2), 2)  |        -1.9        |\n",
            "|  ((2, 2), 3)  |       -10.9        |\n",
            "|  ((2, 3), 1)  |       -4.439       |\n",
            "|  ((2, 3), 2)  |        -1.9        |\n",
            "|  ((2, 3), 3)  |       -10.9        |\n",
            "|  ((3, 1), 1)  |       -4.439       |\n",
            "|  ((3, 1), 2)  |        -1.9        |\n",
            "|  ((3, 1), 3)  |       -10.9        |\n",
            "|  ((3, 2), 1)  |        -1.9        |\n",
            "|  ((3, 2), 2)  |       -4.439       |\n",
            "|  ((3, 2), 3)  |        -1.0        |\n",
            "|  ((3, 3), 1)  |       -4.439       |\n",
            "|  ((3, 3), 2)  |        -1.9        |\n",
            "|  ((3, 3), 3)  |       -10.9        |\n",
            "+---------------+--------------------+\n",
            "\n",
            "---------------------------------- Optimalna Politika posle iteriranja po vrednostima ---------------------------------\n",
            "\n",
            "Optimalna politika posle iteriranja kroz V vrednosti je:\n",
            "+----------+------------------+\n",
            "| Pozicija | Optimalna Akcija |\n",
            "+----------+------------------+\n",
            "|  (1, 1)  |        3         |\n",
            "|  (1, 2)  |        3         |\n",
            "|  (2, 1)  |        2         |\n",
            "|  (2, 2)  |        1         |\n",
            "|  (2, 3)  |        2         |\n",
            "|  (3, 1)  |        2         |\n",
            "|  (3, 2)  |        3         |\n",
            "|  (3, 3)  |        2         |\n",
            "+----------+------------------+\n",
            "\n",
            "Optimalna politika posle iteriranja kroz Q tabelu:\n",
            "+----------+------------------+\n",
            "| Pozicija | Optimalna akcija |\n",
            "+----------+------------------+\n",
            "|  (1, 1)  |        3         |\n",
            "|  (1, 2)  |        3         |\n",
            "|  (2, 1)  |        2         |\n",
            "|  (2, 2)  |        1         |\n",
            "|  (2, 3)  |        2         |\n",
            "|  (3, 1)  |        2         |\n",
            "|  (3, 2)  |        3         |\n",
            "|  (3, 3)  |        2         |\n",
            "+----------+------------------+\n",
            "\n",
            "---------------------------------- Optimalna akcija po iteriranju kroz V vrednosti --------------------------------\n",
            "\n",
            "Optimalna politika posle iteriranja politikama za V je :\n",
            "+----------+------------------+\n",
            "| Pozicija | Optimalna Akcija |\n",
            "+----------+------------------+\n",
            "|  (1, 1)  |        3         |\n",
            "|  (1, 2)  |        3         |\n",
            "|  (2, 1)  |        2         |\n",
            "|  (2, 2)  |        1         |\n",
            "|  (2, 3)  |        2         |\n",
            "|  (3, 1)  |        2         |\n",
            "|  (3, 2)  |        3         |\n",
            "|  (3, 3)  |        2         |\n",
            "+----------+------------------+\n",
            "\\Optimalna politika posle iteracije politikama koriscenjem Q:\n",
            "+----------+------------------+\n",
            "| Pozicija | Optimalna Akcija |\n",
            "+----------+------------------+\n",
            "|  (1, 1)  |        3         |\n",
            "|  (1, 2)  |        1         |\n",
            "|  (2, 1)  |        2         |\n",
            "|  (2, 2)  |        1         |\n",
            "|  (2, 3)  |        2         |\n",
            "|  (3, 1)  |        2         |\n",
            "|  (3, 2)  |        3         |\n",
            "|  (3, 3)  |        2         |\n",
            "+----------+------------------+\n",
            "\n",
            " Boje akcija:  \n",
            "1 - roze, \n",
            "2 - narandzasta, \n",
            "3 -  plava\n",
            "\n",
            "\n",
            "\n",
            " Boje Cvorova:  \n",
            "Kazneno - crveno, \n",
            "Regularno - sivo, \n",
            "Wall -  crno, \n",
            "Terminal plavo \n",
            "Neki drugi cvor - zeleno \n",
            "\n",
            "\n",
            "----------------------------------------------- MAZE GRAF ------------------------------------------------ \n",
            " \n",
            "(1, 1) :  [[0, (3, 1), 0], [0, (2, 1), 0], [0, (2, 3), 0], [0, (3, 3), 0], [1, (1, 1), 1.0], [2, (1, 2), 1.0], [3, (1, 3), 1.0]]\n",
            " \n",
            "(1, 2) :  [[1, (1, 1), 0.44976283508370696], [1, (1, 2), 0.42802784783707987], [1, (1, 3), 0.12220931707921316], [2, (2, 1), 0.26478539894058783], [2, (2, 2), 0.7352146010594122], [3, (2, 3), 1.0]]\n",
            " \n",
            "(1, 3) :  []\n",
            " \n",
            "(2, 1) :  [[0, (3, 3), 0], [0, (1, 2), 0], [0, (3, 1), 0], [0, (2, 2), 0], [1, (1, 1), 1.0], [2, (1, 3), 1.0], [3, (2, 1), 1.0]]\n",
            " \n",
            "(2, 2) * :  [[0, (3, 3), 0], [0, (1, 2), 0], [0, (3, 2), 0], [0, (1, 1), 0], [1, (1, 3), 1.0], [2, (2, 1), 1.0], [3, (2, 2), 1.0]]\n",
            " \n",
            "(2, 3) :  [[0, (3, 2), 0], [0, (1, 3), 0], [0, (1, 1), 0], [0, (2, 3), 0], [1, (1, 2), 1.0], [2, (2, 1), 1.0], [3, (2, 2), 1.0]]\n",
            " \n",
            "(3, 1) * :  [[0, (3, 3), 0], [0, (1, 1), 0], [0, (2, 3), 0], [0, (1, 3), 0], [1, (1, 2), 1.0], [2, (2, 1), 1.0], [3, (2, 2), 1.0]]\n",
            " \n",
            "(3, 2) :  [[0, (3, 1), 0], [0, (2, 3), 0], [0, (2, 2), 0], [0, (2, 1), 0], [1, (1, 1), 1.0], [2, (1, 2), 1.0], [3, (1, 3), 1.0]]\n",
            " \n",
            "(3, 3) :  [[0, (1, 1), 0], [0, (2, 3), 0], [0, (3, 1), 0], [0, (1, 3), 0], [1, (1, 2), 1.0], [2, (2, 1), 1.0], [3, (2, 2), 1.0]]\n",
            " \n"
          ]
        },
        {
          "output_type": "display_data",
          "data": {
            "text/plain": [
              "<Figure size 1000x700 with 1 Axes>"
            ],
            "image/png": "[encoded data removed]"
          },
          "metadata": {}
        }
      ]
    }
  ]
}