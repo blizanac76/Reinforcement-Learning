{
  "nbformat": 4,
  "nbformat_minor": 0,
  "metadata": {
    "colab": {
      "provenance": [],
      "include_colab_link": true
    },
    "kernelspec": {
      "name": "python3",
      "display_name": "Python 3"
    },
    "language_info": {
      "name": "python"
    }
  },
  "cells": [
    {
      "cell_type": "markdown",
      "metadata": {
        "id": "view-in-github",
        "colab_type": "text"
      },
      "source": [
        "<a href=\"https://colab.research.google.com/github/blizanac76/Reinforcement-Learning/blob/main/CartPoleSARSA.ipynb\" target=\"_parent\"><img src=\"https://colab.research.google.com/assets/colab-badge.svg\" alt=\"Open In Colab\"/></a>"
      ]
    },
    {
      "cell_type": "markdown",
      "source": [
        "#Cart Pole\n",
        "\n",
        "Cart pole problem je primer matematickog klatna. U ovom scenariju, cilj je održavati ravnotezu sipke  (pole) na kolima (cart) primenom sila. Kada sipka padne ispod određenog ugla ili kada se kolica pomere izvan granica, smatra se da je sistem neuspešno kontrolisan. Sile se primenjuju horizontalno na kolica, odnosno pomeramo ih levo ili desno u cilju odrzavanja sipke uspravno."
      ],
      "metadata": {
        "id": "JhzfkA0wpr3q"
      }
    },
    {
      "cell_type": "code",
      "source": [
        "from math import pow, sin, cos\n",
        "from enum import Enum\n",
        "from dataclasses import dataclass\n",
        "from math import radians\n",
        "from random import random, uniform, choice\n",
        "from numpy import arange\n",
        "from abc import ABC, abstractmethod\n",
        "from copy import deepcopy\n",
        "from tqdm import trange\n"
      ],
      "metadata": {
        "id": "NrcsU7e4qLCl"
      },
      "execution_count": null,
      "outputs": []
    },
    {
      "cell_type": "markdown",
      "source": [
        "##Klasa State"
      ],
      "metadata": {
        "id": "Scnvty0KP8ag"
      }
    },
    {
      "cell_type": "code",
      "source": [
        "Action = float\n",
        "class State:\n",
        "    #kompletno stanje zavisi od 4 promnjive stanja: pozicije, brzine, ugaone pozicije i ugaonce brzine\n",
        "    def __init__(self, x: float, x_dot: float, o: float, o_dot: float) -> None:\n",
        "        self.x: float = x\n",
        "        self.x_dot: float = x_dot\n",
        "        self.o: float = o\n",
        "        self.o_dot: float = o_dot\n",
        "    # geteri za promenjive stanja zajedno\n",
        "    def __getitem__(self, key: int) -> float:\n",
        "        match key:\n",
        "            case 0:\n",
        "                return self.x\n",
        "            case 1:\n",
        "                return self.x_dot\n",
        "            case 2:\n",
        "                return self.o\n",
        "            case 3:\n",
        "                return self.o_dot\n",
        "            case _:\n",
        "                raise IndexError\n",
        "    # seteri za promenjive stanja zajedno\n",
        "    def __setitem__(self, key: int, value: float) -> None:\n",
        "        match key:\n",
        "            case 0:\n",
        "                self.x = value\n",
        "            case 1:\n",
        "                self.x_dot = value\n",
        "            case 2:\n",
        "                self.o = value\n",
        "            case 3:\n",
        "                self.o_dot = value\n",
        "            case _:\n",
        "                raise IndexError\n",
        "\n",
        "    def __repr__(self) -> str:\n",
        "        return f\"{self.x}, {self.x_dot}, {self.o}, {self.o_dot}\"\n",
        "\n",
        "\n",
        "@dataclass\n",
        "class Q:\n",
        "    def __init__(self, actions: list[Action]) -> None:\n",
        "        self.q: dict[tuple[State, Action], float] = {}\n",
        "        self.states: list[State] = []\n",
        "        self.actions: list[Action] = actions\n",
        "\n",
        "    def __iter__(self):\n",
        "        return iter(self.q)\n",
        "    # geter za q vrednost\n",
        "    def __getitem__(self, key: tuple[State, Action]) -> float:\n",
        "        if key not in self.q:\n",
        "            self.q[key] = random()\n",
        "            if key[0] not in self.states:\n",
        "                self.states.append(key[0])\n",
        "        return self.q[key]\n",
        "    # seter q vednost\n",
        "    def __setitem__(self, key: tuple[State, Action], value: float) -> None:\n",
        "        self.q[key] = value\n",
        "    #belmanova jedn.\n",
        "    def determine_v(self, s: State) -> Action:\n",
        "        to_max: list[tuple[Action, float]] = []\n",
        "        for a in self.actions:\n",
        "            if (s, a) in self.q:\n",
        "                to_max.append((a, self.q[s, a]))\n",
        "        return max(to_max, key=lambda x: x[1])[0] #iterira po akcijama x[1], a vraca najjvecu [0]"
      ],
      "metadata": {
        "id": "dQ3l_lAQtXDP"
      },
      "execution_count": null,
      "outputs": []
    },
    {
      "cell_type": "code",
      "source": [
        "round_prec = 3  #zaokruzivanje"
      ],
      "metadata": {
        "id": "fBsUbgmRvlMw"
      },
      "execution_count": null,
      "outputs": []
    },
    {
      "cell_type": "markdown",
      "source": [
        "##Matematicki model\n"
      ],
      "metadata": {
        "id": "P0cJNLr_R2VT"
      }
    },
    {
      "cell_type": "markdown",
      "source": [
        "![image.png](data:image/png;base64,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)"
      ],
      "metadata": {
        "id": "ugYejvcISC4E"
      }
    },
    {
      "cell_type": "markdown",
      "source": [
        "![image.png](data:image/png;base64,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)"
      ],
      "metadata": {
        "id": "3BTv9JLVSDMN"
      }
    },
    {
      "cell_type": "code",
      "execution_count": null,
      "metadata": {
        "id": "TQ5ws-0XppLu"
      },
      "outputs": [],
      "source": [
        "g: float = 9.81\n",
        "k: float = 1\n",
        "\n",
        "\n",
        "class Cartpole:\n",
        "    def __init__(self, m: float, M: float, L: float) -> None:\n",
        "        self.m = m # sipka\n",
        "        self.M = M  # kolica\n",
        "        self.l = L / 2  # duzina\n",
        "\n",
        "    def __call__(self, ss: State, a: Action, T: float) -> None:     #call daje opciju da zovemo metodu iz klase kroz ime klase kao funkciju\n",
        "        #Ojler 1 : (ss_novo[0] - ss[0])/T = dss/dt = s[1]\n",
        "        ss[0] = ss[0] + T * ss[1]\n",
        "        ss[1] = ss[1] + T * self.F(ss, a)\n",
        "        ss[2] = ss[2] + T * ss[3]\n",
        "        ss[3] = ss[3] + T * self.G(ss, a)\n",
        "    # kolica\n",
        "    def F(self, ss: State, f: Action) -> float:\n",
        "        x = ss[0]\n",
        "        v = ss[1]\n",
        "        o = ss[2]\n",
        "        w = ss[3]\n",
        "\n",
        "        num = 4 * f - self.m * sin(o) * (3 * g * cos(o) - 4 * self.l * pow(w, 2))\n",
        "        den = 4 * (self.m + self.M) - 3 * self.m * pow(cos(o), 2)\n",
        "        return num / den\n",
        "\n",
        "        # sipka\n",
        "    def G(self, ss: State, f: Action) -> float:\n",
        "        x = ss[0]\n",
        "        v = ss[1]\n",
        "        o = ss[2]\n",
        "        w = ss[3]\n",
        "\n",
        "        num = (self.m * self.M) * g * sin(o) - cos(o) * (\n",
        "            f + self.m * self.l * sin(o) * pow(w, 2)\n",
        "        )\n",
        "        den = self.l * (4 / 3 * (self.m + self.M) - self.m * pow(cos(o), 2))\n",
        "        return num / den"
      ]
    },
    {
      "cell_type": "markdown",
      "source": [
        "##Politike"
      ],
      "metadata": {
        "id": "SdE7-lHdSOxr"
      }
    },
    {
      "cell_type": "code",
      "source": [
        "class RandomPolicy:\n",
        "    def act(self, q: Q, s: State) -> Action:\n",
        "        return choice(q.actions)\n",
        "\n",
        "class GreedyPolicy:\n",
        "    def act(self, q: Q, s: State) -> Action:\n",
        "        return max([(a, q[s, a]) for a in q.actions], key=lambda x: x[1])[0]\n",
        "\n",
        "class EpsGreedyPolicy:\n",
        "    def __init__(self, epsilon: float = 0.1) -> None:\n",
        "        self.epsilon = epsilon\n",
        "\n",
        "    def act(self, q: Q, s: State) -> Action:\n",
        "        return (RandomPolicy().act(q, s) if random() < self.epsilon else GreedyPolicy().act(q, s))"
      ],
      "metadata": {
        "id": "9HJj2zVIvoa4"
      },
      "execution_count": null,
      "outputs": []
    },
    {
      "cell_type": "markdown",
      "source": [
        "##SARSA"
      ],
      "metadata": {
        "id": "fdR8GYbfS_1h"
      }
    },
    {
      "cell_type": "markdown",
      "source": [
        "Formula za SARSA algoritam je:\n",
        "\n",
        "\n",
        "Q(s, a) = (1 - alpha)Q(s, a) + alpha * (reward + gamma * Q(s', a'))\n",
        "\n",
        "*   Q(s,a) je trenutna vrednost Q funkcije za uredjeni par (s,a)\n",
        "*   alpha je brzina ucenja, koja nam govori koliko ce jako uticati nova informacija na procenu vrednosti Q funkcije\n",
        "*   reward je nagrada koje se dobija kada se iz stanja s uradi akcija a\n",
        "*   gamma je faktor umenjenja koji nam govori koliko su bitne buduce nagrade\n",
        "*   Q(s', a') je vrednost Q funkcije ako se u sledecem stanju s' primeni akcija a'\n"
      ],
      "metadata": {
        "id": "ciInQvvaULvJ"
      }
    },
    {
      "cell_type": "code",
      "source": [
        "x_threshold = 5.0\n",
        "o_threshold = radians(20)\n",
        "\n",
        "class SARSA:\n",
        "    def __init__(self) -> None:\n",
        "        self.ss: State | None = None\n",
        "        self.result: dict[int, bool] = {}     #recnik nam se sastoji od broja iteracija i uspesnosti\n",
        "\n",
        "    def initialize_ss(self) -> State:       #dozvojeni opseg\n",
        "        return State( uniform(-x_threshold, x_threshold), 0.0, uniform(-o_threshold, o_threshold), 0.0 )\n",
        "\n",
        "    def discretise_state(self) -> State:\n",
        "        \"\"\"\n",
        "        Discretise the state.\n",
        "        \"\"\"\n",
        "        return State(\n",
        "            round(self.ss.x, round_prec),\n",
        "            round(self.ss.x_dot, round_prec),\n",
        "            round(self.ss.o, round_prec),\n",
        "            round(self.ss.o_dot, round_prec),\n",
        "        )\n",
        "\n",
        "    def run(\n",
        "        self,\n",
        "        model: Cartpole,\n",
        "        policy: EpsGreedyPolicy,\n",
        "        actions: list[Action],\n",
        "        gamma: float = 1.0,\n",
        "        alpha: float = 0.1,\n",
        "        iterations: int = 20000,\n",
        "        T: float = 0.01,\n",
        "    ):\n",
        "        self.q = Q(actions)\n",
        "        self.ss = self.initialize_ss()\n",
        "\n",
        "        for i in trange(iterations):\n",
        "\n",
        "            #diskretizacija pre prolsedjivanja stanja politici\n",
        "            s = self.discretise_state()\n",
        "            a = policy.act(self.q, s)\n",
        "\n",
        "            model(self.ss, a, T)\n",
        "            #ako je u dozvoljnom opsegu nagrada i rezultat true ako nije obrnuto\n",
        "            if ( -x_threshold < self.ss[0] < x_threshold and -o_threshold < self.ss[2] < o_threshold ):\n",
        "                # zbog sarse diskretizujemo i nabavljamo novo stane i novu akicju jer nam je potrebna za algoritam\n",
        "                new_s = self.discretise_state()\n",
        "                new_action = policy.act(self.q, new_s)\n",
        "                q_plus = self.q[new_s, new_action]\n",
        "                r = 10\n",
        "                self.result[i] = True\n",
        "            else:\n",
        "                q_plus = 0.0\n",
        "                r = -10\n",
        "                self.ss = self.initialize_ss()\n",
        "                self.result[i] = False\n",
        "\n",
        "            self.q[s, a] = (1 - alpha) * self.q[s, a] + alpha * ( r + gamma * q_plus )\n",
        "        return self.result"
      ],
      "metadata": {
        "id": "AD0_LrFgwh22"
      },
      "execution_count": null,
      "outputs": []
    },
    {
      "cell_type": "markdown",
      "source": [
        "##Testiranje i rezultati"
      ],
      "metadata": {
        "id": "jieH2cEmUoC1"
      }
    },
    {
      "cell_type": "code",
      "source": [
        "cp = Cartpole(m=0.25, M=1, L=0.25)\n",
        "T = 0.1  #Perida odabiranja\n",
        "sarsa = SARSA()\n",
        "rezultati = sarsa.run(\n",
        "    model=cp,\n",
        "    policy=EpsGreedyPolicy(epsilon=0.1),\n",
        "    actions=[-5.0, 0.0, 5.0],\n",
        "    gamma=0.9,\n",
        "    T=T,\n",
        ")\n",
        "rez = [value for value in rezultati.values()]\n",
        "uk_uspesni = uk_neuspesni = uspesni = neuspesni = br = br_p = it = 0\n",
        "n = 1\n",
        "\n",
        "for i in rez:\n",
        "  br += 1\n",
        "  br_p += 1\n",
        "  if i:\n",
        "    uk_uspesni += 1\n",
        "    uspesni += 1\n",
        "  else:\n",
        "    uk_neuspesni += 1\n",
        "    neuspesni += 1\n",
        "  if br in [3, 9, 27, 81, 243, 729, 2187, 6561, 19683]:\n",
        "    it += 1\n",
        "    if br_p == br:\n",
        "      print('Rezultat posle ',it,'.-ih', 2 , 'iteracija su: {:.2f}', uspesni/(uspesni+neuspesni)*100,'%')\n",
        "    else:\n",
        "      print('Rezultat posle ',it,'.-ih',br - br_p, 'iteracija su: {:.2f}', uspesni/(uspesni+neuspesni)*100,'%')\n",
        "\n",
        "    uspesni = neuspesni = 0\n",
        "    br_p = 0\n",
        "\n",
        "print('################################################################')\n",
        "print('Konaci rezultati su: {:.2f}',uk_uspesni/(uk_uspesni+uk_neuspesni)*100,'%')"
      ],
      "metadata": {
        "colab": {
          "base_uri": "https://localhost:8080/"
        },
        "id": "1fxGEPwAz2cr",
        "outputId": "3b56364d-1ac3-4c2b-f37b-1d7de4491fb5"
      },
      "execution_count": null,
      "outputs": [
        {
          "output_type": "stream",
          "name": "stderr",
          "text": [
            "100%|██████████| 20000/20000 [00:30<00:00, 649.98it/s]\n"
          ]
        },
        {
          "output_type": "stream",
          "name": "stdout",
          "text": [
            "Rezultat posle  1 .-ih 2 iteracija su: {:.2f} 100.0 %\n",
            "Rezultat posle  2 .-ih 3 iteracija su: {:.2f} 66.66666666666666 %\n",
            "Rezultat posle  3 .-ih 9 iteracija su: {:.2f} 66.66666666666666 %\n",
            "Rezultat posle  4 .-ih 27 iteracija su: {:.2f} 70.37037037037037 %\n",
            "Rezultat posle  5 .-ih 81 iteracija su: {:.2f} 74.69135802469135 %\n",
            "Rezultat posle  6 .-ih 243 iteracija su: {:.2f} 70.16460905349794 %\n",
            "Rezultat posle  7 .-ih 729 iteracija su: {:.2f} 72.15363511659808 %\n",
            "Rezultat posle  8 .-ih 2187 iteracija su: {:.2f} 71.97073616826704 %\n",
            "Rezultat posle  9 .-ih 6561 iteracija su: {:.2f} 71.37631458619113 %\n",
            "################################################################\n",
            "Konaci rezultati su: {:.2f} 71.555 %\n"
          ]
        }
      ]
    }
  ]
}