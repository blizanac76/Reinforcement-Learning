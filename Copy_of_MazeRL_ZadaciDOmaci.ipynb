{
  "nbformat": 4,
  "nbformat_minor": 0,
  "metadata": {
    "colab": {
      "provenance": [],
      "authorship_tag": "ABX9TyNszJXk1rL+wJxh3TKpZqan",
      "include_colab_link": true
    },
    "kernelspec": {
      "name": "python3",
      "display_name": "Python 3"
    },
    "language_info": {
      "name": "python"
    }
  },
  "cells": [
    {
      "cell_type": "markdown",
      "metadata": {
        "id": "view-in-github",
        "colab_type": "text"
      },
      "source": [
        "<a href=\"https://colab.research.google.com/github/blizanac76/Reinforcement-Learning/blob/main/Copy_of_MazeRL_ZadaciDOmaci.ipynb\" target=\"_parent\"><img src=\"https://colab.research.google.com/assets/colab-badge.svg\" alt=\"Open In Colab\"/></a>"
      ]
    },
    {
      "cell_type": "code",
      "execution_count": 2,
      "metadata": {
        "id": "i5nONxwxwdu0"
      },
      "outputs": [],
      "source": [
        "from abc import ABC, abstractmethod\n",
        "from typing import Iterable\n",
        "from copy import copy\n",
        "\n",
        "import numpy as np\n",
        "import matplotlib.pyplot as plt\n",
        "\n",
        "from random import random\n",
        "import random"
      ]
    },
    {
      "cell_type": "code",
      "source": [
        "class Cell(ABC):\n",
        "\n",
        "    @abstractmethod\n",
        "    def get_reward(self) -> float:\n",
        "        pass\n",
        "\n",
        "    def is_steppable(self) -> bool:\n",
        "        return True\n",
        "\n",
        "    def is_terminal(self) -> bool:\n",
        "        return False\n",
        "\n",
        "    def has_value(self) -> bool:\n",
        "        return True"
      ],
      "metadata": {
        "id": "srww8iQ6w-NL"
      },
      "execution_count": 3,
      "outputs": []
    },
    {
      "cell_type": "code",
      "source": [
        "class RegularCell(Cell):\n",
        "\n",
        "    def __init__(self, reward: float):\n",
        "        self.reward = reward\n",
        "\n",
        "    def get_reward(self) -> float:\n",
        "        return self.reward\n",
        "\n",
        "\n",
        "class TerminalCell(Cell):\n",
        "\n",
        "    def __init__(self, reward: float):\n",
        "        self.reward = reward\n",
        "\n",
        "    def get_reward(self) -> float:\n",
        "        return self.reward\n",
        "\n",
        "    def is_terminal(self) -> bool:\n",
        "        return True\n",
        "\n",
        "    def has_value(self) -> bool:\n",
        "        return False\n",
        "\n",
        "\n",
        "class WallCell(Cell):\n",
        "\n",
        "    def get_reward(self) -> float:\n",
        "        return 0\n",
        "\n",
        "    def is_steppable(self) -> bool:\n",
        "        return False\n",
        "\n",
        "    def has_value(self) -> bool:\n",
        "        return False\n",
        "\n",
        "class TeleportCell(Cell):\n",
        "\n",
        "    def __init__(self, reward: float):\n",
        "        self.reward = reward\n",
        "    def get_reward(self) -> float:\n",
        "        return 0\n",
        "    def is_steppable(self) -> bool:\n",
        "        return True\n",
        "    def has_value(self) -> bool:\n",
        "        return False\n",
        "\n",
        "\n"
      ],
      "metadata": {
        "id": "6416c26KxAQx"
      },
      "execution_count": 4,
      "outputs": []
    },
    {
      "cell_type": "code",
      "source": [
        "class Board:\n",
        "\n",
        "\n",
        "\n",
        "    @staticmethod\n",
        "    #process_cells uzima matricu POLJA\n",
        "    #obrada polja i formiranje liste lista klasa POLJE\n",
        "    def process_cells(cells: list[list[Cell]]):\n",
        "        cells = [list(row) for row in cells] if cells else []\n",
        "        if not cells:\n",
        "            raise Exception(\"Number of rows in a board must be at least one.\")\n",
        "        if not cells[0]:\n",
        "            raise Exception(\"There has to be at least one column.\")\n",
        "        rows_no = len(cells)\n",
        "        cols_no = len(cells[0])\n",
        "        for row in cells:\n",
        "            if not row or len(row) != cols_no:\n",
        "                raise Exception(\n",
        "                    \"Each row in a a board must have the same number of columns. \")\n",
        "        return rows_no, cols_no, cells\n",
        "\n",
        "  #provera da li je pozicija dobra\n",
        "    def process_pos(self, pos):\n",
        "        r, c = pos\n",
        "        if r < 0 or r >= self.rows_no:\n",
        "            raise Exception(\"Invalid row position.\")\n",
        "        if c < 0 or c >= self.cols_no:\n",
        "            raise Exception(\"Invalid column position.\")\n",
        "        if not cells[r][c].is_steppable():\n",
        "            raise Exception(\"Invalid position: unsteppable cell.\")\n",
        "        return r, c\n",
        "\n",
        "  #konstruktor uzima polje kao board i poziciju\n",
        "  #uzima dimenzija table, strukturu polja\n",
        "  #priprema tablu sa incijalnim poljem\n",
        "    def __init__(self, cells: Iterable[Iterable[Cell]], pos: tuple[int, int]):\n",
        "        rows_no, cols_no, cells = Board.process_cells(cells)\n",
        "        self.cells = cells\n",
        "        self.rows_no = rows_no\n",
        "        self.cols_no = cols_no\n",
        "        r, c = self.process_pos(pos)\n",
        "        self.row = r\n",
        "        self.col = c\n",
        "\n",
        "  #indeksiranje preko koordiata matrice/Liste Lista (table)\n",
        "    def __getitem__(self, key: tuple[int, int]) -> Cell:\n",
        "        r, c = key\n",
        "        return self.cells[r][c]\n",
        "\n",
        "  #update pozicije, nova pozicija\n",
        "    def set_position(self, pos):\n",
        "        r, c = self.process_pos(pos)\n",
        "        self.row = r\n",
        "        self.col = c\n",
        "\n",
        "  #trenutna ozicija\n",
        "    def current(self):\n",
        "        return self[self.row, self.col]\n",
        "\n",
        "  #pomeranje\n",
        "    def move_up(self):\n",
        "        if self.row != 0 and \\\n",
        "           self[self.row-1, self.col].is_steppable():\n",
        "            self.row = self.row-1\n",
        "\n",
        "    def move_down(self):\n",
        "        if self.row != self.rows_no-1 and \\\n",
        "           self[self.row+1, self.col].is_steppable():\n",
        "            self.row = self.row+1\n",
        "\n",
        "    def move_left(self):\n",
        "        if self.col != 0 and \\\n",
        "           self[self.row, self.col-1].is_steppable():\n",
        "            self.col = self.col-1\n",
        "\n",
        "    def move_right(self):\n",
        "        if self.col != self.cols_no-1 and \\\n",
        "           self[self.row, self.col+1].is_steppable():\n",
        "            self.col = self.col+1\n",
        "\n",
        "  #numeracija pokreta\n",
        "\n",
        "    def move(self, direction):\n",
        "        RIGHT = 0\n",
        "        UP = 1\n",
        "        LEFT = 2\n",
        "        DOWN = 3\n",
        "        if direction == 0 or direction == RIGHT:\n",
        "            self.move_right()\n",
        "        elif direction == 1 or direction == UP:\n",
        "            self.move_up()\n",
        "        elif direction == 2 or direction == LEFT:\n",
        "            self.move_left()\n",
        "        elif direction == 3 or direction == DOWN:\n",
        "            self.move_down()\n",
        "        else:\n",
        "            raise Exception(\"Invalid direction.\")\n",
        "\n",
        "    def get_actions(self):\n",
        "        return [0, 1, 2, 3]\n",
        "\n",
        "  #pravi listu svih polja koja su dostupna za kretanje\n",
        "    def get_states(self):\n",
        "        states = []\n",
        "        for r in range(self.rows_no):\n",
        "            for c in range(self.cols_no):\n",
        "                if self[r, c].is_steppable():\n",
        "                    states.append((r, c))\n",
        "        return states\n",
        "\n",
        ""
      ],
      "metadata": {
        "id": "2NGHNG_3xDAg"
      },
      "execution_count": 58,
      "outputs": []
    },
    {
      "cell_type": "code",
      "source": [
        "#kod za svako polje preko kojih mapiramo matricu\n",
        "def int_to_cell(code: int) -> Cell:\n",
        "    if code == 0:\n",
        "        return RegularCell(-1)\n",
        "    elif code == 1:\n",
        "        return RegularCell(-10)\n",
        "    elif code == 2:\n",
        "        return WallCell()\n",
        "    elif code == 3:\n",
        "        return TerminalCell(-1)\n",
        "    elif code == 4:\n",
        "        return TeleportCell(-1)"
      ],
      "metadata": {
        "id": "Sc7PmusqxGYQ"
      },
      "execution_count": 59,
      "outputs": []
    },
    {
      "cell_type": "code",
      "source": [
        "#generisanje matrice polja, nasumicno, 8x8, sa verovatnocama za svako polje. prv\n",
        "#i broj je broj polja, dimenzije i sanse za svako polje da se stvori\n",
        "cell_codes = np.random.choice(5, size=(8, 8), p=[0.6, 0.1, 0.1, 0.1, 0.1])\n",
        "print(cell_codes)"
      ],
      "metadata": {
        "colab": {
          "base_uri": "https://localhost:8080/"
        },
        "id": "Ncam0V5txJ7h",
        "outputId": "818ce9cf-9e0c-4d54-9860-d8bc38fbdbd1"
      },
      "execution_count": 60,
      "outputs": [
        {
          "output_type": "stream",
          "name": "stdout",
          "text": [
            "[[0 0 1 3 1 0 3 0]\n",
            " [0 0 3 3 0 0 0 0]\n",
            " [1 1 1 3 0 0 0 1]\n",
            " [0 0 0 0 0 1 0 0]\n",
            " [0 0 4 0 3 0 1 2]\n",
            " [0 4 0 1 0 0 0 1]\n",
            " [1 0 4 1 0 0 0 4]\n",
            " [1 0 0 0 2 0 0 3]]\n"
          ]
        }
      ]
    },
    {
      "cell_type": "code",
      "source": [
        "#vizualizacija matrice od gore\n",
        "#crtanje RGB formatom\n",
        "#board img pravi 3d vektore za svaku RGB boju\n",
        "def draw_board(board: Board, draw_pos=True):\n",
        "    board_img = np.ones(shape=(board.rows_no, board.cols_no, 3), dtype=np.uint8)\n",
        "    for i in range(board.rows_no):\n",
        "        for j in range(board.cols_no):\n",
        "            if isinstance(board[i, j], RegularCell):\n",
        "                if board[i, j].get_reward() == -1:\n",
        "                    board_img[i, j, :] = [255, 255, 255] # Regular cell BELO\n",
        "                else: #CRVENO\n",
        "                    board_img[i, j, :] = [255, 0, 0] # Regular cell with penalty\n",
        "            elif isinstance(board[i, j], WallCell): #CRNO\n",
        "                board_img[i, j, :] = [0, 0, 0] # Wall cell\n",
        "            elif isinstance(board[i, j], TeleportCell):#ZELENO\n",
        "                board_img[i, j, :] = [0, 100, 0] #Teleport Cell\n",
        "            else:#PLAVO\n",
        "                board_img[i, j, :] = [0, 0, 255] # Terminal cell\n",
        "    #board_img[board.row, board.col, :] = [255, 255, 0]\n",
        "    plt.imshow(board_img, )\n",
        "    if draw_pos:\n",
        "        plt.text(board.col-0.1, board.row+0.1, \"X\", fontweight=\"bold\")"
      ],
      "metadata": {
        "id": "TZuqjlLNxM9w"
      },
      "execution_count": 61,
      "outputs": []
    },
    {
      "cell_type": "code",
      "source": [
        "cells = [[int_to_cell(cell_codes[i, j]) for i in range(cell_codes.shape[0])] for j in range(cell_codes.shape[1])]"
      ],
      "metadata": {
        "id": "VqMs54JyxU-h"
      },
      "execution_count": 62,
      "outputs": []
    },
    {
      "cell_type": "code",
      "source": [
        "board = Board(cells, (0, 0))"
      ],
      "metadata": {
        "id": "Pahk46F6xWeJ"
      },
      "execution_count": 63,
      "outputs": []
    },
    {
      "cell_type": "code",
      "source": [
        "draw_board(board)"
      ],
      "metadata": {
        "colab": {
          "base_uri": "https://localhost:8080/",
          "height": 430
        },
        "id": "Yp1uGt4rxYMJ",
        "outputId": "b1a35124-b62e-4170-b95c-97e7f60511e4"
      },
      "execution_count": 64,
      "outputs": [
        {
          "output_type": "display_data",
          "data": {
            "text/plain": [
              "<Figure size 640x480 with 1 Axes>"
            ],
            "image/png": "[encoded data removed]"
          },
          "metadata": {}
        }
      ]
    },
    {
      "cell_type": "code",
      "source": [
        "\n",
        "\n"
      ],
      "metadata": {
        "id": "qLNcBQs99buL"
      },
      "execution_count": null,
      "outputs": []
    },
    {
      "cell_type": "code",
      "source": [
        "draw_board(board)"
      ],
      "metadata": {
        "colab": {
          "base_uri": "https://localhost:8080/",
          "height": 430
        },
        "id": "S5zNLfgy9t0P",
        "outputId": "d24a77fe-11fc-4f32-ce04-b95d1bebc62a"
      },
      "execution_count": 65,
      "outputs": [
        {
          "output_type": "display_data",
          "data": {
            "text/plain": [
              "<Figure size 640x480 with 1 Axes>"
            ],
            "image/png": "[encoded data removed]"
          },
          "metadata": {}
        }
      ]
    },
    {
      "cell_type": "code",
      "source": [
        "\n"
      ],
      "metadata": {
        "id": "2aez8Yb4jleM"
      },
      "execution_count": null,
      "outputs": []
    },
    {
      "cell_type": "code",
      "source": [
        "board.move(0)\n",
        "\n",
        "#3 DOLE\n",
        "#1 gore\n",
        "#2 levo\n",
        "#0 desno\n"
      ],
      "metadata": {
        "id": "5mKRkSHjgY3e"
      },
      "execution_count": 66,
      "outputs": []
    },
    {
      "cell_type": "code",
      "source": [
        "draw_board(board)\n",
        "\n",
        "#teleportuje na nasumicno polje, unutar table koje je dostupno kao pozicija\n",
        "#DOMACI 1.1\n",
        "Xc, Yc = board.row, board.col\n",
        "\n",
        "if isinstance(board.current(), TeleportCell):\n",
        "    print(\"detektujem teleport polje\")\n",
        "\n",
        "    # nova pozicija u opsegu dimenzija table\n",
        "    new_position = (random.randint(0, board.rows_no - 1), random.randint(0, board.cols_no - 1))\n",
        "\n",
        "    #random polje mora biti steppable ako nije nadji novo\n",
        "    while not board[new_position].is_steppable():\n",
        "        new_position = (random.randint(0, board.rows_no - 1), random.randint(0, board.cols_no - 1))\n",
        "\n",
        "    print(f\"idem na polje::::: {new_position}\")\n",
        "    board.set_position(new_position)"
      ],
      "metadata": {
        "colab": {
          "base_uri": "https://localhost:8080/",
          "height": 430
        },
        "id": "YMl50uBq45Wv",
        "outputId": "84dc09e2-ee9c-490d-e070-2b23ab733626"
      },
      "execution_count": 67,
      "outputs": [
        {
          "output_type": "display_data",
          "data": {
            "text/plain": [
              "<Figure size 640x480 with 1 Axes>"
            ],
            "image/png": "[encoded data removed]"
          },
          "metadata": {}
        }
      ]
    },
    {
      "cell_type": "markdown",
      "source": [
        "Dodavanje optimalne vrednosti stanja:\n"
      ],
      "metadata": {
        "id": "GcDbXVon_yIB"
      }
    },
    {
      "cell_type": "code",
      "source": [
        "#DOMACI 1.2\n",
        "#racunanje V vrednosti\n",
        "#koriscena je obicna formula v(s) = h(s,a) + KorektivniFaktor*v(s+)\n",
        "#funkcija run_value_iteration ide kroz svako stanje (polje) u Boardu i racuna mu V\n",
        "#pre toga su V vrednosti po defaultu, 0 za sve\n",
        "#V ne mora biti recnik, moze i niz jer znamo dimenziju boarda\n",
        "#faktor zaboravljanja je 0.9 a zaustavljanje kada se max v ne menja ni za 0.00001\n",
        "\n",
        "#uraditi za q\n",
        "class VVrednost:\n",
        "    def __init__(self, board, gamma=0.9, epsilon=0.00001):\n",
        "        self.board = board\n",
        "        self.gamma = gamma\n",
        "        self.epsilon = epsilon\n",
        "\n",
        "    def find_v_vrednost(self):\n",
        "        V = {}\n",
        "        #V = []\n",
        "        for state in self.board.get_states():\n",
        "            V[state] = 0\n",
        "\n",
        "        while True:\n",
        "            delta = 0\n",
        "            for state in self.board.get_states():\n",
        "                v = V[state]\n",
        "                max_value = -9999 #default neki, moze bilo sta -999999999999\n",
        "                for action in range(4):  #za svako moguce kretanje izmi V vrednost\n",
        "                    self.board.set_position(state) #trenutno se pozocionira na taj state da bi isao gore dole levo desno\n",
        "                    self.board.move(action)\n",
        "                    next_state = self.board.row, self.board.col\n",
        "                    reward = self.board[next_state].get_reward()\n",
        "                    value = reward + self.gamma * V[next_state]\n",
        "                    max_value = max(max_value, value)\n",
        "\n",
        "                V[state] = max_value\n",
        "                delta = max(delta, abs(v - V[state]))\n",
        "\n",
        "            if delta < self.epsilon:\n",
        "                break\n",
        "\n",
        "        return V\n",
        "\n"
      ],
      "metadata": {
        "id": "LwT_VuYGDaEc"
      },
      "execution_count": 68,
      "outputs": []
    },
    {
      "cell_type": "code",
      "source": [
        "#ponovno crtanje table, istim principom kao gore samo sto saljem i V vrednosti\n",
        "#koje sam izracunao prethodno\n",
        "def draw_board_v(board: Board, draw_pos=True, state_values=None):\n",
        "    board_img = np.ones(shape=(board.rows_no, board.cols_no, 3), dtype=np.uint8)\n",
        "    for i in range(board.rows_no):\n",
        "        for j in range(board.cols_no):\n",
        "            if isinstance(board[i, j], RegularCell):\n",
        "                if board[i, j].get_reward() == -1:\n",
        "                    board_img[i, j, :] = [255, 255, 255]\n",
        "                else:\n",
        "                    board_img[i, j, :] = [255, 0, 0]\n",
        "            elif isinstance(board[i, j], WallCell):\n",
        "                board_img[i, j, :] = [0, 0, 0]\n",
        "            elif isinstance(board[i, j], TeleportCell):\n",
        "                board_img[i, j, :] = [0, 100, 0]\n",
        "            else:\n",
        "                board_img[i, j, :] = [0, 0, 255]\n",
        "\n",
        "    plt.imshow(board_img)\n",
        "    if draw_pos:\n",
        "        plt.text(board.col - 0.1, board.row + 0.1, \"X\", fontweight=\"bold\")\n",
        "\n",
        "    #dodavanje v vrednosti za svaki cell\n",
        "    #if state_values:\n",
        "    #if state_values is True\n",
        "    if state_values is not None:\n",
        "        for state, value in state_values.items():\n",
        "            i, j = state  # i i j kao kordinate, kljuc koji povezuje v i board\n",
        "            plt.text(j, i, f'{value:.2f}', ha='center', va='center', fontsize=12, color='black')\n",
        "\n",
        "    plt.show()\n",
        "\n",
        "\n"
      ],
      "metadata": {
        "id": "dHD4ygaRDsp6"
      },
      "execution_count": 69,
      "outputs": []
    },
    {
      "cell_type": "code",
      "source": [
        "v_v = VVrednost(board)\n",
        "V_values = v_v.find_v_vrednost()\n",
        "draw_board_v(board, state_values=V_values)"
      ],
      "metadata": {
        "colab": {
          "base_uri": "https://localhost:8080/",
          "height": 430
        },
        "id": "SQjYlVIN0pr8",
        "outputId": "cef55060-95d4-4784-be7c-cc7dea1d34c8"
      },
      "execution_count": 70,
      "outputs": [
        {
          "output_type": "display_data",
          "data": {
            "text/plain": [
              "<Figure size 640x480 with 1 Axes>"
            ],
            "image/png": "[encoded data removed]"
          },
          "metadata": {}
        }
      ]
    },
    {
      "cell_type": "code",
      "source": [
        "#domaci 1.3 ne radi\n",
        "class VVrednost2:\n",
        "    def __init__(self, board, gamma=0.9, epsilon=0.00001):\n",
        "        self.board = board\n",
        "        self.gamma = gamma\n",
        "        self.epsilon = epsilon\n",
        "\n",
        "    def run_value_iteration_to_terminal(self):\n",
        "        V = {}\n",
        "        for state in self.board.get_states():\n",
        "            V[state] = 0\n",
        "\n",
        "        while True:\n",
        "            delta = 0\n",
        "            for state in self.board.get_states():\n",
        "                v = V[state]\n",
        "                max_value = float('-inf')\n",
        "                for action in range(4):\n",
        "                    self.board.set_position(state)\n",
        "                    self.board.move(action)\n",
        "                    next_state = self.board.row, self.board.col\n",
        "                    reward = self.board[next_state].get_reward()\n",
        "                    value = reward + self.gamma * V[next_state]\n",
        "\n",
        "                    max_value = max(max_value, value)\n",
        "\n",
        "                V[state] = max_value\n",
        "                delta = max(delta, abs(v - V[state]))\n",
        "\n",
        "            if delta < self.epsilon:\n",
        "                break\n",
        "\n",
        "        return V\n",
        "\n",
        "    def policy_to_terminal(self, V_values):\n",
        "        policy = {}\n",
        "        for state in self.board.get_states():\n",
        "            max_value = float('-inf')\n",
        "            best_action = None\n",
        "            for action in range(4):\n",
        "                self.board.set_position(state)\n",
        "                self.board.move(action)\n",
        "                next_state = self.board.row, self.board.col\n",
        "                reward = self.board[next_state].get_reward()\n",
        "                value = reward + self.gamma * V_values[next_state]\n",
        "\n",
        "                if value > max_value:\n",
        "                    max_value = value\n",
        "                    best_action = action\n",
        "\n",
        "            policy[state] = best_action\n",
        "\n",
        "        return policy\n",
        "\n",
        "    def visualize_policy_arrows(self, policy):\n",
        "        board_img = np.ones(shape=(self.board.rows_no, self.board.cols_no, 3), dtype=np.uint8)\n",
        "        for i in range(self.board.rows_no):\n",
        "            for j in range(self.board.cols_no):\n",
        "                if isinstance(self.board[i, j], RegularCell):\n",
        "                    if self.board[i, j].get_reward() == -1:\n",
        "                        board_img[i, j, :] = [255, 255, 255]  # Regular cell WHITE\n",
        "                    else:\n",
        "                        board_img[i, j, :] = [255, 0, 0]  # Regular cell  pena RED\n",
        "                elif isinstance(self.board[i, j], WallCell):\n",
        "                    board_img[i, j, :] = [0, 0, 0]  # Wall cell BLACK\n",
        "                elif isinstance(self.board[i, j], TeleportCell):\n",
        "                    board_img[i, j, :] = [0, 100, 0]  # Teleport cell GREEN\n",
        "                else:\n",
        "                    board_img[i, j, :] = [0, 0, 255]  # Terminal cell BLUE\n",
        "\n",
        "        plt.imshow(board_img)\n",
        "        for state, action in policy.items():\n",
        "            i, j = state\n",
        "            dx, dy = 0, 0\n",
        "            if action == 0:\n",
        "                dy = 1\n",
        "            elif action == 1:\n",
        "                dx = -1\n",
        "            elif action == 2:\n",
        "                dy = -1\n",
        "            elif action == 3:\n",
        "                dx = 1\n",
        "\n",
        "            plt.arrow(j, i, dx * 0.4, dy * 0.4, head_width=0.1, head_length=0.1, fc='grey', ec='grey')\n",
        "\n",
        "        plt.show()\n",
        "\n",
        "vvrednost2 = VVrednost2(board)\n",
        "V_values2 = vvrednost2.run_value_iteration_to_terminal()\n",
        "optimal_policy = vvrednost2.policy_to_terminal(V_values2)\n",
        "vvrednost2.visualize_policy_arrows(optimal_policy)\n",
        "\n",
        "#WALL CRNO\n",
        "#TELEPORT ZELENO\n",
        "#TERMINAL PLAVO"
      ],
      "metadata": {
        "colab": {
          "base_uri": "https://localhost:8080/",
          "height": 430
        },
        "id": "MmJ9AF2Z8jDx",
        "outputId": "be20ae10-0c21-44d4-9f11-c11e07ae9a30"
      },
      "execution_count": 71,
      "outputs": [
        {
          "output_type": "display_data",
          "data": {
            "text/plain": [
              "<Figure size 640x480 with 1 Axes>"
            ],
            "image/png": "[encoded data removed]"
          },
          "metadata": {}
        }
      ]
    },
    {
      "cell_type": "code",
      "source": [],
      "metadata": {
        "colab": {
          "base_uri": "https://localhost:8080/"
        },
        "id": "8ppoMveY-D3W",
        "outputId": "816f372f-2bd3-4308-946e-53c040eb3d69"
      },
      "execution_count": 73,
      "outputs": [
        {
          "output_type": "stream",
          "name": "stdout",
          "text": [
            "From (0, 0) to (0, 1) : >\n",
            "From (0, 1) to (1, 1) : v\n",
            "From (1, 1) to (2, 1) : v\n"
          ]
        }
      ]
    }
  ]
}